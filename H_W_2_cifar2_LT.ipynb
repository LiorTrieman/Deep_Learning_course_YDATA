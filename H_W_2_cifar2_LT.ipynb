{
  "nbformat": 4,
  "nbformat_minor": 0,
  "metadata": {
    "colab": {
      "provenance": []
    },
    "kernelspec": {
      "display_name": "Python 3",
      "language": "python",
      "name": "python3"
    },
    "accelerator": "GPU",
    "widgets": {
      "application/vnd.jupyter.widget-state+json": {
        "233165fa051e4013bae2dc2ba1fcc4f5": {
          "model_module": "@jupyter-widgets/controls",
          "model_name": "HBoxModel",
          "model_module_version": "1.5.0",
          "state": {
            "_dom_classes": [],
            "_model_module": "@jupyter-widgets/controls",
            "_model_module_version": "1.5.0",
            "_model_name": "HBoxModel",
            "_view_count": null,
            "_view_module": "@jupyter-widgets/controls",
            "_view_module_version": "1.5.0",
            "_view_name": "HBoxView",
            "box_style": "",
            "children": [
              "IPY_MODEL_c73d47ce3fa649919dd7328ece4aafb6",
              "IPY_MODEL_65ae021186c94192a8b4649a741475c3",
              "IPY_MODEL_cd06c315aae84bce9480fe6e5eac6699"
            ],
            "layout": "IPY_MODEL_812bcbb82d494f269d8687c84fdf9b4d"
          }
        },
        "c73d47ce3fa649919dd7328ece4aafb6": {
          "model_module": "@jupyter-widgets/controls",
          "model_name": "HTMLModel",
          "model_module_version": "1.5.0",
          "state": {
            "_dom_classes": [],
            "_model_module": "@jupyter-widgets/controls",
            "_model_module_version": "1.5.0",
            "_model_name": "HTMLModel",
            "_view_count": null,
            "_view_module": "@jupyter-widgets/controls",
            "_view_module_version": "1.5.0",
            "_view_name": "HTMLView",
            "description": "",
            "description_tooltip": null,
            "layout": "IPY_MODEL_f1e5daf10a9c47febaa57b1537b6003b",
            "placeholder": "​",
            "style": "IPY_MODEL_87d45ca703c04c7da5644642872d6c8c",
            "value": "100%"
          }
        },
        "65ae021186c94192a8b4649a741475c3": {
          "model_module": "@jupyter-widgets/controls",
          "model_name": "FloatProgressModel",
          "model_module_version": "1.5.0",
          "state": {
            "_dom_classes": [],
            "_model_module": "@jupyter-widgets/controls",
            "_model_module_version": "1.5.0",
            "_model_name": "FloatProgressModel",
            "_view_count": null,
            "_view_module": "@jupyter-widgets/controls",
            "_view_module_version": "1.5.0",
            "_view_name": "ProgressView",
            "bar_style": "success",
            "description": "",
            "description_tooltip": null,
            "layout": "IPY_MODEL_4ffb325364154ccfabda57b3d8ee92d1",
            "max": 170498071,
            "min": 0,
            "orientation": "horizontal",
            "style": "IPY_MODEL_091e726aba4c483eadbef2b9de71c25a",
            "value": 170498071
          }
        },
        "cd06c315aae84bce9480fe6e5eac6699": {
          "model_module": "@jupyter-widgets/controls",
          "model_name": "HTMLModel",
          "model_module_version": "1.5.0",
          "state": {
            "_dom_classes": [],
            "_model_module": "@jupyter-widgets/controls",
            "_model_module_version": "1.5.0",
            "_model_name": "HTMLModel",
            "_view_count": null,
            "_view_module": "@jupyter-widgets/controls",
            "_view_module_version": "1.5.0",
            "_view_name": "HTMLView",
            "description": "",
            "description_tooltip": null,
            "layout": "IPY_MODEL_5b80c7279a674d37940d40185f6e5b66",
            "placeholder": "​",
            "style": "IPY_MODEL_1f912b8c714d4038bcaa19d12151d406",
            "value": " 170498071/170498071 [00:03&lt;00:00, 45124323.68it/s]"
          }
        },
        "812bcbb82d494f269d8687c84fdf9b4d": {
          "model_module": "@jupyter-widgets/base",
          "model_name": "LayoutModel",
          "model_module_version": "1.2.0",
          "state": {
            "_model_module": "@jupyter-widgets/base",
            "_model_module_version": "1.2.0",
            "_model_name": "LayoutModel",
            "_view_count": null,
            "_view_module": "@jupyter-widgets/base",
            "_view_module_version": "1.2.0",
            "_view_name": "LayoutView",
            "align_content": null,
            "align_items": null,
            "align_self": null,
            "border": null,
            "bottom": null,
            "display": null,
            "flex": null,
            "flex_flow": null,
            "grid_area": null,
            "grid_auto_columns": null,
            "grid_auto_flow": null,
            "grid_auto_rows": null,
            "grid_column": null,
            "grid_gap": null,
            "grid_row": null,
            "grid_template_areas": null,
            "grid_template_columns": null,
            "grid_template_rows": null,
            "height": null,
            "justify_content": null,
            "justify_items": null,
            "left": null,
            "margin": null,
            "max_height": null,
            "max_width": null,
            "min_height": null,
            "min_width": null,
            "object_fit": null,
            "object_position": null,
            "order": null,
            "overflow": null,
            "overflow_x": null,
            "overflow_y": null,
            "padding": null,
            "right": null,
            "top": null,
            "visibility": null,
            "width": null
          }
        },
        "f1e5daf10a9c47febaa57b1537b6003b": {
          "model_module": "@jupyter-widgets/base",
          "model_name": "LayoutModel",
          "model_module_version": "1.2.0",
          "state": {
            "_model_module": "@jupyter-widgets/base",
            "_model_module_version": "1.2.0",
            "_model_name": "LayoutModel",
            "_view_count": null,
            "_view_module": "@jupyter-widgets/base",
            "_view_module_version": "1.2.0",
            "_view_name": "LayoutView",
            "align_content": null,
            "align_items": null,
            "align_self": null,
            "border": null,
            "bottom": null,
            "display": null,
            "flex": null,
            "flex_flow": null,
            "grid_area": null,
            "grid_auto_columns": null,
            "grid_auto_flow": null,
            "grid_auto_rows": null,
            "grid_column": null,
            "grid_gap": null,
            "grid_row": null,
            "grid_template_areas": null,
            "grid_template_columns": null,
            "grid_template_rows": null,
            "height": null,
            "justify_content": null,
            "justify_items": null,
            "left": null,
            "margin": null,
            "max_height": null,
            "max_width": null,
            "min_height": null,
            "min_width": null,
            "object_fit": null,
            "object_position": null,
            "order": null,
            "overflow": null,
            "overflow_x": null,
            "overflow_y": null,
            "padding": null,
            "right": null,
            "top": null,
            "visibility": null,
            "width": null
          }
        },
        "87d45ca703c04c7da5644642872d6c8c": {
          "model_module": "@jupyter-widgets/controls",
          "model_name": "DescriptionStyleModel",
          "model_module_version": "1.5.0",
          "state": {
            "_model_module": "@jupyter-widgets/controls",
            "_model_module_version": "1.5.0",
            "_model_name": "DescriptionStyleModel",
            "_view_count": null,
            "_view_module": "@jupyter-widgets/base",
            "_view_module_version": "1.2.0",
            "_view_name": "StyleView",
            "description_width": ""
          }
        },
        "4ffb325364154ccfabda57b3d8ee92d1": {
          "model_module": "@jupyter-widgets/base",
          "model_name": "LayoutModel",
          "model_module_version": "1.2.0",
          "state": {
            "_model_module": "@jupyter-widgets/base",
            "_model_module_version": "1.2.0",
            "_model_name": "LayoutModel",
            "_view_count": null,
            "_view_module": "@jupyter-widgets/base",
            "_view_module_version": "1.2.0",
            "_view_name": "LayoutView",
            "align_content": null,
            "align_items": null,
            "align_self": null,
            "border": null,
            "bottom": null,
            "display": null,
            "flex": null,
            "flex_flow": null,
            "grid_area": null,
            "grid_auto_columns": null,
            "grid_auto_flow": null,
            "grid_auto_rows": null,
            "grid_column": null,
            "grid_gap": null,
            "grid_row": null,
            "grid_template_areas": null,
            "grid_template_columns": null,
            "grid_template_rows": null,
            "height": null,
            "justify_content": null,
            "justify_items": null,
            "left": null,
            "margin": null,
            "max_height": null,
            "max_width": null,
            "min_height": null,
            "min_width": null,
            "object_fit": null,
            "object_position": null,
            "order": null,
            "overflow": null,
            "overflow_x": null,
            "overflow_y": null,
            "padding": null,
            "right": null,
            "top": null,
            "visibility": null,
            "width": null
          }
        },
        "091e726aba4c483eadbef2b9de71c25a": {
          "model_module": "@jupyter-widgets/controls",
          "model_name": "ProgressStyleModel",
          "model_module_version": "1.5.0",
          "state": {
            "_model_module": "@jupyter-widgets/controls",
            "_model_module_version": "1.5.0",
            "_model_name": "ProgressStyleModel",
            "_view_count": null,
            "_view_module": "@jupyter-widgets/base",
            "_view_module_version": "1.2.0",
            "_view_name": "StyleView",
            "bar_color": null,
            "description_width": ""
          }
        },
        "5b80c7279a674d37940d40185f6e5b66": {
          "model_module": "@jupyter-widgets/base",
          "model_name": "LayoutModel",
          "model_module_version": "1.2.0",
          "state": {
            "_model_module": "@jupyter-widgets/base",
            "_model_module_version": "1.2.0",
            "_model_name": "LayoutModel",
            "_view_count": null,
            "_view_module": "@jupyter-widgets/base",
            "_view_module_version": "1.2.0",
            "_view_name": "LayoutView",
            "align_content": null,
            "align_items": null,
            "align_self": null,
            "border": null,
            "bottom": null,
            "display": null,
            "flex": null,
            "flex_flow": null,
            "grid_area": null,
            "grid_auto_columns": null,
            "grid_auto_flow": null,
            "grid_auto_rows": null,
            "grid_column": null,
            "grid_gap": null,
            "grid_row": null,
            "grid_template_areas": null,
            "grid_template_columns": null,
            "grid_template_rows": null,
            "height": null,
            "justify_content": null,
            "justify_items": null,
            "left": null,
            "margin": null,
            "max_height": null,
            "max_width": null,
            "min_height": null,
            "min_width": null,
            "object_fit": null,
            "object_position": null,
            "order": null,
            "overflow": null,
            "overflow_x": null,
            "overflow_y": null,
            "padding": null,
            "right": null,
            "top": null,
            "visibility": null,
            "width": null
          }
        },
        "1f912b8c714d4038bcaa19d12151d406": {
          "model_module": "@jupyter-widgets/controls",
          "model_name": "DescriptionStyleModel",
          "model_module_version": "1.5.0",
          "state": {
            "_model_module": "@jupyter-widgets/controls",
            "_model_module_version": "1.5.0",
            "_model_name": "DescriptionStyleModel",
            "_view_count": null,
            "_view_module": "@jupyter-widgets/base",
            "_view_module_version": "1.2.0",
            "_view_name": "StyleView",
            "description_width": ""
          }
        }
      }
    }
  },
  "cells": [
    {
      "metadata": {
        "id": "BU6-Ftb3b1r8"
      },
      "cell_type": "markdown",
      "source": [
        "# Implementing a Neural Network for CIFAR dataset\n",
        "In this exercise, you should change H.W_1 to work on the CIFAR dataset.\n",
        "\n",
        "CIFAR is a dataset that consists of 60,000 32x32 colour images in 10 classes (airplane, automobile, bird, cat, deer, dog, frog, horse, ship, truck), with 6000 images per class.\n",
        "\n",
        "We will have the same components as were in the previous exercise:\n",
        "- Loading the data and visualize some of the images\n",
        "- Training the model. Instead of loading a pre-trained model, we will define a new very basic architecture.\n"
      ]
    },
    {
      "metadata": {
        "id": "ovTPl1D_b1sB"
      },
      "cell_type": "markdown",
      "source": [
        "## 1) Loading CIFAR dataset"
      ]
    },
    {
      "cell_type": "markdown",
      "source": [
        "You should load the CIFAR dataset. You can use [the pytorch CIFAR tutorial](https://pytorch.org/tutorials/beginner/blitz/cifar10_tutorial.html). You should define a dictionary of ``dataloaders``. For now, no need to define pre-process to the data. \n",
        "Please create a dataloaders disctionary ``{'train','val'}``\n",
        "\n",
        "You can use batch_size = 128"
      ],
      "metadata": {
        "id": "3MnBLXdCPtzB"
      }
    },
    {
      "cell_type": "code",
      "source": [
        "%matplotlib inline"
      ],
      "metadata": {
        "id": "z7VJRjQnLeuj"
      },
      "execution_count": null,
      "outputs": []
    },
    {
      "cell_type": "code",
      "source": [
        "import warnings\n",
        "warnings.filterwarnings(\"ignore\", category=UserWarning)\n",
        "from __future__ import print_function, division\n",
        "\n",
        "import numpy as np\n",
        "import matplotlib.pyplot as plt\n",
        "import time\n",
        "import os\n",
        "import copy\n",
        "plt.ion()   # interactive mode\n",
        "import torch\n",
        "import torch.nn as nn\n",
        "import torch.optim as optim\n",
        "from torch.optim import lr_scheduler\n",
        "import torchvision\n",
        "from torchvision import datasets, models, transforms\n",
        "from sklearn.metrics import accuracy_score\n",
        "import torchvision.transforms as transforms"
      ],
      "metadata": {
        "id": "nEJY49HrLiz5"
      },
      "execution_count": null,
      "outputs": []
    },
    {
      "metadata": {
        "id": "8bAzo6A_b1sC"
      },
      "cell_type": "code",
      "source": [
        "class_names = ['plane', 'car', 'bird', 'cat', 'deer', 'dog', 'frog', 'horse', 'ship', 'truck']"
      ],
      "execution_count": null,
      "outputs": []
    },
    {
      "cell_type": "code",
      "source": [
        "transform = transforms.Compose(\n",
        "    [transforms.ToTensor(),\n",
        "     transforms.Normalize((0.5, 0.5, 0.5), (0.5, 0.5, 0.5))])\n",
        "batch_size = 128 # as requesed\n",
        "\n",
        "trainset = torchvision.datasets.CIFAR10(root='./data', train=True,\n",
        "                                        download=True, transform=transform)\n",
        "trainloader = torch.utils.data.DataLoader(trainset, batch_size=batch_size,\n",
        "                                          shuffle=True, num_workers=2)\n",
        "\n",
        "testset = torchvision.datasets.CIFAR10(root='./data', train=False,\n",
        "                                       download=True, transform=transform)\n",
        "testloader = torch.utils.data.DataLoader(testset, batch_size=batch_size,\n",
        "                                         shuffle=False, num_workers=2)\n",
        "\n",
        "dataloaders = {\n",
        "    'train': trainloader,\n",
        "    'val': testloader\n",
        "  }\n",
        "\n",
        "dataset_sizes = {\n",
        "    'train': len(trainset),\n",
        "    'val': len(testset)\n",
        "  }"
      ],
      "metadata": {
        "colab": {
          "base_uri": "https://localhost:8080/",
          "height": 101,
          "referenced_widgets": [
            "233165fa051e4013bae2dc2ba1fcc4f5",
            "c73d47ce3fa649919dd7328ece4aafb6",
            "65ae021186c94192a8b4649a741475c3",
            "cd06c315aae84bce9480fe6e5eac6699",
            "812bcbb82d494f269d8687c84fdf9b4d",
            "f1e5daf10a9c47febaa57b1537b6003b",
            "87d45ca703c04c7da5644642872d6c8c",
            "4ffb325364154ccfabda57b3d8ee92d1",
            "091e726aba4c483eadbef2b9de71c25a",
            "5b80c7279a674d37940d40185f6e5b66",
            "1f912b8c714d4038bcaa19d12151d406"
          ]
        },
        "id": "2zJ7hO5oL5qx",
        "outputId": "0a769a3d-9234-45d1-95a2-b4c78f2fa7b7"
      },
      "execution_count": null,
      "outputs": [
        {
          "output_type": "stream",
          "name": "stdout",
          "text": [
            "Downloading https://www.cs.toronto.edu/~kriz/cifar-10-python.tar.gz to ./data/cifar-10-python.tar.gz\n"
          ]
        },
        {
          "output_type": "display_data",
          "data": {
            "text/plain": [
              "  0%|          | 0/170498071 [00:00<?, ?it/s]"
            ],
            "application/vnd.jupyter.widget-view+json": {
              "version_major": 2,
              "version_minor": 0,
              "model_id": "233165fa051e4013bae2dc2ba1fcc4f5"
            }
          },
          "metadata": {}
        },
        {
          "output_type": "stream",
          "name": "stdout",
          "text": [
            "Extracting ./data/cifar-10-python.tar.gz to ./data\n",
            "Files already downloaded and verified\n"
          ]
        }
      ]
    },
    {
      "cell_type": "code",
      "source": [
        "# Check for the availability of a GPU, and use CPU otherwise\n",
        "device = torch.device(\"cuda:0\" if torch.cuda.is_available() else \"cpu\")\n",
        "device"
      ],
      "metadata": {
        "id": "yRRXBXkvpAwv",
        "colab": {
          "base_uri": "https://localhost:8080/"
        },
        "outputId": "c1770a76-d86a-42aa-93d0-21709521f9c7"
      },
      "execution_count": null,
      "outputs": [
        {
          "output_type": "execute_result",
          "data": {
            "text/plain": [
              "device(type='cuda', index=0)"
            ]
          },
          "metadata": {},
          "execution_count": 5
        }
      ]
    },
    {
      "cell_type": "markdown",
      "source": [
        "**If you manage to load the CIFAR data correctly, you should run the next three cells and see some of the images.**"
      ],
      "metadata": {
        "id": "4AZrcZPki7A_"
      }
    },
    {
      "cell_type": "markdown",
      "source": [
        "\n",
        "\n",
        "```\n",
        "# This is formatted as code\n",
        "```\n",
        "\n",
        "## Visualize some of the training images"
      ],
      "metadata": {
        "id": "sfq03MwaTJSQ"
      }
    },
    {
      "cell_type": "markdown",
      "source": [
        "In this dataset the size of the images are 32x32. \n",
        "\n",
        "It is important to visualize the data in order to see that we load them correctly (maybe we need to divide by 255? should we make channel permutations?) \n",
        "\n",
        "The code below was taken from H.W_1 school solution"
      ],
      "metadata": {
        "id": "A2oILjGNTVhP"
      }
    },
    {
      "cell_type": "markdown",
      "source": [
        "Answer: no need to divid by 255, and no need in channel perfumtation"
      ],
      "metadata": {
        "id": "e8QwiLNH-0hp"
      }
    },
    {
      "cell_type": "code",
      "source": [
        "inputs, classes = next(iter(dataloaders['train']))\n",
        "inputs = inputs[0:16]\n",
        "classes = classes[0:16]"
      ],
      "metadata": {
        "id": "va_zicFdQi92"
      },
      "execution_count": null,
      "outputs": []
    },
    {
      "cell_type": "code",
      "source": [
        "torch.max(inputs[0])"
      ],
      "metadata": {
        "colab": {
          "base_uri": "https://localhost:8080/"
        },
        "id": "QqJRa5LDEw3b",
        "outputId": "499cbe2f-7702-40f7-b919-4ef54463d2c8"
      },
      "execution_count": null,
      "outputs": [
        {
          "output_type": "execute_result",
          "data": {
            "text/plain": [
              "tensor(1.)"
            ]
          },
          "metadata": {},
          "execution_count": 7
        }
      ]
    },
    {
      "cell_type": "code",
      "source": [
        "torch.min(inputs[0])"
      ],
      "metadata": {
        "colab": {
          "base_uri": "https://localhost:8080/"
        },
        "id": "HdQrIOCaFv65",
        "outputId": "1222d8fa-3417-4ffb-f1bb-3b3ab5b12978"
      },
      "execution_count": null,
      "outputs": [
        {
          "output_type": "execute_result",
          "data": {
            "text/plain": [
              "tensor(-1.)"
            ]
          },
          "metadata": {},
          "execution_count": 8
        }
      ]
    },
    {
      "metadata": {
        "id": "UkqNNRbOb1sF"
      },
      "cell_type": "code",
      "source": [
        "import numpy as np\n",
        "import matplotlib.pyplot as plt\n",
        "def imshow(inp, title=None):\n",
        "    \"\"\"Imshow for Tensor.\"\"\"\n",
        "    inp = inp.numpy().transpose((1, 2, 0))\n",
        "    inp = np.clip(inp, 0, 1)\n",
        "    fig = plt.figure(figsize=(5,3), dpi=300)\n",
        "    plt.imshow(inp)\n",
        "    if title is not None:\n",
        "       plt.title(title, fontsize=5)\n",
        "    plt.pause(0.001)  # pause a bit so that plots are updated"
      ],
      "execution_count": null,
      "outputs": []
    },
    {
      "cell_type": "code",
      "source": [
        "# function to plot accuracy\n",
        "def plot_acc(epoch_acc_ls_train,epoch_acc_ls_val ):\n",
        "  plt.figure()\n",
        "  plt.title(\"epoch_acc train & validation\")\n",
        "  plt.xlabel(\"epoch num\")\n",
        "  plt.plot(epoch_acc_ls_train,'-*')\n",
        "  plt.plot(epoch_acc_ls_val,'-*')\n",
        "  plt.legend([\"epoch_acc_ls_train\",\"epoch_acc_ls_val\"])\n"
      ],
      "metadata": {
        "id": "68S7XVbPqAY-"
      },
      "execution_count": null,
      "outputs": []
    },
    {
      "cell_type": "code",
      "source": [
        "# function to plot loss\n",
        "def plot_loss(epoch_loss_ls_train,epoch_loss_ls_val):\n",
        "    plt.figure()\n",
        "    plt.title(\"epoch_loss train & validation\")\n",
        "    plt.xlabel(\"epoch num\")\n",
        "    plt.plot(epoch_loss_ls_train,'-*')\n",
        "    plt.plot(epoch_loss_ls_val,'-*')\n",
        "    plt.legend([\"epoch_loss_ls_train\",\"epoch_loss_ls_val\"])\n",
        "\n"
      ],
      "metadata": {
        "id": "f9JkNbOXqC0x"
      },
      "execution_count": null,
      "outputs": []
    },
    {
      "cell_type": "code",
      "source": [
        "# Make a grid from batch\n",
        "out = torchvision.utils.make_grid(inputs, nrow=8)\n",
        "imshow(out, title='\\n'.join([class_names[x] for x in classes]))"
      ],
      "metadata": {
        "id": "P3RLKeR5TiKI",
        "colab": {
          "base_uri": "https://localhost:8080/",
          "height": 834
        },
        "outputId": "775775d2-ecd2-4e79-d3f3-5d668823fe98"
      },
      "execution_count": null,
      "outputs": [
        {
          "output_type": "display_data",
          "data": {
            "text/plain": [
              "<Figure size 1500x900 with 1 Axes>"
            ],
            "image/png": "[encoded data removed]"
          },
          "metadata": {
            "needs_background": "light"
          }
        }
      ]
    },
    {
      "metadata": {
        "id": "3hs_Z3Pib1sN"
      },
      "cell_type": "markdown",
      "source": [
        "## A 2-layer Neural Network"
      ]
    },
    {
      "metadata": {
        "id": "HN8tSjQFb1sO"
      },
      "cell_type": "markdown",
      "source": [
        "We will define 2-fully-connected-layer network using Sequential module. We have two hidden layers: the first one has 100 neurons and the second one has 20 neurons. The last layer is the output that has 10 elements.\n",
        "\n",
        "Please pay attention that we take images after flattening (line 15 below)."
      ]
    },
    {
      "metadata": {
        "id": "yNhW2McRb1sP"
      },
      "cell_type": "code",
      "source": [
        "class NeuralNetwork(nn.Module):\n",
        "    def __init__(self):\n",
        "        super(NeuralNetwork, self).__init__()\n",
        "        self.flatten = nn.Flatten()\n",
        "        self.linear_relu_stack = nn.Sequential(\n",
        "            nn.Linear(32*32*3, 100),\n",
        "            nn.ReLU(),\n",
        "            nn.Linear(100, 20),\n",
        "            nn.ReLU(),\n",
        "            nn.Linear(20, 10),\n",
        "        )\n",
        "\n",
        "\n",
        "    def forward(self, x):\n",
        "        x = self.flatten(x)\n",
        "        logits = self.linear_relu_stack(x)\n",
        "        return logits"
      ],
      "execution_count": null,
      "outputs": []
    },
    {
      "cell_type": "code",
      "source": [
        "model = NeuralNetwork().to(device)\n",
        "print(model)"
      ],
      "metadata": {
        "id": "pf8pYxtDosaA",
        "colab": {
          "base_uri": "https://localhost:8080/"
        },
        "outputId": "75bc2124-770e-4c39-e5d0-bca0e17f4aea"
      },
      "execution_count": null,
      "outputs": [
        {
          "output_type": "stream",
          "name": "stdout",
          "text": [
            "NeuralNetwork(\n",
            "  (flatten): Flatten(start_dim=1, end_dim=-1)\n",
            "  (linear_relu_stack): Sequential(\n",
            "    (0): Linear(in_features=3072, out_features=100, bias=True)\n",
            "    (1): ReLU()\n",
            "    (2): Linear(in_features=100, out_features=20, bias=True)\n",
            "    (3): ReLU()\n",
            "    (4): Linear(in_features=20, out_features=10, bias=True)\n",
            "  )\n",
            ")\n"
          ]
        }
      ]
    },
    {
      "cell_type": "markdown",
      "source": [
        "**Pay attention, when you train a network and change something in the parameters, the data, data loaders, image transform, optimizations and more...you should load the model again so it will start from random weights and not from the last training**.\n",
        "\n",
        "**You should run again the line** ``model = NeuralNetwork().to(device)``"
      ],
      "metadata": {
        "id": "1yLN2disJaYe"
      }
    },
    {
      "cell_type": "markdown",
      "source": [
        "\n",
        "The next two cells (defining the loss and the training loop) were copied from last exercise. \n"
      ],
      "metadata": {
        "id": "h26PigiUkWFk"
      }
    },
    {
      "cell_type": "code",
      "source": [
        "# If a GPU is available, make the model use it\n",
        "model = model.to(device)\n",
        "\n",
        "# For a multi-class problem, you'd usually prefer CrossEntropyLoss()\n",
        "criterion = nn.CrossEntropyLoss()\n",
        "\n",
        "# Use Stochastic Gradient Descent as the optimizer, with a learning rate of 0.0001 and momentum\n",
        "optimizer_ft = optim.SGD(model.parameters(), lr=0.0001, momentum=0.9)\n",
        "\n",
        "# Decay LR by a factor of 0.1 every 7 epochs\n",
        "exp_lr_scheduler = lr_scheduler.StepLR(optimizer_ft, step_size=7, gamma=0.1)\n",
        "\n",
        "num_epochs = 10"
      ],
      "metadata": {
        "id": "wXtEcNnKo6Mt"
      },
      "execution_count": null,
      "outputs": []
    },
    {
      "cell_type": "code",
      "source": [
        "def train_model(model, dataloaders, criterion, optimizer, scheduler, num_epochs=25):\n",
        "    since = time.time()\n",
        "\n",
        "    # Init variables that will save info about the best model\n",
        "    best_model_wts = copy.deepcopy(model.state_dict())\n",
        "    best_acc = 0.0\n",
        "\n",
        "    for epoch in range(num_epochs):\n",
        "        print('Epoch {}/{}'.format(epoch, num_epochs - 1))\n",
        "        print('-' * 10)\n",
        "\n",
        "        # Each epoch has a training and validation phase\n",
        "        for phase in ['train', 'val']:\n",
        "            if phase == 'train':\n",
        "                # Set model to training mode. \n",
        "                model.train()  \n",
        "            else:\n",
        "                # Set model to evaluate mode. In evaluate mode, we don't perform backprop and don't need to keep the gradients\n",
        "                model.eval()   \n",
        "\n",
        "            running_loss = 0.0\n",
        "            running_corrects = 0\n",
        "\n",
        "            # Iterate over data\n",
        "            for inputs, labels in dataloaders[phase]:\n",
        "                # Prepare the inputs for GPU/CPU\n",
        "                inputs = inputs.to(device)\n",
        "                labels = labels.to(device)\n",
        "\n",
        "                # zero the parameter gradients\n",
        "                optimizer.zero_grad()\n",
        "\n",
        "                # ===== forward pass ======\n",
        "                with torch.set_grad_enabled(phase=='train'):\n",
        "                    # If we're in train mode, we'll track the gradients to allow back-propagation\n",
        "                    outputs = model(inputs) # apply the model to the inputs. The output is the softmax probability of each class\n",
        "                    _, preds = torch.max(outputs, 1) # \n",
        "                    loss = criterion(outputs, labels)\n",
        "\n",
        "                    # ==== backward pass + optimizer step ====\n",
        "                    # This runs only in the training phase\n",
        "                    if phase == 'train':\n",
        "                        loss.backward() # Perform a step in the opposite direction of the gradient\n",
        "                        optimizer.step() # Adapt the optimizer\n",
        "\n",
        "                # Collect statistics\n",
        "                running_loss += loss.item() * inputs.size(0)\n",
        "                running_corrects += torch.sum(preds == labels.data)\n",
        "                \n",
        "            if phase == 'train':\n",
        "                # Adjust the learning rate based on the scheduler\n",
        "                scheduler.step()  \n",
        "\n",
        "            epoch_loss = running_loss / dataset_sizes[phase]\n",
        "            epoch_acc = running_corrects.double() / dataset_sizes[phase]\n",
        "\n",
        "            print(f'{phase} Loss: {epoch_loss:.4f} Acc: {epoch_acc:.4f}')\n",
        "\n",
        "            # Keep the results of the best model so far\n",
        "            if phase == 'val' and epoch_acc > best_acc:\n",
        "                best_acc = epoch_acc\n",
        "                # deepcopy the model\n",
        "                best_model_wts = copy.deepcopy(model.state_dict())\n",
        "\n",
        "        print()\n",
        "\n",
        "    time_elapsed = time.time() - since\n",
        "    print(f'Training complete in {(time_elapsed // 60):.0f}m {(time_elapsed % 60):.0f}s')\n",
        "    print(f'Best val Acc: {best_acc:4f}')\n",
        "\n",
        "    # load best model weights\n",
        "    model.load_state_dict(best_model_wts)\n",
        "    return model"
      ],
      "metadata": {
        "id": "vntk-kp5psrx"
      },
      "execution_count": null,
      "outputs": []
    },
    {
      "cell_type": "code",
      "source": [
        "# train\n",
        "model = train_model(model, \n",
        "                    dataloaders,\n",
        "                       criterion, \n",
        "                       optimizer_ft, \n",
        "                       exp_lr_scheduler,\n",
        "                       num_epochs=num_epochs)\n"
      ],
      "metadata": {
        "id": "mBSK3TR9pyWs",
        "colab": {
          "base_uri": "https://localhost:8080/"
        },
        "outputId": "c6918b4b-3abf-45d9-adba-f772442624b1"
      },
      "execution_count": null,
      "outputs": [
        {
          "output_type": "stream",
          "name": "stdout",
          "text": [
            "Epoch 0/9\n",
            "----------\n",
            "train Loss: 2.2938 Acc: 0.1244\n",
            "val Loss: 2.2783 Acc: 0.1519\n",
            "\n",
            "Epoch 1/9\n",
            "----------\n",
            "train Loss: 2.2654 Acc: 0.1587\n",
            "val Loss: 2.2520 Acc: 0.1678\n",
            "\n",
            "Epoch 2/9\n",
            "----------\n",
            "train Loss: 2.2405 Acc: 0.1752\n",
            "val Loss: 2.2274 Acc: 0.1844\n",
            "\n",
            "Epoch 3/9\n",
            "----------\n",
            "train Loss: 2.2160 Acc: 0.1920\n",
            "val Loss: 2.2020 Acc: 0.2009\n",
            "\n",
            "Epoch 4/9\n",
            "----------\n",
            "train Loss: 2.1901 Acc: 0.2081\n",
            "val Loss: 2.1749 Acc: 0.2175\n",
            "\n",
            "Epoch 5/9\n",
            "----------\n",
            "train Loss: 2.1628 Acc: 0.2240\n",
            "val Loss: 2.1467 Acc: 0.2357\n",
            "\n",
            "Epoch 6/9\n",
            "----------\n",
            "train Loss: 2.1346 Acc: 0.2404\n",
            "val Loss: 2.1179 Acc: 0.2497\n",
            "\n",
            "Epoch 7/9\n",
            "----------\n",
            "train Loss: 2.1189 Acc: 0.2503\n",
            "val Loss: 2.1150 Acc: 0.2503\n",
            "\n",
            "Epoch 8/9\n",
            "----------\n",
            "train Loss: 2.1160 Acc: 0.2521\n",
            "val Loss: 2.1122 Acc: 0.2524\n",
            "\n",
            "Epoch 9/9\n",
            "----------\n",
            "train Loss: 2.1132 Acc: 0.2536\n",
            "val Loss: 2.1093 Acc: 0.2543\n",
            "\n",
            "Training complete in 2m 54s\n",
            "Best val Acc: 0.254300\n"
          ]
        }
      ]
    },
    {
      "cell_type": "markdown",
      "source": [
        "You can continue after you see your model learns something (the training loss is decreasing)."
      ],
      "metadata": {
        "id": "hhsQNyxbkeOU"
      }
    },
    {
      "cell_type": "markdown",
      "source": [
        "# 2) Losses in Pytorch\n",
        "\n",
        "Now that you managed to run the training loop, let's understand the loss definition. PyTorch provides losses such as cross-entropy loss (`nn.CrossEntropyLoss`) that has just been used. You'll usually see the loss assigned to `criterion`. For classification problems such as CIFAR, we use the softmax function to predict class probabilities. With a softmax output, we need to use cross-entropy as the loss. To actually calculate the loss, we first define the criterion, then pass in it the output of your network and the correct labels.\n",
        "\n",
        "*Important note!* Look at [the documentation for `nn.CrossEntropyLoss`](https://pytorch.org/docs/stable/generated/torch.nn.CrossEntropyLoss.html#torch.nn.CrossEntropyLoss),\n",
        "\n",
        "> This criterion combines `nn.LogSoftmax()` and `nn.NLLLoss()` in one single class.\n",
        ">\n",
        "> The input is expected to contain scores for each class.\n",
        "\n",
        "It means that we need to pass in `nn.CrossEntropyLoss` the raw output of our network into, not the output of the softmax function. This raw output is usually called the *logits* or *scores*. We use the logits because softmax gives you probabilities, which will often be very close to zero or one but floating-point numbers can't accurately represent values near zero or one ([read more here](https://docs.python.org/3/tutorial/floatingpoint.html)). It's usually better to avoid doing calculations with probabilities, and generally we use log-probabilities.\n",
        "\n",
        "**Exercise:** Change the network above to output the log-softmax and calculate the loss using the negative log-likelihood loss. Note that for `nn.LogSoftmax` and `F.log_softmax` you'll need to set the `dim` keyword argument appropriately. `dim=0` calculates softmax across the rows, so each column sums to 1, while `dim=1` calculates across the columns so each row sums to 1. Think about what you want the output to be and choose `dim` appropriately.\n"
      ],
      "metadata": {
        "id": "cdlcSnVD3Nw-"
      }
    },
    {
      "cell_type": "code",
      "source": [
        "## updating the network and loss function:\n",
        "\n",
        "class NeuralNetwork(nn.Module):\n",
        "    def __init__(self):\n",
        "        super(NeuralNetwork, self).__init__()\n",
        "        self.flatten = nn.Flatten()\n",
        "        self.linear_relu_stack = nn.Sequential(\n",
        "            nn.Linear(32*32*3, 100),\n",
        "            nn.ReLU(),\n",
        "            nn.Linear(100, 20),\n",
        "            nn.ReLU(),\n",
        "            nn.Linear(20, 10),\n",
        "        #    nn.LogSoftmax(dim=1)  # add a LogSoftmax layer\n",
        "        )\n",
        "        self.logsoftloss = nn.LogSoftmax(dim=1)    #<-\n",
        "\n",
        "\n",
        "# In the forward method, the LogSoftmax layer applies the log softmax function along the dimension 1,\n",
        "# which represents the classes. The output of this layer is the log probability of each class.\n",
        "    def forward(self, x):\n",
        "        x = self.flatten(x)\n",
        "        logits = self.linear_relu_stack(x)\n",
        "        log_probs = self.logsoftloss(logits)    #<-\n",
        "        return log_probs"
      ],
      "metadata": {
        "id": "079m95lo5JZ6"
      },
      "execution_count": null,
      "outputs": []
    },
    {
      "cell_type": "code",
      "source": [
        "#init model\n",
        "model = NeuralNetwork().to(device)\n",
        "print(model)"
      ],
      "metadata": {
        "id": "zzxDTs5wP1h1",
        "colab": {
          "base_uri": "https://localhost:8080/"
        },
        "outputId": "da175ded-9244-4ebc-ac21-16f110e16090"
      },
      "execution_count": null,
      "outputs": [
        {
          "output_type": "stream",
          "name": "stdout",
          "text": [
            "NeuralNetwork(\n",
            "  (flatten): Flatten(start_dim=1, end_dim=-1)\n",
            "  (linear_relu_stack): Sequential(\n",
            "    (0): Linear(in_features=3072, out_features=100, bias=True)\n",
            "    (1): ReLU()\n",
            "    (2): Linear(in_features=100, out_features=20, bias=True)\n",
            "    (3): ReLU()\n",
            "    (4): Linear(in_features=20, out_features=10, bias=True)\n",
            "  )\n",
            "  (logsoftloss): LogSoftmax(dim=1)\n",
            ")\n"
          ]
        }
      ]
    },
    {
      "cell_type": "code",
      "source": [
        "# define the criterion:\n",
        "# change the criterion to calculate negative log-likelihood loss\n",
        "criterion = nn.NLLLoss()\n",
        "\n",
        "# If a GPU is available, make the model use it\n",
        "model = model.to(device)\n",
        "\n",
        "# Use Stochastic Gradient Descent as the optimizer, with a learning rate of 0.0001 and momentum\n",
        "optimizer_ft = optim.SGD(model.parameters(), lr=0.0001, momentum=0.9)\n",
        "\n",
        "# Decay LR by a factor of 0.1 every 7 epochs\n",
        "exp_lr_scheduler = lr_scheduler.StepLR(optimizer_ft, step_size=7, gamma=0.1)\n",
        "\n",
        "num_epochs = 10"
      ],
      "metadata": {
        "id": "sKMCz8HnTpct"
      },
      "execution_count": null,
      "outputs": []
    },
    {
      "metadata": {
        "id": "lzRkHaYhb1sq"
      },
      "cell_type": "markdown",
      "source": [
        "# 3) Debug the training\n",
        "With the default parameters we provided above, you should get a validation accuracy of about 0.2 on the validation set. This isn't very good.\n",
        "\n",
        "One strategy for getting insight into what's wrong is to plot the loss function and the accuracies on the training and validation sets during optimization. \n",
        "\n",
        "**Exersice:** Write this visualization here.\n",
        "(you can copy your solution from last exercies)\n"
      ]
    },
    {
      "cell_type": "code",
      "source": [
        "# Adapt the code above to plot the loss and the accuracy every epoch. Show both the training and the validation performance.  \n",
        "\n",
        "def train_model_NL(model, dataloaders, criterion, optimizer, scheduler, num_epochs=5):\n",
        "    since = time.time()\n",
        "\n",
        "    # Init variables that will save info about the best model\n",
        "    best_model_wts = copy.deepcopy(model.state_dict())\n",
        "    best_acc = 0.0\n",
        "    epoch_loss_ls_val = []\n",
        "    epoch_acc_ls_val = []\n",
        "    epoch_loss_ls_train = []\n",
        "    epoch_acc_ls_train = []\n",
        "\n",
        "    for epoch in range(num_epochs):\n",
        "        print('Epoch {}/{}'.format(epoch, num_epochs - 1))\n",
        "        print('-' * 10)\n",
        "\n",
        "        # Each epoch has a training and validation phase\n",
        "        for phase in ['train', 'val']:\n",
        "            if phase == 'train':\n",
        "                # Set model to training mode. \n",
        "                model.train()  \n",
        "            else:\n",
        "                # Set model to evaluate mode. In evaluate mode, we don't perform backprop and don't need to keep the gradients\n",
        "                model.eval()   \n",
        "\n",
        "            running_loss = 0.0\n",
        "            running_corrects = 0\n",
        "\n",
        "            # Iterate over data\n",
        "            for inputs, labels in dataloaders[phase]:\n",
        "                # Prepare the inputs for GPU/CPU\n",
        "                inputs = inputs.to(device)\n",
        "                labels = labels.to(device)\n",
        "\n",
        "                # zero the parameter gradients\n",
        "                optimizer.zero_grad()\n",
        "\n",
        "                # ===== forward pass ======\n",
        "                with torch.set_grad_enabled(phase=='train'):\n",
        "                    # If we're in train mode, we'll track the gradients to allow back-propagation\n",
        "                    outputs = model(inputs) # apply the model to the inputs. The output is the softmax probability of each class\n",
        "                    _, preds = torch.max(outputs, 1) # \n",
        "                    loss = criterion(outputs, labels)\n",
        "\n",
        "                    # ==== backward pass + optimizer step ====\n",
        "                    # This runs only in the training phase\n",
        "                    if phase == 'train':\n",
        "                        loss.backward() # Perform a step in the opposite direction of the gradient\n",
        "                        optimizer.step() # Adapt the optimizer\n",
        "\n",
        "                # Collect statistics\n",
        "                running_loss += loss.item() * inputs.size(0)\n",
        "                running_corrects += torch.sum(preds == labels.data)\n",
        "                \n",
        "            if phase == 'train':\n",
        "                # Adjust the learning rate based on the scheduler\n",
        "                scheduler.step()  \n",
        "            epoch_loss = running_loss / dataset_sizes[phase]\n",
        "            epoch_acc = running_corrects.double() / dataset_sizes[phase]\n",
        "            if phase == 'train':\n",
        "                epoch_loss_ls_train.append(epoch_loss)\n",
        "                epoch_acc_ls_train.append(epoch_acc.item())\n",
        "            else:\n",
        "                epoch_loss_ls_val.append(epoch_loss)\n",
        "                epoch_acc_ls_val.append(epoch_acc.item())\n",
        "\n",
        "            print(f'{phase} Loss: {epoch_loss:.4f} Acc: {epoch_acc:.4f}')\n",
        "\n",
        "            # Keep the results of the best model so far\n",
        "            if phase == 'val' and epoch_acc > best_acc:\n",
        "                best_acc = epoch_acc\n",
        "                # deepcopy the model\n",
        "                best_model_wts = copy.deepcopy(model.state_dict())\n",
        "\n",
        "        print()\n",
        "\n",
        "    time_elapsed = time.time() - since\n",
        "    print(f'Training complete in {(time_elapsed // 60):.0f}m {(time_elapsed % 60):.0f}s')\n",
        "    print(f'Best val Acc: {best_acc:4f}')\n",
        "\n",
        "    # load best model weights\n",
        "    model.load_state_dict(best_model_wts)\n",
        "    return model, epoch_acc_ls_val, epoch_acc_ls_train, epoch_loss_ls_val, epoch_loss_ls_train"
      ],
      "metadata": {
        "id": "u2Bwq6QeD8ee"
      },
      "execution_count": null,
      "outputs": []
    },
    {
      "cell_type": "code",
      "source": [
        "#train\n",
        "model, epoch_acc_ls_val, epoch_acc_ls_train, epoch_loss_ls_val, epoch_loss_ls_train = train_model_NL(model, \n",
        "                    dataloaders,\n",
        "                       criterion, \n",
        "                       optimizer_ft, \n",
        "                       exp_lr_scheduler,\n",
        "                       num_epochs=10)"
      ],
      "metadata": {
        "colab": {
          "base_uri": "https://localhost:8080/"
        },
        "id": "R4HvOZgeV1Z7",
        "outputId": "68cc918f-f89c-4e14-b0a2-5120257688fa"
      },
      "execution_count": null,
      "outputs": [
        {
          "output_type": "stream",
          "name": "stdout",
          "text": [
            "Epoch 0/9\n",
            "----------\n",
            "train Loss: 2.3022 Acc: 0.1095\n",
            "val Loss: 2.2946 Acc: 0.1168\n",
            "\n",
            "Epoch 1/9\n",
            "----------\n",
            "train Loss: 2.2866 Acc: 0.1244\n",
            "val Loss: 2.2804 Acc: 0.1269\n",
            "\n",
            "Epoch 2/9\n",
            "----------\n",
            "train Loss: 2.2718 Acc: 0.1358\n",
            "val Loss: 2.2653 Acc: 0.1368\n",
            "\n",
            "Epoch 3/9\n",
            "----------\n",
            "train Loss: 2.2551 Acc: 0.1542\n",
            "val Loss: 2.2473 Acc: 0.1663\n",
            "\n",
            "Epoch 4/9\n",
            "----------\n",
            "train Loss: 2.2355 Acc: 0.1894\n",
            "val Loss: 2.2261 Acc: 0.2126\n",
            "\n",
            "Epoch 5/9\n",
            "----------\n",
            "train Loss: 2.2128 Acc: 0.2254\n",
            "val Loss: 2.2017 Acc: 0.2376\n",
            "\n",
            "Epoch 6/9\n",
            "----------\n",
            "train Loss: 2.1870 Acc: 0.2440\n",
            "val Loss: 2.1742 Acc: 0.2524\n",
            "\n",
            "Epoch 7/9\n",
            "----------\n",
            "train Loss: 2.1715 Acc: 0.2505\n",
            "val Loss: 2.1713 Acc: 0.2531\n",
            "\n",
            "Epoch 8/9\n",
            "----------\n",
            "train Loss: 2.1686 Acc: 0.2517\n",
            "val Loss: 2.1683 Acc: 0.2531\n",
            "\n",
            "Epoch 9/9\n",
            "----------\n",
            "train Loss: 2.1656 Acc: 0.2525\n",
            "val Loss: 2.1653 Acc: 0.2535\n",
            "\n",
            "Training complete in 3m 7s\n",
            "Best val Acc: 0.253500\n"
          ]
        }
      ]
    },
    {
      "cell_type": "code",
      "source": [
        "\n",
        "# plot results\n",
        "plot_acc(epoch_acc_ls_train,epoch_acc_ls_val )\n",
        "plot_loss(epoch_loss_ls_train,epoch_loss_ls_val)"
      ],
      "metadata": {
        "colab": {
          "base_uri": "https://localhost:8080/",
          "height": 573
        },
        "id": "QuGjK_8eqt2E",
        "outputId": "f28b59e1-8a45-4c91-9511-60bbf827ad6c"
      },
      "execution_count": null,
      "outputs": [
        {
          "output_type": "display_data",
          "data": {
            "text/plain": [
              "<Figure size 432x288 with 1 Axes>"
            ],
            "image/png": "[encoded data removed]"
          },
          "metadata": {
            "needs_background": "light"
          }
        },
        {
          "output_type": "display_data",
          "data": {
            "text/plain": [
              "<Figure size 432x288 with 1 Axes>"
            ],
            "image/png": "[encoded data removed]"
          },
          "metadata": {
            "needs_background": "light"
          }
        }
      ]
    },
    {
      "metadata": {
        "id": "gNP6Ogkxb1sw"
      },
      "cell_type": "markdown",
      "source": [
        "# 4) Tune your hyperparameters\n",
        "\n",
        "**What's wrong?**. Looking at the loss above, we see that the loss is decreasing more or less linearly, which seems to suggest that the learning rate may be too low. Moreover, there is no gap between the training and validation accuracy, suggesting that the model we used has low capacity, and that we should increase its size. On the other hand, with a very large model we would expect to see more overfitting, which would manifest itself as a very large gap between the training and validation accuracy. \n",
        "\n",
        "**Tuning**. Tuning the hyperparameters and developing intuition for how they affect the final performance is a large part of using Neural Networks, so we want you to get a lot of practice. Below, you should experiment with different values of the various hyperparameters, including *hidden layer size, learning rate, numer of training epochs, and adding l2 or l1 regularization to the cross entropy loss*. You might also consider tuning the learning rate decay, but you should be able to get good performance using the default value.\n",
        "\n",
        "**Approximate results**. You should be aim to achieve a classification accuracy of greater than 48% on the validation set. Our best network gets over 52% on the validation set.\n",
        "\n",
        "**Experiment**: You goal in this exercise is to get as good of a result on CIFAR-10 as you can, with a fully-connected Neural Network. Feel free implement your own techniques (e.g. PCA to reduce dimensionality, or adding dropout, or adding features to the solver, etc.)."
      ]
    },
    {
      "metadata": {
        "id": "5ITsPTx6b1sz"
      },
      "cell_type": "code",
      "source": [
        "\n",
        "#################################################################################\n",
        "# TODO: Tune hyperparameters using the validation set.                          #\n",
        "#     \n",
        "\n",
        "                                                                          #\n",
        "#                                                                               #\n",
        "#################################################################################\n",
        "# Your code\n",
        "#################################################################################\n",
        "#                               END OF YOUR CODE                                #\n",
        "#################################################################################"
      ],
      "execution_count": null,
      "outputs": []
    },
    {
      "cell_type": "code",
      "source": [
        "# i want to still print all 10 epochs loss & Acc so i can check if we are not overfitting during the epochs"
      ],
      "metadata": {
        "id": "HtZmXUwgE_I8"
      },
      "execution_count": null,
      "outputs": []
    },
    {
      "cell_type": "markdown",
      "source": [
        "## Summary of Results:\n",
        "\n",
        "1) lr=0.002\n",
        "\n",
        "2) adding more power to the nn (1000 neurons in hidden layer)\n",
        "\n",
        "\n",
        "3) no regularization\n",
        "\n",
        "final score accuracy>0.55"
      ],
      "metadata": {
        "id": "xYFjhUsTYrrn"
      }
    },
    {
      "cell_type": "markdown",
      "source": [
        "## These are the tryings until reaching final tuning:"
      ],
      "metadata": {
        "id": "wEdUWcE8Y3im"
      }
    },
    {
      "cell_type": "markdown",
      "source": [
        " ## 1) Adding more Epochs \n",
        "after running 10 more epoch the results are pretty much the same. we guess the lr is too small."
      ],
      "metadata": {
        "id": "9hT_EbGbF-Nz"
      }
    },
    {
      "cell_type": "code",
      "source": [
        "# model = NeuralNetwork().to(device) ## will not reset the weights just run the training function again"
      ],
      "metadata": {
        "id": "XfuBnO19GRyc"
      },
      "execution_count": null,
      "outputs": []
    },
    {
      "cell_type": "code",
      "source": [
        "#train\n",
        "model, epoch_acc_ls_val, epoch_acc_ls_train, epoch_loss_ls_val, epoch_loss_ls_train = train_model_NL(model, \n",
        "                    dataloaders,\n",
        "                       criterion, \n",
        "                       optimizer_ft, \n",
        "                       exp_lr_scheduler,\n",
        "                       num_epochs=10)"
      ],
      "metadata": {
        "colab": {
          "base_uri": "https://localhost:8080/"
        },
        "id": "7T1wCZCMGR0z",
        "outputId": "de54c725-2f2f-4189-8400-c9405f6cbfe1"
      },
      "execution_count": null,
      "outputs": [
        {
          "output_type": "stream",
          "name": "stdout",
          "text": [
            "Epoch 0/9\n",
            "----------\n"
          ]
        }
      ]
    },
    {
      "cell_type": "code",
      "source": [
        "plot_acc(epoch_acc_ls_train,epoch_acc_ls_val )\n",
        "plot_loss(epoch_loss_ls_train,epoch_loss_ls_val)"
      ],
      "metadata": {
        "id": "2v8fDjSbGR28"
      },
      "execution_count": null,
      "outputs": []
    },
    {
      "cell_type": "markdown",
      "source": [
        "## 2) Changing LR:\n",
        "\n",
        "-> after running the code below we saw that increasing the learning rate increased the val accuracy\n",
        "we choose to take a learning rate of 0.1 \n"
      ],
      "metadata": {
        "id": "uZD49ikREqIA"
      }
    },
    {
      "cell_type": "code",
      "source": [
        "model = NeuralNetwork().to(device) ## reset the weights"
      ],
      "metadata": {
        "id": "UBNlVO00Fw_f"
      },
      "execution_count": null,
      "outputs": []
    },
    {
      "cell_type": "code",
      "source": [
        "for LR in np.logspace(-1, -3, num=10):\n",
        "    optimizer_ft = optim.SGD(model.parameters(), lr=LR, momentum=0.9)\n",
        "\n",
        "    exp_lr_scheduler = lr_scheduler.StepLR(optimizer_ft, step_size=7, gamma=0.1)\n",
        "\n",
        "    model, epoch_acc_ls_val, epoch_acc_ls_train, epoch_loss_ls_val, epoch_loss_ls_train = train_model_NL(model, \n",
        "                        dataloaders,\n",
        "                          criterion, \n",
        "                          optimizer_ft, \n",
        "                          exp_lr_scheduler,\n",
        "                          num_epochs=8)\n",
        "    plt.figure()\n",
        "    plt.title(\"epoch_acc train & validation\")\n",
        "    plt.xlabel(\"epoce num\")\n",
        "    plt.plot(epoch_acc_ls_train,'-*')\n",
        "    plt.plot(epoch_acc_ls_val,'-*')\n",
        "    plt.legend([\"epoch_acc_ls_train\",\"epoch_acc_ls_val\"])"
      ],
      "metadata": {
        "id": "_FeAmJ_8EpII"
      },
      "execution_count": null,
      "outputs": []
    },
    {
      "cell_type": "markdown",
      "source": [
        "## 3) Adding regularization term:\n",
        "regularization doesn't improve the accuracy, and it makes sense, since the model is not yet finished learning/over-fit and regularization also 'limits' its learning process."
      ],
      "metadata": {
        "id": "JRXKEoOlJCl2"
      }
    },
    {
      "cell_type": "code",
      "source": [
        "# Initialize the model\n",
        "model = NeuralNetwork().to(device)\n",
        "print(model)"
      ],
      "metadata": {
        "id": "Sa5sx-EzcpAU"
      },
      "execution_count": null,
      "outputs": []
    },
    {
      "cell_type": "code",
      "source": [
        "## Updating parameters:\n",
        "# If a GPU is available, make the model use it\n",
        "model = model.to(device)\n",
        "\n",
        "criterion = nn.NLLLoss()\n",
        "\n",
        "# Use Stochastic Gradient Descent as the optimizer, with a learning rate of 0.0001 and momentum\n",
        "optimizer_ft = optim.SGD(model.parameters(), lr=0.001, momentum=0.9)\n",
        "\n",
        "# Decay LR by a factor of 0.1 every 7 epochs\n",
        "exp_lr_scheduler = lr_scheduler.StepLR(optimizer_ft, step_size=7, gamma=0.1)\n",
        "\n",
        "num_epochs = 10"
      ],
      "metadata": {
        "id": "B0L3BQyNcpDg"
      },
      "execution_count": null,
      "outputs": []
    },
    {
      "cell_type": "code",
      "source": [
        "## Updating the training function with L2\n",
        "\n",
        "def train_model_NL(model, dataloaders, criterion, optimizer, scheduler, num_epochs=5, l2_lambda=0):\n",
        "    since = time.time()\n",
        "\n",
        "    # Init variables that will save info about the best model\n",
        "    best_model_wts = copy.deepcopy(model.state_dict())\n",
        "    best_acc = 0.0\n",
        "    epoch_loss_ls_val = []\n",
        "    epoch_acc_ls_val = []\n",
        "    epoch_loss_ls_train = []\n",
        "    epoch_acc_ls_train = []\n",
        "\n",
        "    for epoch in range(num_epochs):\n",
        "        print('Epoch {}/{}'.format(epoch, num_epochs - 1))\n",
        "        print('-' * 10)\n",
        "\n",
        "        # Each epoch has a training and validation phase\n",
        "        for phase in ['train', 'val']:\n",
        "            if phase == 'train':\n",
        "                # Set model to training mode. \n",
        "                model.train()  \n",
        "            else:\n",
        "                # Set model to evaluate mode. In evaluate mode, we don't perform backprop and don't need to keep the gradients\n",
        "                model.eval()   \n",
        "\n",
        "            running_loss = 0.0\n",
        "            running_corrects = 0\n",
        "\n",
        "            # Iterate over data\n",
        "            for inputs, labels in dataloaders[phase]:\n",
        "                # Prepare the inputs for GPU/CPU\n",
        "                inputs = inputs.to(device)\n",
        "                labels = labels.to(device)\n",
        "\n",
        "                # zero the parameter gradients\n",
        "                optimizer.zero_grad()\n",
        "\n",
        "                # ===== forward pass ======\n",
        "                with torch.set_grad_enabled(phase=='train'):\n",
        "                    # If we're in train mode, we'll track the gradients to allow back-propagation\n",
        "                    outputs = model(inputs) # apply the model to the inputs. The output is the softmax probability of each class\n",
        "                    _, preds = torch.max(outputs, 1) # \n",
        "                    loss = criterion(outputs, labels)\n",
        "                    ### === ADDING REGULARIZATION ====###\n",
        "                                        ### === ADDING REGULARIZATION ====###\n",
        "                    if l2_lambda > 0:\n",
        "                      l2_reg= torch.tensor(0., device = device)\n",
        "                      for param in model.parameters():\n",
        "                        l2_reg += torch.norm(param,2)\n",
        "                        loss = loss + l2_lambda*l2_reg\n",
        "   \n",
        "                    # ==== backward pass + optimizer step ====\n",
        "                    # This runs only in the training phase\n",
        "                    if phase == 'train':\n",
        "                        loss.backward() # Perform a step in the opposite direction of the gradient\n",
        "                        optimizer.step() # Adapt the optimizer\n",
        "\n",
        "                # Collect statistics\n",
        "                running_loss += loss.item() * inputs.size(0)\n",
        "                running_corrects += torch.sum(preds == labels.data)\n",
        "                \n",
        "            if phase == 'train':\n",
        "                # Adjust the learning rate based on the scheduler\n",
        "                scheduler.step()  \n",
        "            epoch_loss = running_loss / dataset_sizes[phase]\n",
        "            epoch_acc = running_corrects.double() / dataset_sizes[phase]\n",
        "            if phase == 'train':\n",
        "                epoch_loss_ls_train.append(epoch_loss)\n",
        "                epoch_acc_ls_train.append(epoch_acc.item())\n",
        "            else:\n",
        "                epoch_loss_ls_val.append(epoch_loss)\n",
        "                epoch_acc_ls_val.append(epoch_acc.item())\n",
        "\n",
        "            print(f'{phase} Loss: {epoch_loss:.4f} Acc: {epoch_acc:.4f}')\n",
        "\n",
        "            # Keep the results of the best model so far\n",
        "            if phase == 'val' and epoch_acc > best_acc:\n",
        "                best_acc = epoch_acc\n",
        "                # deepcopy the model\n",
        "                best_model_wts = copy.deepcopy(model.state_dict())\n",
        "\n",
        "        print()\n",
        "\n",
        "    time_elapsed = time.time() - since\n",
        "    print(f'Training complete in {(time_elapsed // 60):.0f}m {(time_elapsed % 60):.0f}s')\n",
        "    print(f'Best val Acc: {best_acc:4f}')\n",
        "\n",
        "    # load best model weights\n",
        "    model.load_state_dict(best_model_wts)\n",
        "    return model, epoch_acc_ls_val, epoch_acc_ls_train, epoch_loss_ls_val, epoch_loss_ls_train"
      ],
      "metadata": {
        "id": "5fmTXylqWjPH"
      },
      "execution_count": null,
      "outputs": []
    },
    {
      "cell_type": "code",
      "source": [
        "L2 = 0.005   # seting l2 param"
      ],
      "metadata": {
        "id": "B4gfEGBfWjSF"
      },
      "execution_count": null,
      "outputs": []
    },
    {
      "cell_type": "code",
      "source": [
        "# Traing the model with regularization\n",
        "model, epoch_acc_ls_val, epoch_acc_ls_train, epoch_loss_ls_val, epoch_loss_ls_train = train_model_NL(model, \n",
        "                    dataloaders,\n",
        "                       criterion, \n",
        "                       optimizer_ft, \n",
        "                       exp_lr_scheduler,\n",
        "                       num_epochs=10,\n",
        "                       l2_lambda = L2)"
      ],
      "metadata": {
        "id": "BVB0re0DV1om"
      },
      "execution_count": null,
      "outputs": []
    },
    {
      "cell_type": "code",
      "source": [
        "# Plot the results\n",
        "plot_acc(epoch_acc_ls_train,epoch_acc_ls_val )\n",
        "plot_loss(epoch_loss_ls_train,epoch_loss_ls_val)"
      ],
      "metadata": {
        "id": "1hX9fcVifaQM"
      },
      "execution_count": null,
      "outputs": []
    },
    {
      "cell_type": "code",
      "source": [
        "## following the graph above,we need to decress the l2 since it is \"hard\" for the mode to learn (linear loss and accuracy is worse than without the regularization)"
      ],
      "metadata": {
        "id": "rkXfxlWxjCHJ"
      },
      "execution_count": null,
      "outputs": []
    },
    {
      "cell_type": "code",
      "source": [],
      "metadata": {
        "id": "1XgtjxH7jmaW"
      },
      "execution_count": null,
      "outputs": []
    },
    {
      "cell_type": "markdown",
      "source": [
        "## 4) Giving more power to the network\n"
      ],
      "metadata": {
        "id": "aqbTuWOJZVRe"
      }
    },
    {
      "cell_type": "code",
      "source": [
        "## Inlarge the network:\n",
        "## updating the network and loss function:\n",
        "\n",
        "class NeuralNetwork(nn.Module):\n",
        "    def __init__(self):\n",
        "        super(NeuralNetwork, self).__init__()\n",
        "        self.flatten = nn.Flatten()\n",
        "        self.linear_relu_stack = nn.Sequential(\n",
        "            nn.Linear(32*32*3, 200), ##<-    200 instead of 100\n",
        "            nn.ReLU(),\n",
        "            nn.Linear(200, 20), ##<-   200 instead of 100\n",
        "            nn.ReLU(),\n",
        "            nn.Linear(20, 10),\n",
        "        #    nn.LogSoftmax(dim=1)  # add a LogSoftmax layer\n",
        "        )\n",
        "        self.logsoftloss = nn.LogSoftmax(dim=1)    #<-\n",
        "\n",
        "\n",
        "# In the forward method, the LogSoftmax layer applies the log softmax function along the dimension 1,\n",
        "# which represents the classes. The output of this layer is the log probability of each class.\n",
        "    def forward(self, x):\n",
        "        x = self.flatten(x)\n",
        "        logits = self.linear_relu_stack(x)\n",
        "        log_probs = self.logsoftloss(logits)    #<-\n",
        "        return log_probs"
      ],
      "metadata": {
        "id": "U5UvYVQPpHWj"
      },
      "execution_count": null,
      "outputs": []
    },
    {
      "cell_type": "code",
      "source": [
        "# Initialize the model\n",
        "model = NeuralNetwork().to(device)\n",
        "print(model)"
      ],
      "metadata": {
        "id": "hdP0dhNUpHeT"
      },
      "execution_count": null,
      "outputs": []
    },
    {
      "cell_type": "code",
      "source": [
        "## Updating parameters:\n",
        "# If a GPU is available, make the model use it\n",
        "model = model.to(device)\n",
        "\n",
        "criterion = nn.NLLLoss()\n",
        "\n",
        "optimizer_ft = optim.SGD(model.parameters(), lr=0.01, momentum=0.9)  # lr=0.01\n",
        "\n",
        "# Decay LR by a factor of 0.1 every 7 epochs\n",
        "exp_lr_scheduler = lr_scheduler.StepLR(optimizer_ft, step_size=7, gamma=0.1)\n",
        "\n",
        "num_epochs = 10"
      ],
      "metadata": {
        "id": "4GF3L0dNpHgh"
      },
      "execution_count": null,
      "outputs": []
    },
    {
      "cell_type": "code",
      "source": [
        "# Traing the model without regularization\n",
        "L2=0\n",
        "model, epoch_acc_ls_val, epoch_acc_ls_train, epoch_loss_ls_val, epoch_loss_ls_train = train_model_NL(model, \n",
        "                    dataloaders,\n",
        "                       criterion, \n",
        "                       optimizer_ft, \n",
        "                       exp_lr_scheduler,\n",
        "                       num_epochs=10,\n",
        "                       l2_lambda = L2)"
      ],
      "metadata": {
        "id": "ZsnvqSERpHv4"
      },
      "execution_count": null,
      "outputs": []
    },
    {
      "cell_type": "code",
      "source": [
        "# Plot the results\n",
        "plot_acc(epoch_acc_ls_train,epoch_acc_ls_val )\n",
        "plot_loss(epoch_loss_ls_train,epoch_loss_ls_val)"
      ],
      "metadata": {
        "id": "9w-6SOpbpHyW"
      },
      "execution_count": null,
      "outputs": []
    },
    {
      "cell_type": "markdown",
      "source": [
        "## 5) increasing lr and run again:"
      ],
      "metadata": {
        "id": "RTcOoudub2cX"
      }
    },
    {
      "cell_type": "code",
      "source": [
        "# Initialize the model\n",
        "model = NeuralNetwork().to(device)\n",
        "print(model)"
      ],
      "metadata": {
        "id": "epjh2b4fb1qR"
      },
      "execution_count": null,
      "outputs": []
    },
    {
      "cell_type": "code",
      "source": [
        "## Updating parameters:\n",
        "# If a GPU is available, make the model use it\n",
        "model = model.to(device)\n",
        "\n",
        "criterion = nn.NLLLoss()\n",
        "\n",
        "optimizer_ft = optim.SGD(model.parameters(), lr=0.05, momentum=0.9)  # lr=0.05\n",
        "\n",
        "# Decay LR by a factor of 0.1 every 7 epochs\n",
        "exp_lr_scheduler = lr_scheduler.StepLR(optimizer_ft, step_size=7, gamma=0.1)\n",
        "\n",
        "num_epochs = 10"
      ],
      "metadata": {
        "id": "7WCdvFoFb_jW"
      },
      "execution_count": null,
      "outputs": []
    },
    {
      "cell_type": "code",
      "source": [
        "# Traing the model without regularization\n",
        "L2=0\n",
        "model, epoch_acc_ls_val, epoch_acc_ls_train, epoch_loss_ls_val, epoch_loss_ls_train = train_model_NL(model, \n",
        "                    dataloaders,\n",
        "                       criterion, \n",
        "                       optimizer_ft, \n",
        "                       exp_lr_scheduler,\n",
        "                       num_epochs=10,\n",
        "                       l2_lambda = L2)"
      ],
      "metadata": {
        "id": "ebfctewib_mI"
      },
      "execution_count": null,
      "outputs": []
    },
    {
      "cell_type": "code",
      "source": [
        "# Plot the results\n",
        "plot_acc(epoch_acc_ls_train,epoch_acc_ls_val )\n",
        "plot_loss(epoch_loss_ls_train,epoch_loss_ls_val)"
      ],
      "metadata": {
        "id": "tG4FRdDKb_rg"
      },
      "execution_count": null,
      "outputs": []
    },
    {
      "cell_type": "markdown",
      "source": [
        "## 5) Giving more power to the net and no regularization"
      ],
      "metadata": {
        "id": "jNomrpbZZJXD"
      }
    },
    {
      "cell_type": "code",
      "source": [
        "class NeuralNetwork(nn.Module):\n",
        "    def __init__(self):\n",
        "        super(NeuralNetwork, self).__init__()\n",
        "        self.flatten = nn.Flatten()\n",
        "        self.linear_relu_stack = nn.Sequential(\n",
        "            nn.Linear(32*32*3, 1000),\n",
        "            nn.ReLU(),\n",
        "            nn.Linear(1000, 20),\n",
        "            nn.ReLU(),\n",
        "            nn.Linear(20, 10),\n",
        "        )\n",
        "\n",
        "\n",
        "    def forward(self, x):\n",
        "        x = self.flatten(x)\n",
        "        logits = self.linear_relu_stack(x)\n",
        "        return logits"
      ],
      "metadata": {
        "id": "Ox8yXq7k5AYQ"
      },
      "execution_count": null,
      "outputs": []
    },
    {
      "cell_type": "code",
      "source": [
        "# Initialize the model\n",
        "model = NeuralNetwork().to(device)\n",
        "print(model)"
      ],
      "metadata": {
        "id": "R0cLhNIz5Aas"
      },
      "execution_count": null,
      "outputs": []
    },
    {
      "cell_type": "code",
      "source": [
        "## Updating parameters:\n",
        "# If a GPU is available, make the model use it\n",
        "model = model.to(device)\n",
        "\n",
        "# For a multi-class problem, you'd usually prefer CrossEntropyLoss()\n",
        "criterion = nn.CrossEntropyLoss()\n",
        "# increasing initial lr = 0.001*2\n",
        "optimizer_ft = optim.SGD(model.parameters(), lr=0.005, momentum=0.9)\n",
        "\n",
        "# Decay LR by a factor of 0.1 every 7 epochs\n",
        "exp_lr_scheduler = lr_scheduler.StepLR(optimizer_ft, step_size=7, gamma=0.1)\n"
      ],
      "metadata": {
        "id": "0yuWqBQ95AdL"
      },
      "execution_count": null,
      "outputs": []
    },
    {
      "cell_type": "code",
      "source": [
        "# Traing the model with regularization\n",
        "L2=0\n",
        "model, epoch_acc_ls_val, epoch_acc_ls_train, epoch_loss_ls_val, epoch_loss_ls_train = train_model_NL(model, \n",
        "                    dataloaders,\n",
        "                       criterion, \n",
        "                       optimizer_ft, \n",
        "                       exp_lr_scheduler,\n",
        "                       num_epochs=18,\n",
        "                       l2_lambda = L2)"
      ],
      "metadata": {
        "id": "a3MNQmM25S28"
      },
      "execution_count": null,
      "outputs": []
    },
    {
      "cell_type": "code",
      "source": [
        "# Plot the results\n",
        "plot_acc(epoch_acc_ls_train,epoch_acc_ls_val )\n",
        "plot_loss(epoch_loss_ls_train,epoch_loss_ls_val)"
      ],
      "metadata": {
        "id": "Sncc-V6T5S6L"
      },
      "execution_count": null,
      "outputs": []
    },
    {
      "cell_type": "markdown",
      "source": [
        "## TO SUMMARIZE\n",
        "giving more power to the network, increassing the lr and adding l2 regularization (with enough epoch) boost the initial results from 0.2 to >0.5"
      ],
      "metadata": {
        "id": "5dj4J9XwbYbe"
      }
    },
    {
      "metadata": {
        "id": "N40TSSK0b1s-"
      },
      "cell_type": "markdown",
      "source": [
        "# Interview Question\n",
        "\n",
        "Now that you have trained a Neural Network classifier, you may find that your testing accuracy is lower than the training accuracy. In what ways can we decrease this gap? Select all that apply.\n",
        "1. Train on a larger dataset.\n",
        "2. Add more hidden units.\n",
        "3. Increase the regularization strength.\n",
        "4. None of the above.\n",
        "\n",
        "*Your answer*:\n",
        "\n",
        "**If the gap is too high, it means we might have over-fitting.**\n",
        "\n",
        "**to avoid this overfitting we can:**\n",
        "\n",
        "(1) traing on a larger dataset\n",
        "\n",
        "(3) increase the regularization strenght\n",
        "\n",
        "and another possible option is to apply \"early stopping\" in the training epochs.\n",
        "\n",
        "\n",
        "*Your explanation:*\n",
        "\n",
        " **- Adding more hidden units is not guaranteed to decrease the gap between testing accuracy and training accuracy. In fact, it can lead to overfitting, which may increase the gap.**\n"
      ]
    },
    {
      "cell_type": "code",
      "source": [],
      "metadata": {
        "id": "bWy9-9UqCX1a"
      },
      "execution_count": null,
      "outputs": []
    }
  ]
}