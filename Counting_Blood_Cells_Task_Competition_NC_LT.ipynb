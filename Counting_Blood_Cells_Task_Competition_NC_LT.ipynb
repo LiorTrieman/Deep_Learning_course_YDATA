{
  "nbformat": 4,
  "nbformat_minor": 0,
  "metadata": {
    "colab": {
      "provenance": [],
      "toc_visible": true
    },
    "kernelspec": {
      "name": "python3",
      "display_name": "Python 3"
    },
    "language_info": {
      "name": "python"
    }
  },
  "cells": [
    {
      "cell_type": "code",
      "execution_count": 1,
      "metadata": {
        "id": "RXltdoZSSeEx"
      },
      "outputs": [],
      "source": []
    },
    {
      "cell_type": "markdown",
      "source": [
        "## Counting Blood Cells Task Competition\n",
        "\n",
        "### Neta Cohn\n",
        "### Lior Trieman\n"
      ],
      "metadata": {
        "id": "dnNHoxJ4Seze"
      }
    },
    {
      "cell_type": "markdown",
      "source": [
        "#Excercise:\n",
        "\n",
        "1) Read the data (process the outputs) and split it to train\n",
        "and test\n",
        "\n",
        "2) Prepare the labels\n",
        "\n",
        "3) Define the network\n",
        "\n",
        "4) Train the network\n",
        "\n",
        "5) Infer prediction (count the cells)"
      ],
      "metadata": {
        "id": "paH0jP7XSycK"
      }
    },
    {
      "cell_type": "markdown",
      "source": [
        "## 1) Load and process the labels \n",
        " split it to train and test"
      ],
      "metadata": {
        "id": "Q9JOMy_2S2mq"
      }
    },
    {
      "cell_type": "code",
      "execution_count": 2,
      "metadata": {
        "id": "iAtz9g-9pPS6"
      },
      "outputs": [],
      "source": [
        "# imports\n",
        "import numpy as np\n",
        "import pandas as pd\n",
        "import os\n",
        "from PIL import Image\n",
        "import copy\n",
        "import time\n",
        "import torch\n",
        "from torch.utils.data import Dataset\n",
        "import torchvision\n",
        "from torchvision import datasets, models, transforms\n",
        "from torch.utils.data import DataLoader\n",
        "import matplotlib.pyplot as plt\n",
        "from torchvision.io import read_image\n",
        "from torch.optim import lr_scheduler"
      ]
    },
    {
      "cell_type": "code",
      "source": [
        "import torch\n",
        "torch.manual_seed(0)\n",
        "import random\n",
        "random.seed(0)\n",
        "import numpy as np\n",
        "np.random.seed(0)"
      ],
      "metadata": {
        "id": "vnoLYywYFW5e"
      },
      "execution_count": 3,
      "outputs": []
    },
    {
      "cell_type": "code",
      "execution_count": 4,
      "metadata": {
        "colab": {
          "base_uri": "https://localhost:8080/"
        },
        "id": "luQPQEvZpfx4",
        "outputId": "36aba1fd-901b-476d-8c32-077dba324843"
      },
      "outputs": [
        {
          "output_type": "stream",
          "name": "stdout",
          "text": [
            "Mounted at /content/drive\n"
          ]
        }
      ],
      "source": [
        "from google.colab import drive\n",
        "# Mount your Google Drive\n",
        "drive.mount('/content/drive')"
      ]
    },
    {
      "cell_type": "code",
      "source": [
        "# Check for the availability of a GPU, and use CPU otherwise\n",
        "device = torch.device(\"cuda:0\" if torch.cuda.is_available() else \"cpu\")\n",
        "device"
      ],
      "metadata": {
        "colab": {
          "base_uri": "https://localhost:8080/"
        },
        "id": "ou3hsCrMlcoU",
        "outputId": "43e10ee4-5196-41a1-e558-1e6be920c106"
      },
      "execution_count": 5,
      "outputs": [
        {
          "output_type": "execute_result",
          "data": {
            "text/plain": [
              "device(type='cpu')"
            ]
          },
          "metadata": {},
          "execution_count": 5
        }
      ]
    },
    {
      "cell_type": "code",
      "execution_count": 6,
      "metadata": {
        "id": "KhJ6aembqJB9"
      },
      "outputs": [],
      "source": [
        "# Set the path to the folder containing the PNG images\n",
        "folder_path = '/content/drive/MyDrive/DeepLearningHW/HW_6/data/labels'  # Neta\n",
        "folder_path = 'drive/MyDrive/Y-data/HW_3_DL/cell-dataset/data/labels'  # Lior\n",
        "\n",
        "# init the numpy arrays\n",
        "label_value_list = [] # ini a list of count - the label\n",
        "label_name_list = []  #init a list of label names/indeces\n",
        "\n",
        "# Loop through each image in the folder\n",
        "for filename in os.listdir(folder_path):\n",
        "    if filename.endswith(\".png\"):\n",
        "        image = Image.open(os.path.join(folder_path, filename))\n",
        "        # Convert the image to a NumPy array\n",
        "        array = np.array(image)\n",
        "        sum_arr = np.sum(array.flatten())  # number of red dots*255\n",
        "        label_value_list.append(int(sum_arr/255))  # list of labels with values\n",
        "        label_name_list.append(filename)            # list of labels \"names\""
      ]
    },
    {
      "cell_type": "code",
      "execution_count": 7,
      "metadata": {
        "id": "48xtZh2asiP-"
      },
      "outputs": [],
      "source": [
        "# create a df for labels:\n",
        "labels_df = pd.DataFrame({\"label_ind\":label_name_list, \"label_val\": label_value_list})"
      ]
    },
    {
      "cell_type": "code",
      "execution_count": 8,
      "metadata": {
        "colab": {
          "base_uri": "https://localhost:8080/",
          "height": 206
        },
        "id": "Fj-ZRikJtUwx",
        "outputId": "a1cf64f2-a7e6-47de-c6ed-a957f14ae2ee"
      },
      "outputs": [
        {
          "output_type": "execute_result",
          "data": {
            "text/plain": [
              "     label_ind  label_val\n",
              "0  187dots.png         95\n",
              "1  196dots.png         84\n",
              "2  191dots.png        154\n",
              "3  192dots.png        128\n",
              "4  197dots.png        218"
            ],
            "text/html": [
              "\n",
              "  <div id=\"df-694c4f8e-a73a-425a-b34c-917bedf1930a\">\n",
              "    <div class=\"colab-df-container\">\n",
              "      <div>\n",
              "<style scoped>\n",
              "    .dataframe tbody tr th:only-of-type {\n",
              "        vertical-align: middle;\n",
              "    }\n",
              "\n",
              "    .dataframe tbody tr th {\n",
              "        vertical-align: top;\n",
              "    }\n",
              "\n",
              "    .dataframe thead th {\n",
              "        text-align: right;\n",
              "    }\n",
              "</style>\n",
              "<table border=\"1\" class=\"dataframe\">\n",
              "  <thead>\n",
              "    <tr style=\"text-align: right;\">\n",
              "      <th></th>\n",
              "      <th>label_ind</th>\n",
              "      <th>label_val</th>\n",
              "    </tr>\n",
              "  </thead>\n",
              "  <tbody>\n",
              "    <tr>\n",
              "      <th>0</th>\n",
              "      <td>187dots.png</td>\n",
              "      <td>95</td>\n",
              "    </tr>\n",
              "    <tr>\n",
              "      <th>1</th>\n",
              "      <td>196dots.png</td>\n",
              "      <td>84</td>\n",
              "    </tr>\n",
              "    <tr>\n",
              "      <th>2</th>\n",
              "      <td>191dots.png</td>\n",
              "      <td>154</td>\n",
              "    </tr>\n",
              "    <tr>\n",
              "      <th>3</th>\n",
              "      <td>192dots.png</td>\n",
              "      <td>128</td>\n",
              "    </tr>\n",
              "    <tr>\n",
              "      <th>4</th>\n",
              "      <td>197dots.png</td>\n",
              "      <td>218</td>\n",
              "    </tr>\n",
              "  </tbody>\n",
              "</table>\n",
              "</div>\n",
              "      <button class=\"colab-df-convert\" onclick=\"convertToInteractive('df-694c4f8e-a73a-425a-b34c-917bedf1930a')\"\n",
              "              title=\"Convert this dataframe to an interactive table.\"\n",
              "              style=\"display:none;\">\n",
              "        \n",
              "  <svg xmlns=\"http://www.w3.org/2000/svg\" height=\"24px\"viewBox=\"0 0 24 24\"\n",
              "       width=\"24px\">\n",
              "    <path d=\"M0 0h24v24H0V0z\" fill=\"none\"/>\n",
              "    <path d=\"M18.56 5.44l.94 2.06.94-2.06 2.06-.94-2.06-.94-.94-2.06-.94 2.06-2.06.94zm-11 1L8.5 8.5l.94-2.06 2.06-.94-2.06-.94L8.5 2.5l-.94 2.06-2.06.94zm10 10l.94 2.06.94-2.06 2.06-.94-2.06-.94-.94-2.06-.94 2.06-2.06.94z\"/><path d=\"M17.41 7.96l-1.37-1.37c-.4-.4-.92-.59-1.43-.59-.52 0-1.04.2-1.43.59L10.3 9.45l-7.72 7.72c-.78.78-.78 2.05 0 2.83L4 21.41c.39.39.9.59 1.41.59.51 0 1.02-.2 1.41-.59l7.78-7.78 2.81-2.81c.8-.78.8-2.07 0-2.86zM5.41 20L4 18.59l7.72-7.72 1.47 1.35L5.41 20z\"/>\n",
              "  </svg>\n",
              "      </button>\n",
              "      \n",
              "  <style>\n",
              "    .colab-df-container {\n",
              "      display:flex;\n",
              "      flex-wrap:wrap;\n",
              "      gap: 12px;\n",
              "    }\n",
              "\n",
              "    .colab-df-convert {\n",
              "      background-color: #E8F0FE;\n",
              "      border: none;\n",
              "      border-radius: 50%;\n",
              "      cursor: pointer;\n",
              "      display: none;\n",
              "      fill: #1967D2;\n",
              "      height: 32px;\n",
              "      padding: 0 0 0 0;\n",
              "      width: 32px;\n",
              "    }\n",
              "\n",
              "    .colab-df-convert:hover {\n",
              "      background-color: #E2EBFA;\n",
              "      box-shadow: 0px 1px 2px rgba(60, 64, 67, 0.3), 0px 1px 3px 1px rgba(60, 64, 67, 0.15);\n",
              "      fill: #174EA6;\n",
              "    }\n",
              "\n",
              "    [theme=dark] .colab-df-convert {\n",
              "      background-color: #3B4455;\n",
              "      fill: #D2E3FC;\n",
              "    }\n",
              "\n",
              "    [theme=dark] .colab-df-convert:hover {\n",
              "      background-color: #434B5C;\n",
              "      box-shadow: 0px 1px 3px 1px rgba(0, 0, 0, 0.15);\n",
              "      filter: drop-shadow(0px 1px 2px rgba(0, 0, 0, 0.3));\n",
              "      fill: #FFFFFF;\n",
              "    }\n",
              "  </style>\n",
              "\n",
              "      <script>\n",
              "        const buttonEl =\n",
              "          document.querySelector('#df-694c4f8e-a73a-425a-b34c-917bedf1930a button.colab-df-convert');\n",
              "        buttonEl.style.display =\n",
              "          google.colab.kernel.accessAllowed ? 'block' : 'none';\n",
              "\n",
              "        async function convertToInteractive(key) {\n",
              "          const element = document.querySelector('#df-694c4f8e-a73a-425a-b34c-917bedf1930a');\n",
              "          const dataTable =\n",
              "            await google.colab.kernel.invokeFunction('convertToInteractive',\n",
              "                                                     [key], {});\n",
              "          if (!dataTable) return;\n",
              "\n",
              "          const docLinkHtml = 'Like what you see? Visit the ' +\n",
              "            '<a target=\"_blank\" href=https://colab.research.google.com/notebooks/data_table.ipynb>data table notebook</a>'\n",
              "            + ' to learn more about interactive tables.';\n",
              "          element.innerHTML = '';\n",
              "          dataTable['output_type'] = 'display_data';\n",
              "          await google.colab.output.renderOutput(dataTable, element);\n",
              "          const docLink = document.createElement('div');\n",
              "          docLink.innerHTML = docLinkHtml;\n",
              "          element.appendChild(docLink);\n",
              "        }\n",
              "      </script>\n",
              "    </div>\n",
              "  </div>\n",
              "  "
            ]
          },
          "metadata": {},
          "execution_count": 8
        }
      ],
      "source": [
        "labels_df.head()"
      ]
    },
    {
      "cell_type": "code",
      "execution_count": 9,
      "metadata": {
        "colab": {
          "base_uri": "https://localhost:8080/",
          "height": 300
        },
        "id": "GWTiYZ3HtXc-",
        "outputId": "bffe49d2-8bb9-4eb1-a88a-5afa8ce60998"
      },
      "outputs": [
        {
          "output_type": "execute_result",
          "data": {
            "text/plain": [
              "        label_val\n",
              "count  200.000000\n",
              "mean   175.960000\n",
              "std     61.398594\n",
              "min     74.000000\n",
              "25%    123.500000\n",
              "50%    174.500000\n",
              "75%    218.250000\n",
              "max    317.000000"
            ],
            "text/html": [
              "\n",
              "  <div id=\"df-03fea771-d6a1-489b-8feb-c63fff71b73d\">\n",
              "    <div class=\"colab-df-container\">\n",
              "      <div>\n",
              "<style scoped>\n",
              "    .dataframe tbody tr th:only-of-type {\n",
              "        vertical-align: middle;\n",
              "    }\n",
              "\n",
              "    .dataframe tbody tr th {\n",
              "        vertical-align: top;\n",
              "    }\n",
              "\n",
              "    .dataframe thead th {\n",
              "        text-align: right;\n",
              "    }\n",
              "</style>\n",
              "<table border=\"1\" class=\"dataframe\">\n",
              "  <thead>\n",
              "    <tr style=\"text-align: right;\">\n",
              "      <th></th>\n",
              "      <th>label_val</th>\n",
              "    </tr>\n",
              "  </thead>\n",
              "  <tbody>\n",
              "    <tr>\n",
              "      <th>count</th>\n",
              "      <td>200.000000</td>\n",
              "    </tr>\n",
              "    <tr>\n",
              "      <th>mean</th>\n",
              "      <td>175.960000</td>\n",
              "    </tr>\n",
              "    <tr>\n",
              "      <th>std</th>\n",
              "      <td>61.398594</td>\n",
              "    </tr>\n",
              "    <tr>\n",
              "      <th>min</th>\n",
              "      <td>74.000000</td>\n",
              "    </tr>\n",
              "    <tr>\n",
              "      <th>25%</th>\n",
              "      <td>123.500000</td>\n",
              "    </tr>\n",
              "    <tr>\n",
              "      <th>50%</th>\n",
              "      <td>174.500000</td>\n",
              "    </tr>\n",
              "    <tr>\n",
              "      <th>75%</th>\n",
              "      <td>218.250000</td>\n",
              "    </tr>\n",
              "    <tr>\n",
              "      <th>max</th>\n",
              "      <td>317.000000</td>\n",
              "    </tr>\n",
              "  </tbody>\n",
              "</table>\n",
              "</div>\n",
              "      <button class=\"colab-df-convert\" onclick=\"convertToInteractive('df-03fea771-d6a1-489b-8feb-c63fff71b73d')\"\n",
              "              title=\"Convert this dataframe to an interactive table.\"\n",
              "              style=\"display:none;\">\n",
              "        \n",
              "  <svg xmlns=\"http://www.w3.org/2000/svg\" height=\"24px\"viewBox=\"0 0 24 24\"\n",
              "       width=\"24px\">\n",
              "    <path d=\"M0 0h24v24H0V0z\" fill=\"none\"/>\n",
              "    <path d=\"M18.56 5.44l.94 2.06.94-2.06 2.06-.94-2.06-.94-.94-2.06-.94 2.06-2.06.94zm-11 1L8.5 8.5l.94-2.06 2.06-.94-2.06-.94L8.5 2.5l-.94 2.06-2.06.94zm10 10l.94 2.06.94-2.06 2.06-.94-2.06-.94-.94-2.06-.94 2.06-2.06.94z\"/><path d=\"M17.41 7.96l-1.37-1.37c-.4-.4-.92-.59-1.43-.59-.52 0-1.04.2-1.43.59L10.3 9.45l-7.72 7.72c-.78.78-.78 2.05 0 2.83L4 21.41c.39.39.9.59 1.41.59.51 0 1.02-.2 1.41-.59l7.78-7.78 2.81-2.81c.8-.78.8-2.07 0-2.86zM5.41 20L4 18.59l7.72-7.72 1.47 1.35L5.41 20z\"/>\n",
              "  </svg>\n",
              "      </button>\n",
              "      \n",
              "  <style>\n",
              "    .colab-df-container {\n",
              "      display:flex;\n",
              "      flex-wrap:wrap;\n",
              "      gap: 12px;\n",
              "    }\n",
              "\n",
              "    .colab-df-convert {\n",
              "      background-color: #E8F0FE;\n",
              "      border: none;\n",
              "      border-radius: 50%;\n",
              "      cursor: pointer;\n",
              "      display: none;\n",
              "      fill: #1967D2;\n",
              "      height: 32px;\n",
              "      padding: 0 0 0 0;\n",
              "      width: 32px;\n",
              "    }\n",
              "\n",
              "    .colab-df-convert:hover {\n",
              "      background-color: #E2EBFA;\n",
              "      box-shadow: 0px 1px 2px rgba(60, 64, 67, 0.3), 0px 1px 3px 1px rgba(60, 64, 67, 0.15);\n",
              "      fill: #174EA6;\n",
              "    }\n",
              "\n",
              "    [theme=dark] .colab-df-convert {\n",
              "      background-color: #3B4455;\n",
              "      fill: #D2E3FC;\n",
              "    }\n",
              "\n",
              "    [theme=dark] .colab-df-convert:hover {\n",
              "      background-color: #434B5C;\n",
              "      box-shadow: 0px 1px 3px 1px rgba(0, 0, 0, 0.15);\n",
              "      filter: drop-shadow(0px 1px 2px rgba(0, 0, 0, 0.3));\n",
              "      fill: #FFFFFF;\n",
              "    }\n",
              "  </style>\n",
              "\n",
              "      <script>\n",
              "        const buttonEl =\n",
              "          document.querySelector('#df-03fea771-d6a1-489b-8feb-c63fff71b73d button.colab-df-convert');\n",
              "        buttonEl.style.display =\n",
              "          google.colab.kernel.accessAllowed ? 'block' : 'none';\n",
              "\n",
              "        async function convertToInteractive(key) {\n",
              "          const element = document.querySelector('#df-03fea771-d6a1-489b-8feb-c63fff71b73d');\n",
              "          const dataTable =\n",
              "            await google.colab.kernel.invokeFunction('convertToInteractive',\n",
              "                                                     [key], {});\n",
              "          if (!dataTable) return;\n",
              "\n",
              "          const docLinkHtml = 'Like what you see? Visit the ' +\n",
              "            '<a target=\"_blank\" href=https://colab.research.google.com/notebooks/data_table.ipynb>data table notebook</a>'\n",
              "            + ' to learn more about interactive tables.';\n",
              "          element.innerHTML = '';\n",
              "          dataTable['output_type'] = 'display_data';\n",
              "          await google.colab.output.renderOutput(dataTable, element);\n",
              "          const docLink = document.createElement('div');\n",
              "          docLink.innerHTML = docLinkHtml;\n",
              "          element.appendChild(docLink);\n",
              "        }\n",
              "      </script>\n",
              "    </div>\n",
              "  </div>\n",
              "  "
            ]
          },
          "metadata": {},
          "execution_count": 9
        }
      ],
      "source": [
        "labels_df.describe()"
      ]
    },
    {
      "cell_type": "code",
      "execution_count": 10,
      "metadata": {
        "id": "YFYnx6FltiRQ"
      },
      "outputs": [],
      "source": [
        "# sort the df by index \n",
        "labels_df = labels_df.sort_values('label_ind', ascending=True)"
      ]
    },
    {
      "cell_type": "code",
      "execution_count": 11,
      "metadata": {
        "colab": {
          "base_uri": "https://localhost:8080/",
          "height": 423
        },
        "id": "tt02ggsr7vdJ",
        "outputId": "cb21caaa-3900-4778-cc49-00189b07ba7a"
      },
      "outputs": [
        {
          "output_type": "execute_result",
          "data": {
            "text/plain": [
              "       label_ind  label_val\n",
              "193  001dots.png        135\n",
              "194  002dots.png        233\n",
              "195  003dots.png         82\n",
              "188  004dots.png         86\n",
              "196  005dots.png         96\n",
              "..           ...        ...\n",
              "1    196dots.png         84\n",
              "4    197dots.png        218\n",
              "6    198dots.png         79\n",
              "20   199dots.png        153\n",
              "9    200dots.png        124\n",
              "\n",
              "[200 rows x 2 columns]"
            ],
            "text/html": [
              "\n",
              "  <div id=\"df-cc9ce040-4149-4910-af77-b5d5b6248a0c\">\n",
              "    <div class=\"colab-df-container\">\n",
              "      <div>\n",
              "<style scoped>\n",
              "    .dataframe tbody tr th:only-of-type {\n",
              "        vertical-align: middle;\n",
              "    }\n",
              "\n",
              "    .dataframe tbody tr th {\n",
              "        vertical-align: top;\n",
              "    }\n",
              "\n",
              "    .dataframe thead th {\n",
              "        text-align: right;\n",
              "    }\n",
              "</style>\n",
              "<table border=\"1\" class=\"dataframe\">\n",
              "  <thead>\n",
              "    <tr style=\"text-align: right;\">\n",
              "      <th></th>\n",
              "      <th>label_ind</th>\n",
              "      <th>label_val</th>\n",
              "    </tr>\n",
              "  </thead>\n",
              "  <tbody>\n",
              "    <tr>\n",
              "      <th>193</th>\n",
              "      <td>001dots.png</td>\n",
              "      <td>135</td>\n",
              "    </tr>\n",
              "    <tr>\n",
              "      <th>194</th>\n",
              "      <td>002dots.png</td>\n",
              "      <td>233</td>\n",
              "    </tr>\n",
              "    <tr>\n",
              "      <th>195</th>\n",
              "      <td>003dots.png</td>\n",
              "      <td>82</td>\n",
              "    </tr>\n",
              "    <tr>\n",
              "      <th>188</th>\n",
              "      <td>004dots.png</td>\n",
              "      <td>86</td>\n",
              "    </tr>\n",
              "    <tr>\n",
              "      <th>196</th>\n",
              "      <td>005dots.png</td>\n",
              "      <td>96</td>\n",
              "    </tr>\n",
              "    <tr>\n",
              "      <th>...</th>\n",
              "      <td>...</td>\n",
              "      <td>...</td>\n",
              "    </tr>\n",
              "    <tr>\n",
              "      <th>1</th>\n",
              "      <td>196dots.png</td>\n",
              "      <td>84</td>\n",
              "    </tr>\n",
              "    <tr>\n",
              "      <th>4</th>\n",
              "      <td>197dots.png</td>\n",
              "      <td>218</td>\n",
              "    </tr>\n",
              "    <tr>\n",
              "      <th>6</th>\n",
              "      <td>198dots.png</td>\n",
              "      <td>79</td>\n",
              "    </tr>\n",
              "    <tr>\n",
              "      <th>20</th>\n",
              "      <td>199dots.png</td>\n",
              "      <td>153</td>\n",
              "    </tr>\n",
              "    <tr>\n",
              "      <th>9</th>\n",
              "      <td>200dots.png</td>\n",
              "      <td>124</td>\n",
              "    </tr>\n",
              "  </tbody>\n",
              "</table>\n",
              "<p>200 rows × 2 columns</p>\n",
              "</div>\n",
              "      <button class=\"colab-df-convert\" onclick=\"convertToInteractive('df-cc9ce040-4149-4910-af77-b5d5b6248a0c')\"\n",
              "              title=\"Convert this dataframe to an interactive table.\"\n",
              "              style=\"display:none;\">\n",
              "        \n",
              "  <svg xmlns=\"http://www.w3.org/2000/svg\" height=\"24px\"viewBox=\"0 0 24 24\"\n",
              "       width=\"24px\">\n",
              "    <path d=\"M0 0h24v24H0V0z\" fill=\"none\"/>\n",
              "    <path d=\"M18.56 5.44l.94 2.06.94-2.06 2.06-.94-2.06-.94-.94-2.06-.94 2.06-2.06.94zm-11 1L8.5 8.5l.94-2.06 2.06-.94-2.06-.94L8.5 2.5l-.94 2.06-2.06.94zm10 10l.94 2.06.94-2.06 2.06-.94-2.06-.94-.94-2.06-.94 2.06-2.06.94z\"/><path d=\"M17.41 7.96l-1.37-1.37c-.4-.4-.92-.59-1.43-.59-.52 0-1.04.2-1.43.59L10.3 9.45l-7.72 7.72c-.78.78-.78 2.05 0 2.83L4 21.41c.39.39.9.59 1.41.59.51 0 1.02-.2 1.41-.59l7.78-7.78 2.81-2.81c.8-.78.8-2.07 0-2.86zM5.41 20L4 18.59l7.72-7.72 1.47 1.35L5.41 20z\"/>\n",
              "  </svg>\n",
              "      </button>\n",
              "      \n",
              "  <style>\n",
              "    .colab-df-container {\n",
              "      display:flex;\n",
              "      flex-wrap:wrap;\n",
              "      gap: 12px;\n",
              "    }\n",
              "\n",
              "    .colab-df-convert {\n",
              "      background-color: #E8F0FE;\n",
              "      border: none;\n",
              "      border-radius: 50%;\n",
              "      cursor: pointer;\n",
              "      display: none;\n",
              "      fill: #1967D2;\n",
              "      height: 32px;\n",
              "      padding: 0 0 0 0;\n",
              "      width: 32px;\n",
              "    }\n",
              "\n",
              "    .colab-df-convert:hover {\n",
              "      background-color: #E2EBFA;\n",
              "      box-shadow: 0px 1px 2px rgba(60, 64, 67, 0.3), 0px 1px 3px 1px rgba(60, 64, 67, 0.15);\n",
              "      fill: #174EA6;\n",
              "    }\n",
              "\n",
              "    [theme=dark] .colab-df-convert {\n",
              "      background-color: #3B4455;\n",
              "      fill: #D2E3FC;\n",
              "    }\n",
              "\n",
              "    [theme=dark] .colab-df-convert:hover {\n",
              "      background-color: #434B5C;\n",
              "      box-shadow: 0px 1px 3px 1px rgba(0, 0, 0, 0.15);\n",
              "      filter: drop-shadow(0px 1px 2px rgba(0, 0, 0, 0.3));\n",
              "      fill: #FFFFFF;\n",
              "    }\n",
              "  </style>\n",
              "\n",
              "      <script>\n",
              "        const buttonEl =\n",
              "          document.querySelector('#df-cc9ce040-4149-4910-af77-b5d5b6248a0c button.colab-df-convert');\n",
              "        buttonEl.style.display =\n",
              "          google.colab.kernel.accessAllowed ? 'block' : 'none';\n",
              "\n",
              "        async function convertToInteractive(key) {\n",
              "          const element = document.querySelector('#df-cc9ce040-4149-4910-af77-b5d5b6248a0c');\n",
              "          const dataTable =\n",
              "            await google.colab.kernel.invokeFunction('convertToInteractive',\n",
              "                                                     [key], {});\n",
              "          if (!dataTable) return;\n",
              "\n",
              "          const docLinkHtml = 'Like what you see? Visit the ' +\n",
              "            '<a target=\"_blank\" href=https://colab.research.google.com/notebooks/data_table.ipynb>data table notebook</a>'\n",
              "            + ' to learn more about interactive tables.';\n",
              "          element.innerHTML = '';\n",
              "          dataTable['output_type'] = 'display_data';\n",
              "          await google.colab.output.renderOutput(dataTable, element);\n",
              "          const docLink = document.createElement('div');\n",
              "          docLink.innerHTML = docLinkHtml;\n",
              "          element.appendChild(docLink);\n",
              "        }\n",
              "      </script>\n",
              "    </div>\n",
              "  </div>\n",
              "  "
            ]
          },
          "metadata": {},
          "execution_count": 11
        }
      ],
      "source": [
        "labels_df"
      ]
    },
    {
      "cell_type": "code",
      "execution_count": 12,
      "metadata": {
        "colab": {
          "base_uri": "https://localhost:8080/",
          "height": 206
        },
        "id": "MRaJ9hEMHj2T",
        "outputId": "f667c705-ed9c-4587-e578-202f0b37e4fb"
      },
      "outputs": [
        {
          "output_type": "execute_result",
          "data": {
            "text/plain": [
              "       label_ind  label_val\n",
              "193  001cell.png        135\n",
              "194  002cell.png        233\n",
              "195  003cell.png         82\n",
              "188  004cell.png         86\n",
              "196  005cell.png         96"
            ],
            "text/html": [
              "\n",
              "  <div id=\"df-33ce6020-b953-416a-9791-86890b3e913d\">\n",
              "    <div class=\"colab-df-container\">\n",
              "      <div>\n",
              "<style scoped>\n",
              "    .dataframe tbody tr th:only-of-type {\n",
              "        vertical-align: middle;\n",
              "    }\n",
              "\n",
              "    .dataframe tbody tr th {\n",
              "        vertical-align: top;\n",
              "    }\n",
              "\n",
              "    .dataframe thead th {\n",
              "        text-align: right;\n",
              "    }\n",
              "</style>\n",
              "<table border=\"1\" class=\"dataframe\">\n",
              "  <thead>\n",
              "    <tr style=\"text-align: right;\">\n",
              "      <th></th>\n",
              "      <th>label_ind</th>\n",
              "      <th>label_val</th>\n",
              "    </tr>\n",
              "  </thead>\n",
              "  <tbody>\n",
              "    <tr>\n",
              "      <th>193</th>\n",
              "      <td>001cell.png</td>\n",
              "      <td>135</td>\n",
              "    </tr>\n",
              "    <tr>\n",
              "      <th>194</th>\n",
              "      <td>002cell.png</td>\n",
              "      <td>233</td>\n",
              "    </tr>\n",
              "    <tr>\n",
              "      <th>195</th>\n",
              "      <td>003cell.png</td>\n",
              "      <td>82</td>\n",
              "    </tr>\n",
              "    <tr>\n",
              "      <th>188</th>\n",
              "      <td>004cell.png</td>\n",
              "      <td>86</td>\n",
              "    </tr>\n",
              "    <tr>\n",
              "      <th>196</th>\n",
              "      <td>005cell.png</td>\n",
              "      <td>96</td>\n",
              "    </tr>\n",
              "  </tbody>\n",
              "</table>\n",
              "</div>\n",
              "      <button class=\"colab-df-convert\" onclick=\"convertToInteractive('df-33ce6020-b953-416a-9791-86890b3e913d')\"\n",
              "              title=\"Convert this dataframe to an interactive table.\"\n",
              "              style=\"display:none;\">\n",
              "        \n",
              "  <svg xmlns=\"http://www.w3.org/2000/svg\" height=\"24px\"viewBox=\"0 0 24 24\"\n",
              "       width=\"24px\">\n",
              "    <path d=\"M0 0h24v24H0V0z\" fill=\"none\"/>\n",
              "    <path d=\"M18.56 5.44l.94 2.06.94-2.06 2.06-.94-2.06-.94-.94-2.06-.94 2.06-2.06.94zm-11 1L8.5 8.5l.94-2.06 2.06-.94-2.06-.94L8.5 2.5l-.94 2.06-2.06.94zm10 10l.94 2.06.94-2.06 2.06-.94-2.06-.94-.94-2.06-.94 2.06-2.06.94z\"/><path d=\"M17.41 7.96l-1.37-1.37c-.4-.4-.92-.59-1.43-.59-.52 0-1.04.2-1.43.59L10.3 9.45l-7.72 7.72c-.78.78-.78 2.05 0 2.83L4 21.41c.39.39.9.59 1.41.59.51 0 1.02-.2 1.41-.59l7.78-7.78 2.81-2.81c.8-.78.8-2.07 0-2.86zM5.41 20L4 18.59l7.72-7.72 1.47 1.35L5.41 20z\"/>\n",
              "  </svg>\n",
              "      </button>\n",
              "      \n",
              "  <style>\n",
              "    .colab-df-container {\n",
              "      display:flex;\n",
              "      flex-wrap:wrap;\n",
              "      gap: 12px;\n",
              "    }\n",
              "\n",
              "    .colab-df-convert {\n",
              "      background-color: #E8F0FE;\n",
              "      border: none;\n",
              "      border-radius: 50%;\n",
              "      cursor: pointer;\n",
              "      display: none;\n",
              "      fill: #1967D2;\n",
              "      height: 32px;\n",
              "      padding: 0 0 0 0;\n",
              "      width: 32px;\n",
              "    }\n",
              "\n",
              "    .colab-df-convert:hover {\n",
              "      background-color: #E2EBFA;\n",
              "      box-shadow: 0px 1px 2px rgba(60, 64, 67, 0.3), 0px 1px 3px 1px rgba(60, 64, 67, 0.15);\n",
              "      fill: #174EA6;\n",
              "    }\n",
              "\n",
              "    [theme=dark] .colab-df-convert {\n",
              "      background-color: #3B4455;\n",
              "      fill: #D2E3FC;\n",
              "    }\n",
              "\n",
              "    [theme=dark] .colab-df-convert:hover {\n",
              "      background-color: #434B5C;\n",
              "      box-shadow: 0px 1px 3px 1px rgba(0, 0, 0, 0.15);\n",
              "      filter: drop-shadow(0px 1px 2px rgba(0, 0, 0, 0.3));\n",
              "      fill: #FFFFFF;\n",
              "    }\n",
              "  </style>\n",
              "\n",
              "      <script>\n",
              "        const buttonEl =\n",
              "          document.querySelector('#df-33ce6020-b953-416a-9791-86890b3e913d button.colab-df-convert');\n",
              "        buttonEl.style.display =\n",
              "          google.colab.kernel.accessAllowed ? 'block' : 'none';\n",
              "\n",
              "        async function convertToInteractive(key) {\n",
              "          const element = document.querySelector('#df-33ce6020-b953-416a-9791-86890b3e913d');\n",
              "          const dataTable =\n",
              "            await google.colab.kernel.invokeFunction('convertToInteractive',\n",
              "                                                     [key], {});\n",
              "          if (!dataTable) return;\n",
              "\n",
              "          const docLinkHtml = 'Like what you see? Visit the ' +\n",
              "            '<a target=\"_blank\" href=https://colab.research.google.com/notebooks/data_table.ipynb>data table notebook</a>'\n",
              "            + ' to learn more about interactive tables.';\n",
              "          element.innerHTML = '';\n",
              "          dataTable['output_type'] = 'display_data';\n",
              "          await google.colab.output.renderOutput(dataTable, element);\n",
              "          const docLink = document.createElement('div');\n",
              "          docLink.innerHTML = docLinkHtml;\n",
              "          element.appendChild(docLink);\n",
              "        }\n",
              "      </script>\n",
              "    </div>\n",
              "  </div>\n",
              "  "
            ]
          },
          "metadata": {},
          "execution_count": 12
        }
      ],
      "source": [
        "# rename the label_ind name to fit image names and save a df with the image name and label\n",
        "image_labels_df = labels_df.copy()\n",
        "image_labels_df['label_ind'] = image_labels_df['label_ind'].str.replace('dots', 'cell')\n",
        "image_labels_df.head()"
      ]
    },
    {
      "cell_type": "markdown",
      "metadata": {
        "id": "foxRuX2t4_P4"
      },
      "source": [
        "Plot one image of label to see we understand our data:"
      ]
    },
    {
      "cell_type": "code",
      "execution_count": 13,
      "metadata": {
        "id": "1pG_muG4PKK4",
        "colab": {
          "base_uri": "https://localhost:8080/"
        },
        "outputId": "744bf8db-b321-47fe-89ea-4abcfc7c3daf"
      },
      "outputs": [
        {
          "output_type": "stream",
          "name": "stdout",
          "text": [
            "(256, 256, 3)\n"
          ]
        }
      ],
      "source": [
        "# Convert the PIL Image to a NumPy array\n",
        "array = np.array(image)\n",
        "\n",
        "# Print the shape of the array\n",
        "print(array.shape)"
      ]
    },
    {
      "cell_type": "markdown",
      "metadata": {
        "id": "0O21iTNzh-jI"
      },
      "source": [
        "we can see that each label has a dim of  (256,256,3)\n",
        "let's imshow it:"
      ]
    },
    {
      "cell_type": "code",
      "execution_count": 14,
      "metadata": {
        "id": "YN5Pg-fTiHQP",
        "colab": {
          "base_uri": "https://localhost:8080/",
          "height": 36
        },
        "outputId": "a6449720-47f6-40b6-a224-7a99bf9252bf"
      },
      "outputs": [
        {
          "output_type": "execute_result",
          "data": {
            "text/plain": [
              "'RGB'"
            ],
            "application/vnd.google.colaboratory.intrinsic+json": {
              "type": "string"
            }
          },
          "metadata": {},
          "execution_count": 14
        }
      ],
      "source": [
        "# image mode:\n",
        "image.mode"
      ]
    },
    {
      "cell_type": "code",
      "execution_count": 15,
      "metadata": {
        "colab": {
          "base_uri": "https://localhost:8080/",
          "height": 435
        },
        "id": "qDJrOAfiikxE",
        "outputId": "32c02075-02f0-4d19-f53f-9ef784a318fe"
      },
      "outputs": [
        {
          "output_type": "display_data",
          "data": {
            "text/plain": [
              "<Figure size 640x480 with 1 Axes>"
            ],
            "image/png": "[encoded data removed]"
          },
          "metadata": {}
        }
      ],
      "source": [
        "# Display the image using Matplotlib\n",
        "plt.imshow(array)\n",
        "plt.show()"
      ]
    },
    {
      "cell_type": "code",
      "execution_count": 16,
      "metadata": {
        "id": "eHOFgi7RPOBE"
      },
      "outputs": [],
      "source": [
        "# let's sum the values of each channel to make sure we have counts only in the red channel:\n",
        "summed_arr = np.sum(array, axis=0)\n",
        "sum = np.sum(summed_arr, axis=0)"
      ]
    },
    {
      "cell_type": "code",
      "execution_count": 17,
      "metadata": {
        "colab": {
          "base_uri": "https://localhost:8080/"
        },
        "id": "QZzUwKR-5xWd",
        "outputId": "2ebdc010-6f77-48ab-bf1d-3be40980e90b"
      },
      "outputs": [
        {
          "output_type": "execute_result",
          "data": {
            "text/plain": [
              "array([36465,     0,     0], dtype=uint64)"
            ]
          },
          "metadata": {},
          "execution_count": 17
        }
      ],
      "source": [
        "sum"
      ]
    },
    {
      "cell_type": "markdown",
      "metadata": {
        "id": "_pFK0weg5zzd"
      },
      "source": [
        "Indeed the values are only in the Red channel, BAM!"
      ]
    },
    {
      "cell_type": "markdown",
      "metadata": {
        "id": "0SSdKNOY6YoR"
      },
      "source": [
        "## 2) Loading the images with the cells (images)"
      ]
    },
    {
      "cell_type": "code",
      "execution_count": 18,
      "metadata": {
        "id": "_NIfeE3k80n7"
      },
      "outputs": [],
      "source": [
        "# Set the path to the folder containing the PNG images\n",
        "folder_path = '/content/drive/MyDrive/DeepLearningHW/HW_6/data/images' # Neta\n",
        "folder_path = 'drive/MyDrive/Y-data/HW_3_DL/cell-dataset/data/images'  # Lior\n",
        "\n",
        "# init the numpy arrays\n",
        "images = [] # ini a list of count - the label\n",
        "names = []  #init a list of label names/indeces\n",
        "\n",
        "# Loop through each image in the folder\n",
        "for filename in os.listdir(folder_path):\n",
        "    if filename.endswith(\".png\"):\n",
        "        image = Image.open(os.path.join(folder_path, filename))\n",
        "        images.append(image) # list of the images numpy array\n",
        "        names.append(filename) # list of images \"names\""
      ]
    },
    {
      "cell_type": "code",
      "execution_count": 19,
      "metadata": {
        "colab": {
          "base_uri": "https://localhost:8080/"
        },
        "id": "2Sl9qPpF80lV",
        "outputId": "491a9a48-f69f-4445-d1ac-12b75e81f69b"
      },
      "outputs": [
        {
          "output_type": "stream",
          "name": "stdout",
          "text": [
            "Images shape: 200\n",
            "Img_Names shape: 200\n"
          ]
        }
      ],
      "source": [
        "print(\"Images shape:\", len(images))\n",
        "print(\"Img_Names shape:\", len(names))"
      ]
    },
    {
      "cell_type": "code",
      "execution_count": 20,
      "metadata": {
        "colab": {
          "base_uri": "https://localhost:8080/",
          "height": 36
        },
        "id": "n5MDo8NFJtYT",
        "outputId": "a9196d5b-0a47-4127-a8cf-1347954e2256"
      },
      "outputs": [
        {
          "output_type": "execute_result",
          "data": {
            "text/plain": [
              "'RGB'"
            ],
            "application/vnd.google.colaboratory.intrinsic+json": {
              "type": "string"
            }
          },
          "metadata": {},
          "execution_count": 20
        }
      ],
      "source": [
        "# image mode:\n",
        "image.mode"
      ]
    },
    {
      "cell_type": "code",
      "execution_count": 21,
      "metadata": {
        "colab": {
          "base_uri": "https://localhost:8080/"
        },
        "id": "kAinGG8yPH4l",
        "outputId": "578a3ee6-49b1-4596-bde9-ce81b269f08c"
      },
      "outputs": [
        {
          "output_type": "execute_result",
          "data": {
            "text/plain": [
              "array([  28479,   32265, 4902634], dtype=uint64)"
            ]
          },
          "metadata": {},
          "execution_count": 21
        }
      ],
      "source": [
        "# let's sum the values of each channel to make sure we have counts only in the red channel:\n",
        "array = np.array(image)\n",
        "summed_arr = np.sum(array, axis=0)\n",
        "sum = np.sum(summed_arr, axis=0)\n",
        "sum"
      ]
    },
    {
      "cell_type": "code",
      "execution_count": 22,
      "metadata": {
        "colab": {
          "base_uri": "https://localhost:8080/",
          "height": 435
        },
        "id": "58DpHw3KJ1wx",
        "outputId": "ca0f5037-0ceb-48c5-d48b-fb7f98ff3ff6"
      },
      "outputs": [
        {
          "output_type": "display_data",
          "data": {
            "text/plain": [
              "<Figure size 640x480 with 1 Axes>"
            ],
            "image/png": "[encoded data removed]"
          },
          "metadata": {}
        }
      ],
      "source": [
        "# Display the image using Matplotlib\n",
        "import matplotlib.pyplot as plt\n",
        "\n",
        "plt.imshow(image)\n",
        "plt.show()"
      ]
    },
    {
      "cell_type": "markdown",
      "metadata": {
        "id": "h-M-acBNKFvL"
      },
      "source": [
        "Dataset class: get the images and image name and fit it with the right labels (= cell count)"
      ]
    },
    {
      "cell_type": "code",
      "source": [
        "class CustomImageDataset(Dataset):\n",
        "\n",
        "    def __init__(self, img_labels, img_dir, transform=None):\n",
        "        self.img_labels = img_labels\n",
        "        self.img_dir = img_dir\n",
        "        self.transform = transform\n",
        "\n",
        "    def __len__(self):\n",
        "        return len(self.img_labels)\n",
        "\n",
        "    def __getitem__(self, idx):\n",
        "        img_path = os.path.join(self.img_dir, self.img_labels.iloc[idx, 0])\n",
        "        image = Image.open(img_path)\n",
        "        label = self.img_labels.iloc[idx, 1]\n",
        "        if self.transform:\n",
        "            image = self.transform(image)\n",
        "        return image, label"
      ],
      "metadata": {
        "id": "EPZczTACkmF7"
      },
      "execution_count": 23,
      "outputs": []
    },
    {
      "cell_type": "markdown",
      "source": [
        "Divide to train, val and test sets and preprocess the data to fit the cnn net"
      ],
      "metadata": {
        "id": "eByiz8OmXVyh"
      }
    },
    {
      "cell_type": "markdown",
      "source": [
        "## 3) Creating Datasets, transform and process to fit the CNN"
      ],
      "metadata": {
        "id": "Aoplils2VkYk"
      }
    },
    {
      "cell_type": "code",
      "execution_count": 24,
      "metadata": {
        "id": "mPJvwTuoMRRq"
      },
      "outputs": [],
      "source": [
        "# img_dir = '/content/drive/MyDrive/DeepLearningHW/HW_6/data/images'  # Neta\n",
        "img_dir = folder_path\n",
        "\n",
        "# Define the transform:\n",
        "transform = transforms.Compose([\n",
        "    transforms.Resize(255),  # to fit the cnn\n",
        "    transforms.ToTensor()\n",
        "])\n",
        "\n",
        "# Divide to train val test datasets:\n",
        "train_set = CustomImageDataset(img_labels=image_labels_df[:-40], img_dir=img_dir, transform=transform)\n",
        "val_set = CustomImageDataset(img_labels=image_labels_df[160:180], img_dir=img_dir, transform=transform)\n",
        "test_set = CustomImageDataset(img_labels=image_labels_df[180:], img_dir=img_dir, transform=transform)\n",
        "\n",
        "# sub sets size\n",
        "dataset_sizes={'train': 0, 'val': 0, 'test': 0}\n",
        "dataset_sizes['train'] = len(train_set)\n",
        "dataset_sizes['val'] = len(val_set)\n",
        "dataset_sizes['test'] = len(test_set)"
      ]
    },
    {
      "cell_type": "code",
      "execution_count": 25,
      "metadata": {
        "colab": {
          "base_uri": "https://localhost:8080/"
        },
        "id": "tKrGMlk5OrMP",
        "outputId": "73bb2438-1422-443e-e39d-c4c7e69d3671"
      },
      "outputs": [
        {
          "output_type": "execute_result",
          "data": {
            "text/plain": [
              "{'train': 160, 'val': 20, 'test': 20}"
            ]
          },
          "metadata": {},
          "execution_count": 25
        }
      ],
      "source": [
        "dataset_sizes"
      ]
    },
    {
      "cell_type": "markdown",
      "metadata": {
        "id": "-rAUbk5rQQyU"
      },
      "source": [
        "## 4) Define a Data loader"
      ]
    },
    {
      "cell_type": "markdown",
      "source": [
        "## 4.1) Feel the data, hist plot the labels"
      ],
      "metadata": {
        "id": "82XsN5HCxHRu"
      }
    },
    {
      "cell_type": "code",
      "source": [
        "train_labels = labels_df.label_val[:160]\n",
        "val_labels = labels_df.label_val[160:180]\n",
        "test_labels = labels_df.label_val[180:]"
      ],
      "metadata": {
        "id": "yCpkImAFxK7T"
      },
      "execution_count": 26,
      "outputs": []
    },
    {
      "cell_type": "code",
      "source": [
        "print(f\"min label in train:{min(train_labels)} min label in val {min(val_labels)} min label in test {min(test_labels)}\")\n",
        "print(f\"mean label in train:{np.mean(train_labels)} mean label in val {np.mean(val_labels)} mean label in test {np.mean(test_labels)}\")\n",
        "print(f\"max label in train:{max(train_labels)} max label in val {max(val_labels)} max label in test {max(test_labels)}\")"
      ],
      "metadata": {
        "colab": {
          "base_uri": "https://localhost:8080/"
        },
        "id": "26LWR4R20RJk",
        "outputId": "f3b8dc60-bf0f-45b6-fc78-bc0ff288861c"
      },
      "execution_count": 27,
      "outputs": [
        {
          "output_type": "stream",
          "name": "stdout",
          "text": [
            "min label in train:74 min label in val 81 min label in test 79\n",
            "mean label in train:178.7125 mean label in val 159.6 mean label in test 170.3\n",
            "max label in train:317 max label in val 297 max label in test 292\n"
          ]
        }
      ]
    },
    {
      "cell_type": "code",
      "source": [
        "# plot training labels:\n",
        "plt.hist(train_labels,bins=5)\n",
        "plt.title('train set')"
      ],
      "metadata": {
        "colab": {
          "base_uri": "https://localhost:8080/",
          "height": 469
        },
        "id": "Hwm6ICLmyazQ",
        "outputId": "18b2f07a-f007-48f3-87b9-422505e04943"
      },
      "execution_count": 28,
      "outputs": [
        {
          "output_type": "execute_result",
          "data": {
            "text/plain": [
              "Text(0.5, 1.0, 'train set')"
            ]
          },
          "metadata": {},
          "execution_count": 28
        },
        {
          "output_type": "display_data",
          "data": {
            "text/plain": [
              "<Figure size 640x480 with 1 Axes>"
            ],
            "image/png": "[encoded data removed]"
          },
          "metadata": {}
        }
      ]
    },
    {
      "cell_type": "code",
      "source": [
        "# plot val labels:\n",
        "plt.hist(val_labels,bins=5)\n",
        "plt.title('val set')"
      ],
      "metadata": {
        "colab": {
          "base_uri": "https://localhost:8080/",
          "height": 469
        },
        "id": "1K-youFXyyi3",
        "outputId": "0ddcdb69-0952-45e1-a0e7-9e18454e91dd"
      },
      "execution_count": 29,
      "outputs": [
        {
          "output_type": "execute_result",
          "data": {
            "text/plain": [
              "Text(0.5, 1.0, 'val set')"
            ]
          },
          "metadata": {},
          "execution_count": 29
        },
        {
          "output_type": "display_data",
          "data": {
            "text/plain": [
              "<Figure size 640x480 with 1 Axes>"
            ],
            "image/png": "[encoded data removed]"
          },
          "metadata": {}
        }
      ]
    },
    {
      "cell_type": "code",
      "source": [
        "# plot test labels:\n",
        "plt.hist(test_labels,bins=5)\n",
        "plt.title('test set')"
      ],
      "metadata": {
        "colab": {
          "base_uri": "https://localhost:8080/",
          "height": 469
        },
        "id": "Wlx0M7WZzIl5",
        "outputId": "3a66bfa8-52f2-4399-b3cf-a9b3054c0c56"
      },
      "execution_count": 30,
      "outputs": [
        {
          "output_type": "execute_result",
          "data": {
            "text/plain": [
              "Text(0.5, 1.0, 'test set')"
            ]
          },
          "metadata": {},
          "execution_count": 30
        },
        {
          "output_type": "display_data",
          "data": {
            "text/plain": [
              "<Figure size 640x480 with 1 Axes>"
            ],
            "image/png": "[encoded data removed]"
          },
          "metadata": {}
        }
      ]
    },
    {
      "cell_type": "code",
      "source": [
        "batch_size = 16 # hyper param\n",
        "# batch_size = 8 # hyper param\n",
        "\n",
        "dataloaders = {\n",
        "    'train': DataLoader(train_set, batch_size=batch_size,\n",
        "                        shuffle=True, num_workers=0),\n",
        "    'val': DataLoader(val_set, batch_size=batch_size,\n",
        "                        shuffle=False, num_workers=0),\n",
        "    'test': DataLoader(test_set, batch_size=20,\n",
        "                        shuffle=False, num_workers=0)\n",
        "  }"
      ],
      "metadata": {
        "id": "dio-PxkmpnEs"
      },
      "execution_count": 31,
      "outputs": []
    },
    {
      "cell_type": "markdown",
      "source": [
        "Sanity check the dataloader"
      ],
      "metadata": {
        "id": "lk7pzLVaXq_T"
      }
    },
    {
      "cell_type": "code",
      "execution_count": 32,
      "metadata": {
        "colab": {
          "base_uri": "https://localhost:8080/"
        },
        "id": "lvaqLc6tUY07",
        "outputId": "c12c33b8-4cf6-4fcc-fc5c-dd839fafe2d1"
      },
      "outputs": [
        {
          "output_type": "stream",
          "name": "stdout",
          "text": [
            "Feature batch shape: torch.Size([16, 3, 255, 255])\n",
            "Labels batch shape: torch.Size([16])\n"
          ]
        }
      ],
      "source": [
        "train_features, train_labels = next(iter(dataloaders['train']))\n",
        "print(f\"Feature batch shape: {train_features.size()}\")\n",
        "print(f\"Labels batch shape: {train_labels.size()}\")"
      ]
    },
    {
      "cell_type": "code",
      "source": [
        "img = train_features[0].squeeze()  # remove dim of size 1 from the array\n",
        "label = train_labels[0]\n",
        "print(f\"Label: {label}\")\n",
        "image = img.numpy()\n",
        "image = np.transpose(image)\n",
        "plt.imshow(image)\n",
        "plt.show()"
      ],
      "metadata": {
        "colab": {
          "base_uri": "https://localhost:8080/",
          "height": 452
        },
        "id": "rZI2nrVLqjbg",
        "outputId": "f556bd55-2ebd-4f4c-f58e-3ff929e20318"
      },
      "execution_count": 33,
      "outputs": [
        {
          "output_type": "stream",
          "name": "stdout",
          "text": [
            "Label: 196\n"
          ]
        },
        {
          "output_type": "display_data",
          "data": {
            "text/plain": [
              "<Figure size 640x480 with 1 Axes>"
            ],
            "image/png": "[encoded data removed]"
          },
          "metadata": {}
        }
      ]
    },
    {
      "cell_type": "code",
      "source": [
        "image.shape"
      ],
      "metadata": {
        "colab": {
          "base_uri": "https://localhost:8080/"
        },
        "id": "sYvdnI5ozdW1",
        "outputId": "6e24c4cb-767d-4577-98dc-41db8c74eb67"
      },
      "execution_count": 34,
      "outputs": [
        {
          "output_type": "execute_result",
          "data": {
            "text/plain": [
              "(255, 255, 3)"
            ]
          },
          "metadata": {},
          "execution_count": 34
        }
      ]
    },
    {
      "cell_type": "code",
      "source": [
        "plt.hist(image[:,:,0])"
      ],
      "metadata": {
        "colab": {
          "base_uri": "https://localhost:8080/",
          "height": 621
        },
        "id": "J42TAzXzP9qP",
        "outputId": "ef7d7544-b479-4904-8a83-8e6f6e701176"
      },
      "execution_count": 35,
      "outputs": [
        {
          "output_type": "execute_result",
          "data": {
            "text/plain": [
              "(array([[153.,  87.,  14., ...,   0.,   0.,   0.],\n",
              "        [135.,  90.,  27., ...,   0.,   0.,   0.],\n",
              "        [142.,  92.,  18., ...,   0.,   0.,   0.],\n",
              "        ...,\n",
              "        [173.,  67.,  13., ...,   0.,   0.,   0.],\n",
              "        [143.,  82.,  22., ...,   0.,   0.,   0.],\n",
              "        [169.,  71.,  13., ...,   0.,   0.,   0.]]),\n",
              " array([0.        , 0.0027451 , 0.0054902 , 0.00823529, 0.01098039,\n",
              "        0.01372549, 0.01647059, 0.01921569, 0.02196078, 0.02470588,\n",
              "        0.02745098]),\n",
              " <a list of 255 BarContainer objects>)"
            ]
          },
          "metadata": {},
          "execution_count": 35
        },
        {
          "output_type": "display_data",
          "data": {
            "text/plain": [
              "<Figure size 640x480 with 1 Axes>"
            ],
            "image/png": "[encoded data removed]"
          },
          "metadata": {}
        }
      ]
    },
    {
      "cell_type": "code",
      "source": [
        "plt.hist(image[:,:,1])"
      ],
      "metadata": {
        "colab": {
          "base_uri": "https://localhost:8080/",
          "height": 621
        },
        "id": "EoKbiPOMWziS",
        "outputId": "2866aea8-8668-465a-d3f5-1450b4073a2d"
      },
      "execution_count": 36,
      "outputs": [
        {
          "output_type": "execute_result",
          "data": {
            "text/plain": [
              "(array([[167.,  67.,  18., ...,   0.,   0.,   0.],\n",
              "        [148.,  80.,  21., ...,   0.,   0.,   0.],\n",
              "        [151.,  87.,  15., ...,   0.,   0.,   0.],\n",
              "        ...,\n",
              "        [149.,  86.,  16., ...,   0.,   0.,   0.],\n",
              "        [154.,  76.,  20., ...,   0.,   0.,   0.],\n",
              "        [173.,  71.,   9., ...,   0.,   0.,   0.]]),\n",
              " array([0.        , 0.0027451 , 0.0054902 , 0.00823529, 0.01098039,\n",
              "        0.01372549, 0.01647059, 0.01921569, 0.02196078, 0.02470588,\n",
              "        0.02745098]),\n",
              " <a list of 255 BarContainer objects>)"
            ]
          },
          "metadata": {},
          "execution_count": 36
        },
        {
          "output_type": "display_data",
          "data": {
            "text/plain": [
              "<Figure size 640x480 with 1 Axes>"
            ],
            "image/png": "[encoded data removed]"
          },
          "metadata": {}
        }
      ]
    },
    {
      "cell_type": "code",
      "source": [
        "plt.hist(image[:,:,2])"
      ],
      "metadata": {
        "colab": {
          "base_uri": "https://localhost:8080/",
          "height": 621
        },
        "id": "SkxrcFq5ztuS",
        "outputId": "e09cf9f0-f755-4297-ab95-8d902a73eae6"
      },
      "execution_count": null,
      "outputs": [
        {
          "output_type": "execute_result",
          "data": {
            "text/plain": [
              "(array([[  0.,   8., 141., ...,   2.,   6.,   0.],\n",
              "        [  0.,   7., 143., ...,   1.,   7.,   0.],\n",
              "        [  0.,   4., 151., ...,   2.,   1.,   6.],\n",
              "        ...,\n",
              "        [ 39., 169.,   8., ...,   6.,   3.,   0.],\n",
              "        [ 40., 171.,  11., ...,   4.,   3.,   0.],\n",
              "        [ 47., 168.,  15., ...,   7.,   0.,   0.]]),\n",
              " array([0.        , 0.09921569, 0.19843137, 0.29764706, 0.39686275,\n",
              "        0.49607843, 0.59529412, 0.6945098 , 0.79372549, 0.89294118,\n",
              "        0.99215686]),\n",
              " <a list of 255 BarContainer objects>)"
            ]
          },
          "metadata": {},
          "execution_count": 35
        },
        {
          "output_type": "display_data",
          "data": {
            "text/plain": [
              "<Figure size 640x480 with 1 Axes>"
            ],
            "image/png": "[encoded data removed]"
          },
          "metadata": {}
        }
      ]
    },
    {
      "cell_type": "code",
      "source": [],
      "metadata": {
        "id": "dAjsZvvBP5xL"
      },
      "execution_count": null,
      "outputs": []
    },
    {
      "cell_type": "markdown",
      "source": [
        "Define ploting functions"
      ],
      "metadata": {
        "id": "vj_pSKmUXlBU"
      }
    },
    {
      "cell_type": "code",
      "source": [
        "def plot_convergence(dict_res, num_epochs):\n",
        "  '''plot the loss vs. trainig epochs'''\n",
        "  plt.figure()\n",
        "  plt.plot( dict_res['train'][0],'*-'); plt.plot(dict_res['val'][0],'*-')\n",
        "  plt.title('Loss')\n",
        "  plt.legend(['train','val'])\n",
        "  plt.figure()"
      ],
      "metadata": {
        "id": "FPc-UXZqs7Pb"
      },
      "execution_count": null,
      "outputs": []
    },
    {
      "cell_type": "code",
      "source": [
        "def plot_prediction(labels,outputs):\n",
        "  '''plot the predicted vs. true counts'''\n",
        "  plt.figure()\n",
        "  plt.scatter(labels.detach().numpy(), outputs.detach().numpy())\n",
        "  plt.title('Predicted Counts Vs. True Counts')\n",
        "  plt.xlabel('True Counts')\n",
        "  plt.ylabel('Predicted Counts')"
      ],
      "metadata": {
        "id": "J6Q4aQ0iX8jV"
      },
      "execution_count": null,
      "outputs": []
    },
    {
      "cell_type": "markdown",
      "source": [
        "# BEST MODEL SO FAR:"
      ],
      "metadata": {
        "id": "WV0fv3G4Hb1u"
      }
    },
    {
      "cell_type": "code",
      "execution_count": null,
      "metadata": {
        "id": "9lNRyoGJHvA3"
      },
      "outputs": [],
      "source": [
        "import torch\n",
        "import torch.nn as nn\n",
        "\n",
        "class CellCountingCNN(nn.Module):\n",
        "    def __init__(self):\n",
        "        super(CellCountingCNN, self).__init__()\n",
        "        \n",
        "        # convolutional layers\n",
        "        self.conv1 = nn.Conv2d(3, 16, kernel_size=3, stride=1, padding=1)\n",
        "        self.relu1 = nn.ReLU(inplace=True)\n",
        "        self.pool1 = nn.MaxPool2d(kernel_size=2, stride=2)\n",
        "        self.conv2 = nn.Conv2d(16, 32, kernel_size=3, stride=1, padding=1)\n",
        "        self.relu2 = nn.ReLU(inplace=True)\n",
        "        self.pool2 = nn.MaxPool2d(kernel_size=2, stride=2)\n",
        "        self.conv3 = nn.Conv2d(32, 64, kernel_size=3, stride=1, padding=1)\n",
        "        self.relu3 = nn.ReLU(inplace=True)\n",
        "        self.pool3 = nn.MaxPool2d(kernel_size=2, stride=2)\n",
        "        \n",
        "        # fully connected layers\n",
        "        self.fc1 = nn.Linear(64 * 31 * 31, 128)\n",
        "        self.relu4 = nn.ReLU(inplace=True)\n",
        "        #self.dropout = nn.Dropout(0.5)\n",
        "        self.fc2 = nn.Linear(128, 1)\n",
        "\n",
        "    def forward(self, x):\n",
        "        x = self.conv1(x)\n",
        "        x = self.relu1(x)\n",
        "        x = self.pool1(x)\n",
        "        x = self.conv2(x)\n",
        "        x = self.relu2(x)\n",
        "        x = self.pool2(x)\n",
        "        x = self.conv3(x)\n",
        "        x = self.relu3(x)\n",
        "        x = self.pool3(x)\n",
        "        x = x.view(x.size(0), -1)\n",
        "        x = self.fc1(x)\n",
        "        x = self.relu4(x)\n",
        "        x = self.fc2(x)\n",
        "        return x"
      ]
    },
    {
      "cell_type": "code",
      "source": [
        "from torchsummary import summary\n",
        "cnn = CellCountingCNN()\n",
        "# If a GPU is available, make the model use it\n",
        "mode1 = cnn.to(device)\n",
        "summary(mode1,(3,255,255))"
      ],
      "metadata": {
        "colab": {
          "base_uri": "https://localhost:8080/"
        },
        "outputId": "bf1f22a5-ea93-427e-a70d-c0a04cf2828d",
        "id": "HUj4k1L8HvA4"
      },
      "execution_count": null,
      "outputs": [
        {
          "output_type": "stream",
          "name": "stdout",
          "text": [
            "----------------------------------------------------------------\n",
            "        Layer (type)               Output Shape         Param #\n",
            "================================================================\n",
            "            Conv2d-1         [-1, 16, 255, 255]             448\n",
            "              ReLU-2         [-1, 16, 255, 255]               0\n",
            "         MaxPool2d-3         [-1, 16, 127, 127]               0\n",
            "            Conv2d-4         [-1, 32, 127, 127]           4,640\n",
            "              ReLU-5         [-1, 32, 127, 127]               0\n",
            "         MaxPool2d-6           [-1, 32, 63, 63]               0\n",
            "            Conv2d-7           [-1, 64, 63, 63]          18,496\n",
            "              ReLU-8           [-1, 64, 63, 63]               0\n",
            "         MaxPool2d-9           [-1, 64, 31, 31]               0\n",
            "           Linear-10                  [-1, 128]       7,872,640\n",
            "             ReLU-11                  [-1, 128]               0\n",
            "           Linear-12                    [-1, 1]             129\n",
            "================================================================\n",
            "Total params: 7,896,353\n",
            "Trainable params: 7,896,353\n",
            "Non-trainable params: 0\n",
            "----------------------------------------------------------------\n",
            "Input size (MB): 0.74\n",
            "Forward/backward pass size (MB): 31.04\n",
            "Params size (MB): 30.12\n",
            "Estimated Total Size (MB): 61.90\n",
            "----------------------------------------------------------------\n"
          ]
        }
      ]
    },
    {
      "cell_type": "code",
      "source": [
        "def train_model_1(model, dataloaders, criterion, optimizer, num_epochs=25):\n",
        "    since = time.time()\n",
        "\n",
        "    # Init variables that will save info about the best model\n",
        "    best_model_wts = copy.deepcopy(model.state_dict())\n",
        "    best_loss = 1000.0\n",
        "\n",
        "    train_res= np.zeros((2,num_epochs))\n",
        "    val_res=np.zeros((2,num_epochs))\n",
        "    dict_res={'train':train_res, 'val':val_res}\n",
        "\n",
        "    for epoch in range(num_epochs):\n",
        "        print('Epoch {}/{}'.format(epoch, num_epochs - 1))\n",
        "        print('-' * 10)\n",
        "\n",
        "        # Each epoch has a training and validation phase\n",
        "        for phase in ['train', 'val']:\n",
        "            if phase == 'train':\n",
        "                # Set model to training mode. \n",
        "                model.train()  \n",
        "            else:\n",
        "                # Set model to evaluate mode. In evaluate mode, we don't perform backprop and don't need to keep the gradients\n",
        "                model.eval()   \n",
        "\n",
        "            running_loss = 0.0\n",
        "            running_corrects = 0\n",
        "\n",
        "            # Iterate over data\n",
        "            for inputs, labels in dataloaders[phase]:\n",
        "                # Prepare the inputs for GPU/CPU\n",
        "                inputs = inputs.to(device)\n",
        "                labels = labels.to(device)\n",
        "\n",
        "                # zero the parameter gradients\n",
        "                optimizer.zero_grad()\n",
        "\n",
        "                # ===== forward pass ======\n",
        "                with torch.set_grad_enabled(phase=='train'):\n",
        "                    # If we're in train mode, we'll track the gradients to allow back-propagation\n",
        "                    outputs = model(inputs) # apply the model to the inputs. \n",
        "\n",
        "                    loss = criterion(outputs.squeeze(), labels.float())\n",
        "\n",
        "                    # ==== backward pass ====\n",
        "                    # This runs only in the training phase\n",
        "                    if phase == 'train':\n",
        "                        loss.backward() # Perform a step in the opposite direction of the gradient\n",
        "                        optimizer.step() # Adapt the optimizer\n",
        "\n",
        "                # Collect statistics\n",
        "                running_loss += loss.item() * inputs.size(0)\n",
        "\n",
        "            epoch_loss = running_loss / dataset_sizes[phase]\n",
        "\n",
        "            print(f'{phase} Loss: {epoch_loss:.4f}')\n",
        "\n",
        "            dict_res[phase][0,epoch]=epoch_loss\n",
        "\n",
        "            # Keep the results of the best model so far\n",
        "            if phase == 'val' and epoch_loss < best_loss:\n",
        "                best_loss = epoch_loss\n",
        "                # deepcopy the model\n",
        "                best_model_wts = copy.deepcopy(model.state_dict())\n",
        "\n",
        "        print()\n",
        "\n",
        "    time_elapsed = time.time() - since\n",
        "    print(f'Training complete in {(time_elapsed // 60):.0f}m {(time_elapsed % 60):.0f}s')\n",
        "    print(f'Best val loss: {best_loss:4f}')\n",
        "\n",
        "    # load best model weights\n",
        "    model.load_state_dict(best_model_wts)\n",
        "    return model, dict_res"
      ],
      "metadata": {
        "id": "ALvcRcMCHoap"
      },
      "execution_count": null,
      "outputs": []
    },
    {
      "cell_type": "code",
      "source": [
        "from torch.optim import lr_scheduler\n",
        "\n",
        "cnn = CellCountingCNN()\n",
        "# If a GPU is available, make the model use it\n",
        "mode1 = cnn.to(device)\n",
        "criterion = nn.L1Loss()  # MAE loss\n",
        "criterion = nn.MSELoss()\n",
        "optimizer = torch.optim.Adam(cnn.parameters(), lr=0.0001)\n",
        "# Decay LR by a factor of 0.1 every 7 epochs\n",
        "exp_lr_scheduler = lr_scheduler.StepLR(optimizer, step_size=7, gamma=0.1)\n",
        "\n",
        "num_epochs = 50"
      ],
      "metadata": {
        "id": "5jBk_KdMHoar"
      },
      "execution_count": null,
      "outputs": []
    },
    {
      "cell_type": "code",
      "source": [
        "# train\n",
        "model_1, dict_res = train_model_1(mode1, dataloaders, criterion, optimizer, num_epochs)"
      ],
      "metadata": {
        "colab": {
          "base_uri": "https://localhost:8080/"
        },
        "outputId": "1c616a8d-cba8-421c-9866-d0ac21edd84b",
        "id": "CXN76-6dHoar"
      },
      "execution_count": null,
      "outputs": [
        {
          "output_type": "stream",
          "name": "stdout",
          "text": [
            "Epoch 0/49\n",
            "----------\n",
            "train Loss: 35051.6686\n",
            "val Loss: 26961.7352\n",
            "\n",
            "Epoch 1/49\n",
            "----------\n",
            "train Loss: 32698.6918\n",
            "val Loss: 24074.5355\n",
            "\n",
            "Epoch 2/49\n",
            "----------\n",
            "train Loss: 28164.4504\n",
            "val Loss: 18738.5730\n",
            "\n",
            "Epoch 3/49\n",
            "----------\n",
            "train Loss: 20214.9310\n",
            "val Loss: 10395.0691\n",
            "\n",
            "Epoch 4/49\n",
            "----------\n",
            "train Loss: 9360.7512\n",
            "val Loss: 2294.0469\n",
            "\n",
            "Epoch 5/49\n",
            "----------\n",
            "train Loss: 2297.2662\n",
            "val Loss: 2812.0828\n",
            "\n",
            "Epoch 6/49\n",
            "----------\n",
            "train Loss: 2321.8311\n",
            "val Loss: 2059.7338\n",
            "\n",
            "Epoch 7/49\n",
            "----------\n",
            "train Loss: 1664.5683\n",
            "val Loss: 1281.1918\n",
            "\n",
            "Epoch 8/49\n",
            "----------\n",
            "train Loss: 1617.0922\n",
            "val Loss: 1318.8433\n",
            "\n",
            "Epoch 9/49\n",
            "----------\n",
            "train Loss: 1474.9255\n",
            "val Loss: 1390.8742\n",
            "\n",
            "Epoch 10/49\n",
            "----------\n",
            "train Loss: 1432.1436\n",
            "val Loss: 1374.7252\n",
            "\n",
            "Epoch 11/49\n",
            "----------\n",
            "train Loss: 1386.6460\n",
            "val Loss: 1231.9457\n",
            "\n",
            "Epoch 12/49\n",
            "----------\n",
            "train Loss: 1360.1936\n",
            "val Loss: 1288.2201\n",
            "\n",
            "Epoch 13/49\n",
            "----------\n",
            "train Loss: 1293.0035\n",
            "val Loss: 1189.5243\n",
            "\n",
            "Epoch 14/49\n",
            "----------\n",
            "train Loss: 1249.0899\n",
            "val Loss: 1158.4843\n",
            "\n",
            "Epoch 15/49\n",
            "----------\n",
            "train Loss: 1202.8205\n",
            "val Loss: 1065.1813\n",
            "\n",
            "Epoch 16/49\n",
            "----------\n",
            "train Loss: 1125.2668\n",
            "val Loss: 1065.3404\n",
            "\n",
            "Epoch 17/49\n",
            "----------\n",
            "train Loss: 1056.1133\n",
            "val Loss: 937.1535\n",
            "\n",
            "Epoch 18/49\n",
            "----------\n",
            "train Loss: 999.6495\n",
            "val Loss: 876.2961\n",
            "\n",
            "Epoch 19/49\n",
            "----------\n",
            "train Loss: 933.6543\n",
            "val Loss: 877.6345\n",
            "\n",
            "Epoch 20/49\n",
            "----------\n",
            "train Loss: 875.8429\n",
            "val Loss: 744.5209\n",
            "\n",
            "Epoch 21/49\n",
            "----------\n",
            "train Loss: 821.8067\n",
            "val Loss: 792.0854\n",
            "\n",
            "Epoch 22/49\n",
            "----------\n",
            "train Loss: 751.0261\n",
            "val Loss: 613.0580\n",
            "\n",
            "Epoch 23/49\n",
            "----------\n",
            "train Loss: 682.7195\n",
            "val Loss: 635.7063\n",
            "\n",
            "Epoch 24/49\n",
            "----------\n",
            "train Loss: 612.5952\n",
            "val Loss: 532.5414\n",
            "\n",
            "Epoch 25/49\n",
            "----------\n",
            "train Loss: 561.8091\n",
            "val Loss: 501.5675\n",
            "\n",
            "Epoch 26/49\n",
            "----------\n",
            "train Loss: 494.9505\n",
            "val Loss: 421.9950\n",
            "\n",
            "Epoch 27/49\n",
            "----------\n",
            "train Loss: 443.5290\n",
            "val Loss: 398.3650\n",
            "\n",
            "Epoch 28/49\n",
            "----------\n",
            "train Loss: 408.5944\n",
            "val Loss: 332.4882\n",
            "\n",
            "Epoch 29/49\n",
            "----------\n",
            "train Loss: 350.8429\n",
            "val Loss: 298.3500\n",
            "\n",
            "Epoch 30/49\n",
            "----------\n",
            "train Loss: 301.6215\n",
            "val Loss: 246.2318\n",
            "\n",
            "Epoch 31/49\n",
            "----------\n",
            "train Loss: 284.4609\n",
            "val Loss: 246.3538\n",
            "\n",
            "Epoch 32/49\n",
            "----------\n",
            "train Loss: 230.7866\n",
            "val Loss: 183.8978\n",
            "\n",
            "Epoch 33/49\n",
            "----------\n",
            "train Loss: 206.2157\n",
            "val Loss: 165.0739\n",
            "\n",
            "Epoch 34/49\n",
            "----------\n",
            "train Loss: 178.3276\n",
            "val Loss: 133.7575\n",
            "\n",
            "Epoch 35/49\n",
            "----------\n",
            "train Loss: 155.9941\n",
            "val Loss: 116.6957\n",
            "\n",
            "Epoch 36/49\n",
            "----------\n",
            "train Loss: 132.0841\n",
            "val Loss: 110.9846\n",
            "\n",
            "Epoch 37/49\n",
            "----------\n",
            "train Loss: 118.6629\n",
            "val Loss: 84.9003\n",
            "\n",
            "Epoch 38/49\n",
            "----------\n",
            "train Loss: 124.0701\n",
            "val Loss: 97.3569\n",
            "\n",
            "Epoch 39/49\n",
            "----------\n",
            "train Loss: 94.0159\n",
            "val Loss: 66.8576\n",
            "\n",
            "Epoch 40/49\n",
            "----------\n",
            "train Loss: 86.8428\n",
            "val Loss: 62.4883\n",
            "\n",
            "Epoch 41/49\n",
            "----------\n",
            "train Loss: 77.4599\n",
            "val Loss: 55.9844\n",
            "\n",
            "Epoch 42/49\n",
            "----------\n",
            "train Loss: 72.9351\n",
            "val Loss: 54.9134\n",
            "\n",
            "Epoch 43/49\n",
            "----------\n",
            "train Loss: 71.0620\n",
            "val Loss: 49.7851\n",
            "\n",
            "Epoch 44/49\n",
            "----------\n",
            "train Loss: 69.5506\n",
            "val Loss: 58.6362\n",
            "\n",
            "Epoch 45/49\n",
            "----------\n",
            "train Loss: 67.1969\n",
            "val Loss: 46.2279\n",
            "\n",
            "Epoch 46/49\n",
            "----------\n",
            "train Loss: 67.5570\n",
            "val Loss: 45.0779\n",
            "\n",
            "Epoch 47/49\n",
            "----------\n",
            "train Loss: 62.2787\n",
            "val Loss: 44.6287\n",
            "\n",
            "Epoch 48/49\n",
            "----------\n",
            "train Loss: 60.6191\n",
            "val Loss: 44.0192\n",
            "\n",
            "Epoch 49/49\n",
            "----------\n",
            "train Loss: 58.9085\n",
            "val Loss: 43.4232\n",
            "\n",
            "Training complete in 6m 19s\n",
            "Best val loss: 43.423154\n"
          ]
        }
      ]
    },
    {
      "cell_type": "code",
      "source": [
        "plot_convergence(dict_res, num_epochs)"
      ],
      "metadata": {
        "id": "2gyH9ThDIMtY",
        "colab": {
          "base_uri": "https://localhost:8080/",
          "height": 469
        },
        "outputId": "551f07da-b87a-4c68-cd56-d50682c079bd"
      },
      "execution_count": null,
      "outputs": [
        {
          "output_type": "display_data",
          "data": {
            "text/plain": [
              "<Figure size 640x480 with 1 Axes>"
            ],
            "image/png": "[encoded data removed]"
          },
          "metadata": {}
        },
        {
          "output_type": "display_data",
          "data": {
            "text/plain": [
              "<Figure size 640x480 with 0 Axes>"
            ]
          },
          "metadata": {}
        }
      ]
    },
    {
      "cell_type": "code",
      "source": [
        "for inputs, labels in dataloaders['test']:\n",
        "  # Prepare the inputs for GPU/CPU\n",
        "  inputs = inputs.to(device)\n",
        "  labels = labels.to(device)\n",
        "\n",
        "outputs = model_1(inputs) # apply the model to the inputs. \n",
        "outputs.detach().numpy()\n"
      ],
      "metadata": {
        "colab": {
          "base_uri": "https://localhost:8080/"
        },
        "id": "WbukYdlUHoar",
        "outputId": "bfd71b61-26c1-425c-bdb0-931ca8d524f9"
      },
      "execution_count": null,
      "outputs": [
        {
          "output_type": "execute_result",
          "data": {
            "text/plain": [
              "array([[ 79.25673],\n",
              "       [281.97488],\n",
              "       [245.55673],\n",
              "       [221.60587],\n",
              "       [232.78662],\n",
              "       [219.40305],\n",
              "       [ 99.1914 ],\n",
              "       [144.32462],\n",
              "       [ 97.40625],\n",
              "       [265.97192],\n",
              "       [156.66196],\n",
              "       [130.6844 ],\n",
              "       [208.24852],\n",
              "       [167.92479],\n",
              "       [208.47018],\n",
              "       [ 89.36466],\n",
              "       [226.06642],\n",
              "       [ 79.53124],\n",
              "       [155.33484],\n",
              "       [127.1916 ]], dtype=float32)"
            ]
          },
          "metadata": {},
          "execution_count": 47
        }
      ]
    },
    {
      "cell_type": "code",
      "source": [
        "true_counts = labels.detach().numpy()"
      ],
      "metadata": {
        "id": "va03R9xGycSv"
      },
      "execution_count": null,
      "outputs": []
    },
    {
      "cell_type": "code",
      "source": [
        "model_BEST_MAE = np.sum(np.abs(labels.detach().numpy() - outputs.squeeze().detach().numpy()))/len(labels.detach().numpy())\n",
        "model_BEST_MAE"
      ],
      "metadata": {
        "colab": {
          "base_uri": "https://localhost:8080/"
        },
        "outputId": "57d61b18-577e-448d-c3b4-348b2d193d92",
        "id": "1R5KBj5GHoas"
      },
      "execution_count": null,
      "outputs": [
        {
          "output_type": "execute_result",
          "data": {
            "text/plain": [
              "5.967888641357422"
            ]
          },
          "metadata": {},
          "execution_count": 50
        }
      ]
    },
    {
      "cell_type": "code",
      "source": [
        "plot_prediction(labels,outputs)"
      ],
      "metadata": {
        "colab": {
          "base_uri": "https://localhost:8080/",
          "height": 472
        },
        "id": "qNM-zEJkHeB0",
        "outputId": "a04f5d78-7e54-4eb5-a0f7-91173e2db513"
      },
      "execution_count": null,
      "outputs": [
        {
          "output_type": "display_data",
          "data": {
            "text/plain": [
              "<Figure size 640x480 with 1 Axes>"
            ],
            "image/png": "[encoded data removed]"
          },
          "metadata": {}
        }
      ]
    },
    {
      "cell_type": "code",
      "source": [],
      "metadata": {
        "id": "aix_4OdlHeEE"
      },
      "execution_count": null,
      "outputs": []
    },
    {
      "cell_type": "markdown",
      "metadata": {
        "id": "IrNvv9ANbhxB"
      },
      "source": [
        "## 5) Model 1\n"
      ]
    },
    {
      "cell_type": "code",
      "execution_count": null,
      "metadata": {
        "id": "mfws_CS3bhCH"
      },
      "outputs": [],
      "source": [
        "import torch\n",
        "import torch.nn as nn\n",
        "\n",
        "class CellCountingCNN_Bigger(nn.Module):\n",
        "    def __init__(self):\n",
        "        super(CellCountingCNN_Bigger, self).__init__()\n",
        "        \n",
        "        # convolutional layers\n",
        "        self.conv1 = nn.Conv2d(3, 32, kernel_size=3, stride=1, padding=1)\n",
        "        self.relu1 = nn.ReLU(inplace=True)\n",
        "        self.pool1 = nn.MaxPool2d(kernel_size=2, stride=2)\n",
        "        self.conv2 = nn.Conv2d(32, 64, kernel_size=3, stride=1, padding=1)\n",
        "        self.relu2 = nn.ReLU(inplace=True)\n",
        "        self.pool2 = nn.MaxPool2d(kernel_size=2, stride=2)\n",
        "        self.conv3 = nn.Conv2d(64, 128, kernel_size=3, stride=1, padding=1)\n",
        "        self.relu3 = nn.ReLU(inplace=True)\n",
        "        self.pool3 = nn.MaxPool2d(kernel_size=2, stride=2)\n",
        "        \n",
        "        # fully connected layers\n",
        "        self.fc1 = nn.Linear(128 * 31 * 31, 256)\n",
        "        self.relu4 = nn.ReLU(inplace=True)\n",
        "        #self.dropout = nn.Dropout(0.5)\n",
        "        self.fc2 = nn.Linear(256, 1)\n",
        "\n",
        "    def forward(self, x):\n",
        "        x = self.conv1(x)\n",
        "        x = self.relu1(x)\n",
        "        x = self.pool1(x)\n",
        "        x = self.conv2(x)\n",
        "        x = self.relu2(x)\n",
        "        x = self.pool2(x)\n",
        "        x = self.conv3(x)\n",
        "        x = self.relu3(x)\n",
        "        x = self.pool3(x)\n",
        "        x = x.view(x.size(0), -1)\n",
        "        x = self.fc1(x)\n",
        "        x = self.relu4(x)\n",
        "        x = self.fc2(x)\n",
        "        return x"
      ]
    },
    {
      "cell_type": "code",
      "source": [
        "from torchsummary import summary\n",
        "cnn = CellCountingCNN_Bigger()\n",
        "# If a GPU is available, make the model use it\n",
        "mode1 = cnn.to(device)\n",
        "summary(mode1,(3,255,255))"
      ],
      "metadata": {
        "colab": {
          "base_uri": "https://localhost:8080/"
        },
        "id": "SMtd0isI34kw",
        "outputId": "3e644480-4340-40d0-d642-d27ac2739e3d"
      },
      "execution_count": null,
      "outputs": [
        {
          "output_type": "stream",
          "name": "stdout",
          "text": [
            "----------------------------------------------------------------\n",
            "        Layer (type)               Output Shape         Param #\n",
            "================================================================\n",
            "            Conv2d-1         [-1, 32, 255, 255]             896\n",
            "              ReLU-2         [-1, 32, 255, 255]               0\n",
            "         MaxPool2d-3         [-1, 32, 127, 127]               0\n",
            "            Conv2d-4         [-1, 64, 127, 127]          18,496\n",
            "              ReLU-5         [-1, 64, 127, 127]               0\n",
            "         MaxPool2d-6           [-1, 64, 63, 63]               0\n",
            "            Conv2d-7          [-1, 128, 63, 63]          73,856\n",
            "              ReLU-8          [-1, 128, 63, 63]               0\n",
            "         MaxPool2d-9          [-1, 128, 31, 31]               0\n",
            "           Linear-10                  [-1, 256]      31,490,304\n",
            "             ReLU-11                  [-1, 256]               0\n",
            "           Linear-12                    [-1, 1]             257\n",
            "================================================================\n",
            "Total params: 31,583,809\n",
            "Trainable params: 31,583,809\n",
            "Non-trainable params: 0\n",
            "----------------------------------------------------------------\n",
            "Input size (MB): 0.74\n",
            "Forward/backward pass size (MB): 62.07\n",
            "Params size (MB): 120.48\n",
            "Estimated Total Size (MB): 183.30\n",
            "----------------------------------------------------------------\n"
          ]
        }
      ]
    },
    {
      "cell_type": "markdown",
      "source": [
        "### 5.1) Training the CNN"
      ],
      "metadata": {
        "id": "lbj8ZNtejN5h"
      }
    },
    {
      "cell_type": "code",
      "source": [
        "def train_model_1(model, dataloaders, criterion, optimizer, num_epochs=25):\n",
        "    since = time.time()\n",
        "\n",
        "    # Init variables that will save info about the best model\n",
        "    best_model_wts = copy.deepcopy(model.state_dict())\n",
        "    best_loss = 1000.0\n",
        "\n",
        "    train_res= np.zeros((2,num_epochs))\n",
        "    val_res=np.zeros((2,num_epochs))\n",
        "    dict_res={'train':train_res, 'val':val_res}\n",
        "\n",
        "    for epoch in range(num_epochs):\n",
        "        print('Epoch {}/{}'.format(epoch, num_epochs - 1))\n",
        "        print('-' * 10)\n",
        "\n",
        "        # Each epoch has a training and validation phase\n",
        "        for phase in ['train', 'val']:\n",
        "            if phase == 'train':\n",
        "                # Set model to training mode. \n",
        "                model.train()  \n",
        "            else:\n",
        "                # Set model to evaluate mode. In evaluate mode, we don't perform backprop and don't need to keep the gradients\n",
        "                model.eval()   \n",
        "\n",
        "            running_loss = 0.0\n",
        "            running_corrects = 0\n",
        "\n",
        "            # Iterate over data\n",
        "            for inputs, labels in dataloaders[phase]:\n",
        "                # Prepare the inputs for GPU/CPU\n",
        "                inputs = inputs.to(device)\n",
        "                labels = labels.to(device)\n",
        "\n",
        "                # zero the parameter gradients\n",
        "                optimizer.zero_grad()\n",
        "\n",
        "                # ===== forward pass ======\n",
        "                with torch.set_grad_enabled(phase=='train'):\n",
        "                    # If we're in train mode, we'll track the gradients to allow back-propagation\n",
        "                    outputs = model(inputs) # apply the model to the inputs. \n",
        "\n",
        "                    loss = criterion(outputs.squeeze(), labels.float())\n",
        "\n",
        "                    # ==== backward pass ====\n",
        "                    # This runs only in the training phase\n",
        "                    if phase == 'train':\n",
        "                        loss.backward() # Perform a step in the opposite direction of the gradient\n",
        "                        optimizer.step() # Adapt the optimizer\n",
        "\n",
        "                # Collect statistics\n",
        "                running_loss += loss.item() * inputs.size(0)\n",
        "\n",
        "            epoch_loss = running_loss / dataset_sizes[phase]\n",
        "\n",
        "            print(f'{phase} Loss: {epoch_loss:.4f}')\n",
        "\n",
        "            dict_res[phase][0,epoch]=epoch_loss\n",
        "\n",
        "            # Keep the results of the best model so far\n",
        "            if phase == 'val' and epoch_loss < best_loss:\n",
        "                best_loss = epoch_loss\n",
        "                # deepcopy the model\n",
        "                best_model_wts = copy.deepcopy(model.state_dict())\n",
        "\n",
        "        print()\n",
        "\n",
        "    time_elapsed = time.time() - since\n",
        "    print(f'Training complete in {(time_elapsed // 60):.0f}m {(time_elapsed % 60):.0f}s')\n",
        "    print(f'Best val loss: {best_loss:4f}')\n",
        "\n",
        "    # load best model weights\n",
        "    model.load_state_dict(best_model_wts)\n",
        "    return model, dict_res"
      ],
      "metadata": {
        "id": "zHIatV1njFBj"
      },
      "execution_count": null,
      "outputs": []
    },
    {
      "cell_type": "markdown",
      "source": [
        "### 5.2) Training models"
      ],
      "metadata": {
        "id": "uAyBd5zKj2Kq"
      }
    },
    {
      "cell_type": "code",
      "execution_count": null,
      "metadata": {
        "id": "3KnESerIgyqi"
      },
      "outputs": [],
      "source": [
        "# init model:\n",
        "cnn = CellCountingCNN_Bigger()\n",
        "model1 = cnn.to(device)\n",
        "# define criterions:\n",
        "criterion = nn.L1Loss()  # MAE loss\n",
        "criterion = nn.MSELoss()\n",
        "optimizer = torch.optim.Adam(cnn.parameters(), lr=0.0001)\n",
        "num_epochs = 50"
      ]
    },
    {
      "cell_type": "code",
      "source": [
        "# train the model:\n",
        "model_1, dict_res = train_model_1(model1, dataloaders, criterion, optimizer, num_epochs)"
      ],
      "metadata": {
        "colab": {
          "base_uri": "https://localhost:8080/"
        },
        "id": "-IoCH3MamX6g",
        "outputId": "30010f81-3baf-4906-a0d1-9c0e15779e14"
      },
      "execution_count": null,
      "outputs": [
        {
          "output_type": "stream",
          "name": "stdout",
          "text": [
            "Epoch 0/49\n",
            "----------\n",
            "train Loss: 33798.7955\n",
            "val Loss: 23666.7680\n",
            "\n",
            "Epoch 1/49\n",
            "----------\n",
            "train Loss: 24206.4624\n",
            "val Loss: 10764.6870\n",
            "\n",
            "Epoch 2/49\n",
            "----------\n",
            "train Loss: 6431.9570\n",
            "val Loss: 2684.3524\n",
            "\n",
            "Epoch 3/49\n",
            "----------\n",
            "train Loss: 3425.6087\n",
            "val Loss: 2247.0673\n",
            "\n",
            "Epoch 4/49\n",
            "----------\n",
            "train Loss: 1815.5950\n",
            "val Loss: 1387.4357\n",
            "\n",
            "Epoch 5/49\n",
            "----------\n",
            "train Loss: 1763.5343\n",
            "val Loss: 1500.1423\n",
            "\n",
            "Epoch 6/49\n",
            "----------\n",
            "train Loss: 1594.6995\n",
            "val Loss: 1560.5661\n",
            "\n",
            "Epoch 7/49\n",
            "----------\n",
            "train Loss: 1453.7117\n",
            "val Loss: 1245.6629\n",
            "\n",
            "Epoch 8/49\n",
            "----------\n",
            "train Loss: 1441.4826\n",
            "val Loss: 1216.1455\n",
            "\n",
            "Epoch 9/49\n",
            "----------\n",
            "train Loss: 1328.5947\n",
            "val Loss: 1303.3965\n",
            "\n",
            "Epoch 10/49\n",
            "----------\n",
            "train Loss: 1218.8837\n",
            "val Loss: 1010.4568\n",
            "\n",
            "Epoch 11/49\n",
            "----------\n",
            "train Loss: 1119.8353\n",
            "val Loss: 1027.6002\n",
            "\n",
            "Epoch 12/49\n",
            "----------\n",
            "train Loss: 1009.8595\n",
            "val Loss: 907.3541\n",
            "\n",
            "Epoch 13/49\n",
            "----------\n",
            "train Loss: 965.9309\n",
            "val Loss: 870.4563\n",
            "\n",
            "Epoch 14/49\n",
            "----------\n",
            "train Loss: 834.9731\n",
            "val Loss: 743.7313\n",
            "\n",
            "Epoch 15/49\n",
            "----------\n",
            "train Loss: 725.4848\n",
            "val Loss: 594.2624\n",
            "\n",
            "Epoch 16/49\n",
            "----------\n",
            "train Loss: 633.2452\n",
            "val Loss: 557.5921\n",
            "\n",
            "Epoch 17/49\n",
            "----------\n",
            "train Loss: 553.1897\n",
            "val Loss: 541.7959\n",
            "\n",
            "Epoch 18/49\n",
            "----------\n",
            "train Loss: 463.0497\n",
            "val Loss: 349.7283\n",
            "\n",
            "Epoch 19/49\n",
            "----------\n",
            "train Loss: 386.1751\n",
            "val Loss: 262.0541\n",
            "\n",
            "Epoch 20/49\n",
            "----------\n",
            "train Loss: 300.0237\n",
            "val Loss: 241.7509\n",
            "\n",
            "Epoch 21/49\n",
            "----------\n",
            "train Loss: 215.2837\n",
            "val Loss: 146.5720\n",
            "\n",
            "Epoch 22/49\n",
            "----------\n",
            "train Loss: 152.1014\n",
            "val Loss: 107.9796\n",
            "\n",
            "Epoch 23/49\n",
            "----------\n",
            "train Loss: 115.6436\n",
            "val Loss: 73.6381\n",
            "\n",
            "Epoch 24/49\n",
            "----------\n",
            "train Loss: 87.0684\n",
            "val Loss: 62.1307\n",
            "\n",
            "Epoch 25/49\n",
            "----------\n",
            "train Loss: 72.1037\n",
            "val Loss: 59.2629\n",
            "\n",
            "Epoch 26/49\n",
            "----------\n",
            "train Loss: 65.6246\n",
            "val Loss: 44.3840\n",
            "\n",
            "Epoch 27/49\n",
            "----------\n",
            "train Loss: 60.7224\n",
            "val Loss: 42.2531\n",
            "\n",
            "Epoch 28/49\n",
            "----------\n",
            "train Loss: 63.4397\n",
            "val Loss: 42.0222\n",
            "\n",
            "Epoch 29/49\n",
            "----------\n",
            "train Loss: 61.7869\n",
            "val Loss: 44.5646\n",
            "\n",
            "Epoch 30/49\n",
            "----------\n",
            "train Loss: 53.1167\n",
            "val Loss: 41.6124\n",
            "\n",
            "Epoch 31/49\n",
            "----------\n",
            "train Loss: 56.2451\n",
            "val Loss: 41.0709\n",
            "\n",
            "Epoch 32/49\n",
            "----------\n",
            "train Loss: 61.3774\n",
            "val Loss: 62.0597\n",
            "\n",
            "Epoch 33/49\n",
            "----------\n",
            "train Loss: 59.0167\n",
            "val Loss: 53.4455\n",
            "\n",
            "Epoch 34/49\n",
            "----------\n",
            "train Loss: 53.9726\n",
            "val Loss: 40.9959\n",
            "\n",
            "Epoch 35/49\n",
            "----------\n",
            "train Loss: 47.3184\n",
            "val Loss: 45.3462\n",
            "\n",
            "Epoch 36/49\n",
            "----------\n",
            "train Loss: 51.0290\n",
            "val Loss: 62.0762\n",
            "\n",
            "Epoch 37/49\n",
            "----------\n",
            "train Loss: 66.5884\n",
            "val Loss: 73.8764\n",
            "\n",
            "Epoch 38/49\n",
            "----------\n",
            "train Loss: 61.6720\n",
            "val Loss: 39.8583\n",
            "\n",
            "Epoch 39/49\n",
            "----------\n",
            "train Loss: 42.4772\n",
            "val Loss: 39.9047\n",
            "\n",
            "Epoch 40/49\n",
            "----------\n",
            "train Loss: 40.3686\n",
            "val Loss: 40.8738\n",
            "\n",
            "Epoch 41/49\n",
            "----------\n",
            "train Loss: 39.4830\n",
            "val Loss: 40.0470\n",
            "\n",
            "Epoch 42/49\n",
            "----------\n",
            "train Loss: 43.9152\n",
            "val Loss: 41.5996\n",
            "\n",
            "Epoch 43/49\n",
            "----------\n",
            "train Loss: 55.9439\n",
            "val Loss: 40.6559\n",
            "\n",
            "Epoch 44/49\n",
            "----------\n",
            "train Loss: 40.9183\n",
            "val Loss: 43.1727\n",
            "\n",
            "Epoch 45/49\n",
            "----------\n",
            "train Loss: 36.3453\n",
            "val Loss: 40.1841\n",
            "\n",
            "Epoch 46/49\n",
            "----------\n",
            "train Loss: 34.7804\n",
            "val Loss: 38.9400\n",
            "\n",
            "Epoch 47/49\n",
            "----------\n",
            "train Loss: 34.5950\n",
            "val Loss: 38.0720\n",
            "\n",
            "Epoch 48/49\n",
            "----------\n",
            "train Loss: 35.8835\n",
            "val Loss: 38.1616\n",
            "\n",
            "Epoch 49/49\n",
            "----------\n",
            "train Loss: 38.7969\n",
            "val Loss: 37.8789\n",
            "\n",
            "Training complete in 17m 23s\n",
            "Best val loss: 37.878923\n"
          ]
        }
      ]
    },
    {
      "cell_type": "markdown",
      "source": [
        "### 5.3) Infering for test samples"
      ],
      "metadata": {
        "id": "yIY-CqLYYteU"
      }
    },
    {
      "cell_type": "code",
      "source": [
        "for inputs, labels in dataloaders['test']:\n",
        "  # Prepare the inputs for GPU/CPU\n",
        "  inputs = inputs.to(device)\n",
        "  labels = labels.to(device)\n"
      ],
      "metadata": {
        "id": "jbcCanNIfifl"
      },
      "execution_count": null,
      "outputs": []
    },
    {
      "cell_type": "code",
      "source": [
        "# outputs should be integers\n",
        "outputs = model_1(inputs) # apply the model to the inputs. \n",
        "outputs.detach().numpy()\n",
        "true_counts = labels.detach().numpy()"
      ],
      "metadata": {
        "id": "uGyNesxBZBic"
      },
      "execution_count": null,
      "outputs": []
    },
    {
      "cell_type": "markdown",
      "source": [
        "### 5.4) Calculated and Plot Results"
      ],
      "metadata": {
        "id": "esJkrk_haXGK"
      }
    },
    {
      "cell_type": "markdown",
      "source": [
        "![image.png](data:image/png;base64,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)"
      ],
      "metadata": {
        "id": "8VwJLiUL4Q72"
      }
    },
    {
      "cell_type": "code",
      "source": [
        "## calculate MAE\n",
        "model_1_MAE = np.sum(np.abs(labels.detach().numpy() - outputs.squeeze().detach().numpy()))/len(labels.detach().numpy())\n",
        "model_1_MAE"
      ],
      "metadata": {
        "colab": {
          "base_uri": "https://localhost:8080/"
        },
        "id": "vBtBaGO6abF5",
        "outputId": "5d9892d6-f24f-4238-dd6a-2a9426f661e9"
      },
      "execution_count": null,
      "outputs": [
        {
          "output_type": "execute_result",
          "data": {
            "text/plain": [
              "5.502239990234375"
            ]
          },
          "metadata": {},
          "execution_count": 60
        }
      ]
    },
    {
      "cell_type": "markdown",
      "source": [
        "Plot results"
      ],
      "metadata": {
        "id": "qAgtAbMebWfG"
      }
    },
    {
      "cell_type": "code",
      "source": [
        "plot_convergence(dict_res, num_epochs)"
      ],
      "metadata": {
        "colab": {
          "base_uri": "https://localhost:8080/",
          "height": 469
        },
        "id": "nVHjcqVXbbQS",
        "outputId": "cbfe6ffa-7a3b-4e6a-cb3d-8db43052af1a"
      },
      "execution_count": null,
      "outputs": [
        {
          "output_type": "display_data",
          "data": {
            "text/plain": [
              "<Figure size 640x480 with 1 Axes>"
            ],
            "image/png": "[encoded data removed]"
          },
          "metadata": {}
        },
        {
          "output_type": "display_data",
          "data": {
            "text/plain": [
              "<Figure size 640x480 with 0 Axes>"
            ]
          },
          "metadata": {}
        }
      ]
    },
    {
      "cell_type": "code",
      "source": [
        "plot_prediction(true_counts,outputs)"
      ],
      "metadata": {
        "colab": {
          "base_uri": "https://localhost:8080/",
          "height": 472
        },
        "id": "HAztlAATXa9K",
        "outputId": "e080a766-feb6-4d7f-e56b-ffd94c24f871"
      },
      "execution_count": null,
      "outputs": [
        {
          "output_type": "display_data",
          "data": {
            "text/plain": [
              "<Figure size 640x480 with 1 Axes>"
            ],
            "image/png": "[encoded data removed]"
          },
          "metadata": {}
        }
      ]
    },
    {
      "cell_type": "markdown",
      "source": [
        "## 6) Model 2"
      ],
      "metadata": {
        "id": "jVv1gRjVekAD"
      }
    },
    {
      "cell_type": "markdown",
      "source": [
        "the CNN"
      ],
      "metadata": {
        "id": "Mnp5855ifDLP"
      }
    },
    {
      "cell_type": "code",
      "execution_count": null,
      "metadata": {
        "id": "iX8sFwvafFLp"
      },
      "outputs": [],
      "source": [
        "import torch\n",
        "import torch.nn as nn\n",
        "\n",
        "class CellCountingCNN(nn.Module):\n",
        "    def __init__(self):\n",
        "        super(CellCountingCNN, self).__init__()\n",
        "        \n",
        "        # convolutional layers\n",
        "        self.conv1 = nn.Conv2d(3, 16, kernel_size=3, stride=1, padding=1)\n",
        "        self.relu1 = nn.ReLU(inplace=True)\n",
        "        self.pool1 = nn.MaxPool2d(kernel_size=2, stride=2)\n",
        "        self.conv2 = nn.Conv2d(16, 32, kernel_size=3, stride=1, padding=1)\n",
        "        self.relu2 = nn.ReLU(inplace=True)\n",
        "        self.pool2 = nn.MaxPool2d(kernel_size=2, stride=2)\n",
        "        self.conv3 = nn.Conv2d(32, 64, kernel_size=3, stride=1, padding=1)\n",
        "        self.relu3 = nn.ReLU(inplace=True)\n",
        "        self.pool3 = nn.MaxPool2d(kernel_size=2, stride=2)\n",
        "        \n",
        "        # fully connected layers\n",
        "        self.fc1 = nn.Linear(64 * 31 * 31, 128)\n",
        "        self.relu4 = nn.ReLU(inplace=True)\n",
        "        #self.dropout = nn.Dropout(0.5)\n",
        "        self.fc2 = nn.Linear(128, 1)\n",
        "\n",
        "    def forward(self, x):\n",
        "        x = self.conv1(x)\n",
        "        x = self.relu1(x)\n",
        "        x = self.pool1(x)\n",
        "        x = self.conv2(x)\n",
        "        x = self.relu2(x)\n",
        "        x = self.pool2(x)\n",
        "        x = self.conv3(x)\n",
        "        x = self.relu3(x)\n",
        "        x = self.pool3(x)\n",
        "        x = x.view(x.size(0), -1)\n",
        "        x = self.fc1(x)\n",
        "        x = self.relu4(x)\n",
        "        x = self.fc2(x)\n",
        "        return x"
      ]
    },
    {
      "cell_type": "code",
      "source": [
        "from torchsummary import summary\n",
        "cnn = CellCountingCNN()\n",
        "# If a GPU is available, make the model use it\n",
        "mode1 = cnn.to(device)\n",
        "summary(mode1,(3,255,255))"
      ],
      "metadata": {
        "colab": {
          "base_uri": "https://localhost:8080/"
        },
        "outputId": "f67e9569-fb48-4ff9-b790-04e522175c54",
        "id": "pogsJpzSfFLq"
      },
      "execution_count": null,
      "outputs": [
        {
          "output_type": "stream",
          "name": "stdout",
          "text": [
            "----------------------------------------------------------------\n",
            "        Layer (type)               Output Shape         Param #\n",
            "================================================================\n",
            "            Conv2d-1         [-1, 16, 255, 255]             448\n",
            "              ReLU-2         [-1, 16, 255, 255]               0\n",
            "         MaxPool2d-3         [-1, 16, 127, 127]               0\n",
            "            Conv2d-4         [-1, 32, 127, 127]           4,640\n",
            "              ReLU-5         [-1, 32, 127, 127]               0\n",
            "         MaxPool2d-6           [-1, 32, 63, 63]               0\n",
            "            Conv2d-7           [-1, 64, 63, 63]          18,496\n",
            "              ReLU-8           [-1, 64, 63, 63]               0\n",
            "         MaxPool2d-9           [-1, 64, 31, 31]               0\n",
            "           Linear-10                  [-1, 128]       7,872,640\n",
            "             ReLU-11                  [-1, 128]               0\n",
            "           Linear-12                    [-1, 1]             129\n",
            "================================================================\n",
            "Total params: 7,896,353\n",
            "Trainable params: 7,896,353\n",
            "Non-trainable params: 0\n",
            "----------------------------------------------------------------\n",
            "Input size (MB): 0.74\n",
            "Forward/backward pass size (MB): 31.04\n",
            "Params size (MB): 30.12\n",
            "Estimated Total Size (MB): 61.90\n",
            "----------------------------------------------------------------\n"
          ]
        }
      ]
    },
    {
      "cell_type": "markdown",
      "source": [
        "training function"
      ],
      "metadata": {
        "id": "P9JVfqK3fKwi"
      }
    },
    {
      "cell_type": "code",
      "source": [
        "def train_model_2(model, dataloaders, criterion, optimizer, scheduler, num_epochs=25):\n",
        "    since = time.time()\n",
        "\n",
        "    # Init variables that will save info about the best model\n",
        "    best_model_wts = copy.deepcopy(model.state_dict())\n",
        "    best_loss = 1000.0\n",
        "\n",
        "    train_res= np.zeros((2,num_epochs))\n",
        "    val_res=np.zeros((2,num_epochs))\n",
        "    dict_res={'train':train_res, 'val':val_res}\n",
        "\n",
        "    for epoch in range(num_epochs):\n",
        "        print('Epoch {}/{}'.format(epoch, num_epochs - 1))\n",
        "        print('-' * 10)\n",
        "\n",
        "        # Each epoch has a training and validation phase\n",
        "        for phase in ['train', 'val']:\n",
        "            if phase == 'train':\n",
        "                # Set model to training mode. \n",
        "                model.train()  \n",
        "            else:\n",
        "                # Set model to evaluate mode. In evaluate mode, we don't perform backprop and don't need to keep the gradients\n",
        "                model.eval()   \n",
        "\n",
        "            running_loss = 0.0\n",
        "            running_corrects = 0\n",
        "\n",
        "            # Iterate over data\n",
        "            for inputs, labels in dataloaders[phase]:\n",
        "                # Prepare the inputs for GPU/CPU\n",
        "                inputs = inputs.to(device)\n",
        "                labels = labels.to(device)\n",
        "\n",
        "                # zero the parameter gradients\n",
        "                optimizer.zero_grad()\n",
        "\n",
        "                # ===== forward pass ======\n",
        "                with torch.set_grad_enabled(phase=='train'):\n",
        "                    # If we're in train mode, we'll track the gradients to allow back-propagation\n",
        "                    outputs = model(inputs) # apply the model to the inputs. \n",
        "                    loss = criterion(outputs.squeeze(), labels.float())\n",
        "\n",
        "                    # ==== backward pass + optimizer step ====\n",
        "                    # This runs only in the training phase\n",
        "                    if phase == 'train':\n",
        "                        loss.backward() # Perform a step in the opposite direction of the gradient\n",
        "                        optimizer.step() # Adapt the optimizer\n",
        "\n",
        "                # Collect statistics\n",
        "                running_loss += loss.item() * inputs.size(0)\n",
        "                \n",
        "            if phase == 'train':\n",
        "                # Adjust the learning rate based on the scheduler\n",
        "                scheduler.step()  \n",
        "\n",
        "            epoch_loss = running_loss / dataset_sizes[phase]\n",
        "\n",
        "            print(f'{phase} Loss: {epoch_loss:.4f}')\n",
        "\n",
        "            dict_res[phase][0,epoch]=epoch_loss\n",
        "\n",
        "            # Keep the results of the best model so far\n",
        "            if phase == 'val' and epoch_loss < best_loss:\n",
        "                best_loss = epoch_loss\n",
        "                # deepcopy the model\n",
        "                best_model_wts = copy.deepcopy(model.state_dict())\n",
        "\n",
        "        print()\n",
        "\n",
        "    time_elapsed = time.time() - since\n",
        "    print(f'Training complete in {(time_elapsed // 60):.0f}m {(time_elapsed % 60):.0f}s')\n",
        "    print(f'Best val loss: {best_loss:4f}')\n",
        "\n",
        "    # load best model weights\n",
        "    model.load_state_dict(best_model_wts)\n",
        "    return model, dict_res"
      ],
      "metadata": {
        "id": "DG82TjARfFLq"
      },
      "execution_count": null,
      "outputs": []
    },
    {
      "cell_type": "code",
      "source": [
        "# init the model\n",
        "cnn = CellCountingCNN()\n",
        "model2 = cnn.to(device)\n",
        "# define criterions:\n",
        "criterion = nn.L1Loss()  # MAE loss\n",
        "optimizer = torch.optim.SGD(cnn.parameters(), lr=0.001, momentum=0.9)\n",
        "# Decay LR by a factor of 0.1 every 7 epochs\n",
        "exp_lr_scheduler = lr_scheduler.StepLR(optimizer, step_size=7, gamma=0.1)\n",
        "num_epochs = 50"
      ],
      "metadata": {
        "id": "_-rrWK2MfFLr"
      },
      "execution_count": null,
      "outputs": []
    },
    {
      "cell_type": "code",
      "source": [
        "# train the model\n",
        "model_2, dict_res = train_model_2(model2, dataloaders, criterion, optimizer, exp_lr_scheduler, num_epochs)"
      ],
      "metadata": {
        "colab": {
          "base_uri": "https://localhost:8080/"
        },
        "outputId": "9b8cc571-9604-4a01-d735-887d510cc8cc",
        "id": "5UQLk6OOfFLr"
      },
      "execution_count": null,
      "outputs": [
        {
          "output_type": "stream",
          "name": "stdout",
          "text": [
            "Epoch 0/49\n",
            "----------\n",
            "train Loss: 178.4746\n",
            "val Loss: 159.0267\n",
            "\n",
            "Epoch 1/49\n",
            "----------\n",
            "train Loss: 176.7071\n",
            "val Loss: 151.7101\n",
            "\n",
            "Epoch 2/49\n",
            "----------\n",
            "train Loss: 146.5431\n",
            "val Loss: 139.6533\n",
            "\n",
            "Epoch 3/49\n",
            "----------\n",
            "train Loss: 109.6702\n",
            "val Loss: 43.0489\n",
            "\n",
            "Epoch 4/49\n",
            "----------\n",
            "train Loss: 63.7584\n",
            "val Loss: 50.5356\n",
            "\n",
            "Epoch 5/49\n",
            "----------\n",
            "train Loss: 50.2253\n",
            "val Loss: 45.1946\n",
            "\n",
            "Epoch 6/49\n",
            "----------\n",
            "train Loss: 68.8714\n",
            "val Loss: 28.7667\n",
            "\n",
            "Epoch 7/49\n",
            "----------\n",
            "train Loss: 30.3893\n",
            "val Loss: 24.2578\n",
            "\n",
            "Epoch 8/49\n",
            "----------\n",
            "train Loss: 35.9823\n",
            "val Loss: 26.4996\n",
            "\n",
            "Epoch 9/49\n",
            "----------\n",
            "train Loss: 39.2192\n",
            "val Loss: 40.7588\n",
            "\n",
            "Epoch 10/49\n",
            "----------\n",
            "train Loss: 30.8744\n",
            "val Loss: 29.9549\n",
            "\n",
            "Epoch 11/49\n",
            "----------\n",
            "train Loss: 22.3256\n",
            "val Loss: 15.4278\n",
            "\n",
            "Epoch 12/49\n",
            "----------\n",
            "train Loss: 16.4284\n",
            "val Loss: 11.6499\n",
            "\n",
            "Epoch 13/49\n",
            "----------\n",
            "train Loss: 11.7060\n",
            "val Loss: 16.0268\n",
            "\n",
            "Epoch 14/49\n",
            "----------\n",
            "train Loss: 10.7779\n",
            "val Loss: 9.3387\n",
            "\n",
            "Epoch 15/49\n",
            "----------\n",
            "train Loss: 8.1272\n",
            "val Loss: 8.3214\n",
            "\n",
            "Epoch 16/49\n",
            "----------\n",
            "train Loss: 8.4858\n",
            "val Loss: 9.4300\n",
            "\n",
            "Epoch 17/49\n",
            "----------\n",
            "train Loss: 7.4541\n",
            "val Loss: 7.5694\n",
            "\n",
            "Epoch 18/49\n",
            "----------\n",
            "train Loss: 7.0250\n",
            "val Loss: 6.8731\n",
            "\n",
            "Epoch 19/49\n",
            "----------\n",
            "train Loss: 6.5008\n",
            "val Loss: 6.6998\n",
            "\n",
            "Epoch 20/49\n",
            "----------\n",
            "train Loss: 6.8710\n",
            "val Loss: 6.8761\n",
            "\n",
            "Epoch 21/49\n",
            "----------\n",
            "train Loss: 6.2074\n",
            "val Loss: 6.5967\n",
            "\n",
            "Epoch 22/49\n",
            "----------\n",
            "train Loss: 6.1003\n",
            "val Loss: 6.5625\n",
            "\n",
            "Epoch 23/49\n",
            "----------\n",
            "train Loss: 6.0898\n",
            "val Loss: 6.5875\n",
            "\n",
            "Epoch 24/49\n",
            "----------\n",
            "train Loss: 6.0731\n",
            "val Loss: 6.5726\n",
            "\n",
            "Epoch 25/49\n",
            "----------\n",
            "train Loss: 6.0796\n",
            "val Loss: 6.5545\n",
            "\n",
            "Epoch 26/49\n",
            "----------\n",
            "train Loss: 6.0479\n",
            "val Loss: 6.5613\n",
            "\n",
            "Epoch 27/49\n",
            "----------\n",
            "train Loss: 6.0467\n",
            "val Loss: 6.5588\n",
            "\n",
            "Epoch 28/49\n",
            "----------\n",
            "train Loss: 6.0111\n",
            "val Loss: 6.5560\n",
            "\n",
            "Epoch 29/49\n",
            "----------\n",
            "train Loss: 6.0077\n",
            "val Loss: 6.5545\n",
            "\n",
            "Epoch 30/49\n",
            "----------\n",
            "train Loss: 6.0082\n",
            "val Loss: 6.5495\n",
            "\n",
            "Epoch 31/49\n",
            "----------\n",
            "train Loss: 6.0046\n",
            "val Loss: 6.5491\n",
            "\n",
            "Epoch 32/49\n",
            "----------\n",
            "train Loss: 6.0044\n",
            "val Loss: 6.5448\n",
            "\n",
            "Epoch 33/49\n",
            "----------\n",
            "train Loss: 6.0015\n",
            "val Loss: 6.5425\n",
            "\n",
            "Epoch 34/49\n",
            "----------\n",
            "train Loss: 6.0015\n",
            "val Loss: 6.5390\n",
            "\n",
            "Epoch 35/49\n",
            "----------\n",
            "train Loss: 5.9979\n",
            "val Loss: 6.5392\n",
            "\n",
            "Epoch 36/49\n",
            "----------\n",
            "train Loss: 5.9973\n",
            "val Loss: 6.5392\n",
            "\n",
            "Epoch 37/49\n",
            "----------\n",
            "train Loss: 5.9970\n",
            "val Loss: 6.5387\n",
            "\n",
            "Epoch 38/49\n",
            "----------\n",
            "train Loss: 5.9967\n",
            "val Loss: 6.5385\n",
            "\n",
            "Epoch 39/49\n",
            "----------\n",
            "train Loss: 5.9968\n",
            "val Loss: 6.5381\n",
            "\n",
            "Epoch 40/49\n",
            "----------\n",
            "train Loss: 5.9965\n",
            "val Loss: 6.5380\n",
            "\n",
            "Epoch 41/49\n",
            "----------\n",
            "train Loss: 5.9964\n",
            "val Loss: 6.5376\n",
            "\n",
            "Epoch 42/49\n",
            "----------\n",
            "train Loss: 5.9961\n",
            "val Loss: 6.5376\n",
            "\n",
            "Epoch 43/49\n",
            "----------\n",
            "train Loss: 5.9961\n",
            "val Loss: 6.5376\n",
            "\n",
            "Epoch 44/49\n",
            "----------\n",
            "train Loss: 5.9961\n",
            "val Loss: 6.5375\n",
            "\n",
            "Epoch 45/49\n",
            "----------\n",
            "train Loss: 5.9960\n",
            "val Loss: 6.5375\n",
            "\n",
            "Epoch 46/49\n",
            "----------\n",
            "train Loss: 5.9960\n",
            "val Loss: 6.5375\n",
            "\n",
            "Epoch 47/49\n",
            "----------\n",
            "train Loss: 5.9961\n",
            "val Loss: 6.5375\n",
            "\n",
            "Epoch 48/49\n",
            "----------\n",
            "train Loss: 5.9960\n",
            "val Loss: 6.5375\n",
            "\n",
            "Epoch 49/49\n",
            "----------\n",
            "train Loss: 5.9960\n",
            "val Loss: 6.5375\n",
            "\n",
            "Training complete in 5m 44s\n",
            "Best val loss: 6.537459\n"
          ]
        }
      ]
    },
    {
      "cell_type": "markdown",
      "source": [
        "calculate and plot results"
      ],
      "metadata": {
        "id": "oYYYIkYvfeZc"
      }
    },
    {
      "cell_type": "code",
      "source": [
        "# outputs should be integers\n",
        "outputs = model_2(inputs) # apply the model to the inputs. \n",
        "outputs.detach().numpy()\n",
        "true_counts = labels"
      ],
      "metadata": {
        "id": "sdSyBRjEfp3P"
      },
      "execution_count": null,
      "outputs": []
    },
    {
      "cell_type": "code",
      "source": [
        "## calculate MAE\n",
        "model_2_MAE = np.sum(np.abs(true_counts.detach().numpy() - outputs.squeeze().detach().numpy()))/len(true_counts.detach().numpy())\n",
        "model_2_MAE"
      ],
      "metadata": {
        "colab": {
          "base_uri": "https://localhost:8080/"
        },
        "outputId": "1762346c-146a-468c-9129-2e42733594bd",
        "id": "TrPWIbUJfp3Q"
      },
      "execution_count": null,
      "outputs": [
        {
          "output_type": "execute_result",
          "data": {
            "text/plain": [
              "6.860534286499023"
            ]
          },
          "metadata": {},
          "execution_count": 77
        }
      ]
    },
    {
      "cell_type": "code",
      "source": [
        "plot_convergence(dict_res, num_epochs)"
      ],
      "metadata": {
        "colab": {
          "base_uri": "https://localhost:8080/",
          "height": 469
        },
        "outputId": "2e1ca21e-f96d-42dd-84f1-bc0a63c1caa6",
        "id": "TGBL_vOyimn0"
      },
      "execution_count": null,
      "outputs": [
        {
          "output_type": "display_data",
          "data": {
            "text/plain": [
              "<Figure size 640x480 with 1 Axes>"
            ],
            "image/png": "[encoded data removed]"
          },
          "metadata": {}
        },
        {
          "output_type": "display_data",
          "data": {
            "text/plain": [
              "<Figure size 640x480 with 0 Axes>"
            ]
          },
          "metadata": {}
        }
      ]
    },
    {
      "cell_type": "code",
      "source": [
        "plot_prediction(true_counts,outputs)"
      ],
      "metadata": {
        "colab": {
          "base_uri": "https://localhost:8080/",
          "height": 472
        },
        "outputId": "db879a2e-e0ce-4a78-ff09-00d8200f69f7",
        "id": "xVZT6YArimn1"
      },
      "execution_count": null,
      "outputs": [
        {
          "output_type": "display_data",
          "data": {
            "text/plain": [
              "<Figure size 640x480 with 1 Axes>"
            ],
            "image/png": "[encoded data removed]"
          },
          "metadata": {}
        }
      ]
    },
    {
      "cell_type": "markdown",
      "source": [
        "## 7) Model 3 - the bignet from model 1 with param of model 2:"
      ],
      "metadata": {
        "id": "6HmE31xXjEsV"
      }
    },
    {
      "cell_type": "code",
      "source": [
        "# init the model\n",
        "cnn = CellCountingCNN_Bigger()\n",
        "model3 = cnn.to(device)\n",
        "# define criterions:\n",
        "criterion = nn.L1Loss()  # MAE loss\n",
        "optimizer = torch.optim.SGD(cnn.parameters(), lr=0.0005, momentum=0.9)\n",
        "# Decay LR by a factor of 0.1 every 7 epochs\n",
        "exp_lr_scheduler = lr_scheduler.StepLR(optimizer, step_size=7, gamma=0.1)\n",
        "num_epochs = 50"
      ],
      "metadata": {
        "id": "1qKEgpMhjlcj"
      },
      "execution_count": null,
      "outputs": []
    },
    {
      "cell_type": "code",
      "source": [
        "# train the model\n",
        "model_3, dict_res = train_model_2(model3, dataloaders, criterion, optimizer, exp_lr_scheduler, num_epochs)"
      ],
      "metadata": {
        "colab": {
          "base_uri": "https://localhost:8080/",
          "height": 450
        },
        "outputId": "e0a818e7-16e9-40a6-a59a-84eaac3de787",
        "id": "yfw-dBZQjlck"
      },
      "execution_count": null,
      "outputs": [
        {
          "output_type": "stream",
          "name": "stdout",
          "text": [
            "Epoch 0/49\n",
            "----------\n",
            "train Loss: 178.2104\n",
            "val Loss: 157.6877\n",
            "\n",
            "Epoch 1/49\n",
            "----------\n"
          ]
        },
        {
          "output_type": "error",
          "ename": "KeyboardInterrupt",
          "evalue": "ignored",
          "traceback": [
            "\u001b[0;31m---------------------------------------------------------------------------\u001b[0m",
            "\u001b[0;31mKeyboardInterrupt\u001b[0m                         Traceback (most recent call last)",
            "\u001b[0;32m<ipython-input-81-856c653657b0>\u001b[0m in \u001b[0;36m<cell line: 2>\u001b[0;34m()\u001b[0m\n\u001b[1;32m      1\u001b[0m \u001b[0;31m# train the model\u001b[0m\u001b[0;34m\u001b[0m\u001b[0;34m\u001b[0m\u001b[0m\n\u001b[0;32m----> 2\u001b[0;31m \u001b[0mmodel_3\u001b[0m\u001b[0;34m,\u001b[0m \u001b[0mdict_res\u001b[0m \u001b[0;34m=\u001b[0m \u001b[0mtrain_model_2\u001b[0m\u001b[0;34m(\u001b[0m\u001b[0mmodel3\u001b[0m\u001b[0;34m,\u001b[0m \u001b[0mdataloaders\u001b[0m\u001b[0;34m,\u001b[0m \u001b[0mcriterion\u001b[0m\u001b[0;34m,\u001b[0m \u001b[0moptimizer\u001b[0m\u001b[0;34m,\u001b[0m \u001b[0mexp_lr_scheduler\u001b[0m\u001b[0;34m,\u001b[0m \u001b[0mnum_epochs\u001b[0m\u001b[0;34m)\u001b[0m\u001b[0;34m\u001b[0m\u001b[0;34m\u001b[0m\u001b[0m\n\u001b[0m",
            "\u001b[0;32m<ipython-input-65-8ba88e91db6b>\u001b[0m in \u001b[0;36mtrain_model_2\u001b[0;34m(model, dataloaders, criterion, optimizer, scheduler, num_epochs)\u001b[0m\n\u001b[1;32m     38\u001b[0m                 \u001b[0;32mwith\u001b[0m \u001b[0mtorch\u001b[0m\u001b[0;34m.\u001b[0m\u001b[0mset_grad_enabled\u001b[0m\u001b[0;34m(\u001b[0m\u001b[0mphase\u001b[0m\u001b[0;34m==\u001b[0m\u001b[0;34m'train'\u001b[0m\u001b[0;34m)\u001b[0m\u001b[0;34m:\u001b[0m\u001b[0;34m\u001b[0m\u001b[0;34m\u001b[0m\u001b[0m\n\u001b[1;32m     39\u001b[0m                     \u001b[0;31m# If we're in train mode, we'll track the gradients to allow back-propagation\u001b[0m\u001b[0;34m\u001b[0m\u001b[0;34m\u001b[0m\u001b[0m\n\u001b[0;32m---> 40\u001b[0;31m                     \u001b[0moutputs\u001b[0m \u001b[0;34m=\u001b[0m \u001b[0mmodel\u001b[0m\u001b[0;34m(\u001b[0m\u001b[0minputs\u001b[0m\u001b[0;34m)\u001b[0m \u001b[0;31m# apply the model to the inputs.\u001b[0m\u001b[0;34m\u001b[0m\u001b[0;34m\u001b[0m\u001b[0m\n\u001b[0m\u001b[1;32m     41\u001b[0m                     \u001b[0mloss\u001b[0m \u001b[0;34m=\u001b[0m \u001b[0mcriterion\u001b[0m\u001b[0;34m(\u001b[0m\u001b[0moutputs\u001b[0m\u001b[0;34m.\u001b[0m\u001b[0msqueeze\u001b[0m\u001b[0;34m(\u001b[0m\u001b[0;34m)\u001b[0m\u001b[0;34m,\u001b[0m \u001b[0mlabels\u001b[0m\u001b[0;34m.\u001b[0m\u001b[0mfloat\u001b[0m\u001b[0;34m(\u001b[0m\u001b[0;34m)\u001b[0m\u001b[0;34m)\u001b[0m\u001b[0;34m\u001b[0m\u001b[0;34m\u001b[0m\u001b[0m\n\u001b[1;32m     42\u001b[0m \u001b[0;34m\u001b[0m\u001b[0m\n",
            "\u001b[0;32m/usr/local/lib/python3.10/dist-packages/torch/nn/modules/module.py\u001b[0m in \u001b[0;36m_call_impl\u001b[0;34m(self, *args, **kwargs)\u001b[0m\n\u001b[1;32m   1499\u001b[0m                 \u001b[0;32mor\u001b[0m \u001b[0m_global_backward_pre_hooks\u001b[0m \u001b[0;32mor\u001b[0m \u001b[0m_global_backward_hooks\u001b[0m\u001b[0;34m\u001b[0m\u001b[0;34m\u001b[0m\u001b[0m\n\u001b[1;32m   1500\u001b[0m                 or _global_forward_hooks or _global_forward_pre_hooks):\n\u001b[0;32m-> 1501\u001b[0;31m             \u001b[0;32mreturn\u001b[0m \u001b[0mforward_call\u001b[0m\u001b[0;34m(\u001b[0m\u001b[0;34m*\u001b[0m\u001b[0margs\u001b[0m\u001b[0;34m,\u001b[0m \u001b[0;34m**\u001b[0m\u001b[0mkwargs\u001b[0m\u001b[0;34m)\u001b[0m\u001b[0;34m\u001b[0m\u001b[0;34m\u001b[0m\u001b[0m\n\u001b[0m\u001b[1;32m   1502\u001b[0m         \u001b[0;31m# Do not call functions when jit is used\u001b[0m\u001b[0;34m\u001b[0m\u001b[0;34m\u001b[0m\u001b[0m\n\u001b[1;32m   1503\u001b[0m         \u001b[0mfull_backward_hooks\u001b[0m\u001b[0;34m,\u001b[0m \u001b[0mnon_full_backward_hooks\u001b[0m \u001b[0;34m=\u001b[0m \u001b[0;34m[\u001b[0m\u001b[0;34m]\u001b[0m\u001b[0;34m,\u001b[0m \u001b[0;34m[\u001b[0m\u001b[0;34m]\u001b[0m\u001b[0;34m\u001b[0m\u001b[0;34m\u001b[0m\u001b[0m\n",
            "\u001b[0;32m<ipython-input-53-69136938c614>\u001b[0m in \u001b[0;36mforward\u001b[0;34m(self, x)\u001b[0m\n\u001b[1;32m     27\u001b[0m         \u001b[0mx\u001b[0m \u001b[0;34m=\u001b[0m \u001b[0mself\u001b[0m\u001b[0;34m.\u001b[0m\u001b[0mrelu1\u001b[0m\u001b[0;34m(\u001b[0m\u001b[0mx\u001b[0m\u001b[0;34m)\u001b[0m\u001b[0;34m\u001b[0m\u001b[0;34m\u001b[0m\u001b[0m\n\u001b[1;32m     28\u001b[0m         \u001b[0mx\u001b[0m \u001b[0;34m=\u001b[0m \u001b[0mself\u001b[0m\u001b[0;34m.\u001b[0m\u001b[0mpool1\u001b[0m\u001b[0;34m(\u001b[0m\u001b[0mx\u001b[0m\u001b[0;34m)\u001b[0m\u001b[0;34m\u001b[0m\u001b[0;34m\u001b[0m\u001b[0m\n\u001b[0;32m---> 29\u001b[0;31m         \u001b[0mx\u001b[0m \u001b[0;34m=\u001b[0m \u001b[0mself\u001b[0m\u001b[0;34m.\u001b[0m\u001b[0mconv2\u001b[0m\u001b[0;34m(\u001b[0m\u001b[0mx\u001b[0m\u001b[0;34m)\u001b[0m\u001b[0;34m\u001b[0m\u001b[0;34m\u001b[0m\u001b[0m\n\u001b[0m\u001b[1;32m     30\u001b[0m         \u001b[0mx\u001b[0m \u001b[0;34m=\u001b[0m \u001b[0mself\u001b[0m\u001b[0;34m.\u001b[0m\u001b[0mrelu2\u001b[0m\u001b[0;34m(\u001b[0m\u001b[0mx\u001b[0m\u001b[0;34m)\u001b[0m\u001b[0;34m\u001b[0m\u001b[0;34m\u001b[0m\u001b[0m\n\u001b[1;32m     31\u001b[0m         \u001b[0mx\u001b[0m \u001b[0;34m=\u001b[0m \u001b[0mself\u001b[0m\u001b[0;34m.\u001b[0m\u001b[0mpool2\u001b[0m\u001b[0;34m(\u001b[0m\u001b[0mx\u001b[0m\u001b[0;34m)\u001b[0m\u001b[0;34m\u001b[0m\u001b[0;34m\u001b[0m\u001b[0m\n",
            "\u001b[0;32m/usr/local/lib/python3.10/dist-packages/torch/nn/modules/module.py\u001b[0m in \u001b[0;36m_call_impl\u001b[0;34m(self, *args, **kwargs)\u001b[0m\n\u001b[1;32m   1499\u001b[0m                 \u001b[0;32mor\u001b[0m \u001b[0m_global_backward_pre_hooks\u001b[0m \u001b[0;32mor\u001b[0m \u001b[0m_global_backward_hooks\u001b[0m\u001b[0;34m\u001b[0m\u001b[0;34m\u001b[0m\u001b[0m\n\u001b[1;32m   1500\u001b[0m                 or _global_forward_hooks or _global_forward_pre_hooks):\n\u001b[0;32m-> 1501\u001b[0;31m             \u001b[0;32mreturn\u001b[0m \u001b[0mforward_call\u001b[0m\u001b[0;34m(\u001b[0m\u001b[0;34m*\u001b[0m\u001b[0margs\u001b[0m\u001b[0;34m,\u001b[0m \u001b[0;34m**\u001b[0m\u001b[0mkwargs\u001b[0m\u001b[0;34m)\u001b[0m\u001b[0;34m\u001b[0m\u001b[0;34m\u001b[0m\u001b[0m\n\u001b[0m\u001b[1;32m   1502\u001b[0m         \u001b[0;31m# Do not call functions when jit is used\u001b[0m\u001b[0;34m\u001b[0m\u001b[0;34m\u001b[0m\u001b[0m\n\u001b[1;32m   1503\u001b[0m         \u001b[0mfull_backward_hooks\u001b[0m\u001b[0;34m,\u001b[0m \u001b[0mnon_full_backward_hooks\u001b[0m \u001b[0;34m=\u001b[0m \u001b[0;34m[\u001b[0m\u001b[0;34m]\u001b[0m\u001b[0;34m,\u001b[0m \u001b[0;34m[\u001b[0m\u001b[0;34m]\u001b[0m\u001b[0;34m\u001b[0m\u001b[0;34m\u001b[0m\u001b[0m\n",
            "\u001b[0;32m/usr/local/lib/python3.10/dist-packages/torch/nn/modules/conv.py\u001b[0m in \u001b[0;36mforward\u001b[0;34m(self, input)\u001b[0m\n\u001b[1;32m    461\u001b[0m \u001b[0;34m\u001b[0m\u001b[0m\n\u001b[1;32m    462\u001b[0m     \u001b[0;32mdef\u001b[0m \u001b[0mforward\u001b[0m\u001b[0;34m(\u001b[0m\u001b[0mself\u001b[0m\u001b[0;34m,\u001b[0m \u001b[0minput\u001b[0m\u001b[0;34m:\u001b[0m \u001b[0mTensor\u001b[0m\u001b[0;34m)\u001b[0m \u001b[0;34m->\u001b[0m \u001b[0mTensor\u001b[0m\u001b[0;34m:\u001b[0m\u001b[0;34m\u001b[0m\u001b[0;34m\u001b[0m\u001b[0m\n\u001b[0;32m--> 463\u001b[0;31m         \u001b[0;32mreturn\u001b[0m \u001b[0mself\u001b[0m\u001b[0;34m.\u001b[0m\u001b[0m_conv_forward\u001b[0m\u001b[0;34m(\u001b[0m\u001b[0minput\u001b[0m\u001b[0;34m,\u001b[0m \u001b[0mself\u001b[0m\u001b[0;34m.\u001b[0m\u001b[0mweight\u001b[0m\u001b[0;34m,\u001b[0m \u001b[0mself\u001b[0m\u001b[0;34m.\u001b[0m\u001b[0mbias\u001b[0m\u001b[0;34m)\u001b[0m\u001b[0;34m\u001b[0m\u001b[0;34m\u001b[0m\u001b[0m\n\u001b[0m\u001b[1;32m    464\u001b[0m \u001b[0;34m\u001b[0m\u001b[0m\n\u001b[1;32m    465\u001b[0m \u001b[0;32mclass\u001b[0m \u001b[0mConv3d\u001b[0m\u001b[0;34m(\u001b[0m\u001b[0m_ConvNd\u001b[0m\u001b[0;34m)\u001b[0m\u001b[0;34m:\u001b[0m\u001b[0;34m\u001b[0m\u001b[0;34m\u001b[0m\u001b[0m\n",
            "\u001b[0;32m/usr/local/lib/python3.10/dist-packages/torch/nn/modules/conv.py\u001b[0m in \u001b[0;36m_conv_forward\u001b[0;34m(self, input, weight, bias)\u001b[0m\n\u001b[1;32m    457\u001b[0m                             \u001b[0mweight\u001b[0m\u001b[0;34m,\u001b[0m \u001b[0mbias\u001b[0m\u001b[0;34m,\u001b[0m \u001b[0mself\u001b[0m\u001b[0;34m.\u001b[0m\u001b[0mstride\u001b[0m\u001b[0;34m,\u001b[0m\u001b[0;34m\u001b[0m\u001b[0;34m\u001b[0m\u001b[0m\n\u001b[1;32m    458\u001b[0m                             _pair(0), self.dilation, self.groups)\n\u001b[0;32m--> 459\u001b[0;31m         return F.conv2d(input, weight, bias, self.stride,\n\u001b[0m\u001b[1;32m    460\u001b[0m                         self.padding, self.dilation, self.groups)\n\u001b[1;32m    461\u001b[0m \u001b[0;34m\u001b[0m\u001b[0m\n",
            "\u001b[0;31mKeyboardInterrupt\u001b[0m: "
          ]
        }
      ]
    },
    {
      "cell_type": "code",
      "source": [
        "# calculated and plot results"
      ],
      "metadata": {
        "id": "WoYs4EanjuUk"
      },
      "execution_count": null,
      "outputs": []
    },
    {
      "cell_type": "markdown",
      "source": [
        "calculate and plot results"
      ],
      "metadata": {
        "id": "7pZWa1Kdj06x"
      }
    },
    {
      "cell_type": "code",
      "source": [
        "# outputs should be integers\n",
        "outputs = model_3(inputs) # apply the model to the inputs. \n",
        "outputs.detach().numpy()\n",
        "true_counts = labels"
      ],
      "metadata": {
        "id": "CvyhyWKOj06x"
      },
      "execution_count": null,
      "outputs": []
    },
    {
      "cell_type": "code",
      "source": [
        "## calculate MAE\n",
        "model_3_MAE = np.sum(np.abs(true_counts.detach().numpy() - outputs.squeeze().detach().numpy()))/len(true_counts.detach().numpy())\n",
        "model_3_MAE"
      ],
      "metadata": {
        "id": "stozdPocj06y",
        "colab": {
          "base_uri": "https://localhost:8080/"
        },
        "outputId": "bb978fc5-9283-4704-f132-b98bd65a1c43"
      },
      "execution_count": null,
      "outputs": [
        {
          "output_type": "execute_result",
          "data": {
            "text/plain": [
              "26.22709503173828"
            ]
          },
          "metadata": {},
          "execution_count": 94
        }
      ]
    },
    {
      "cell_type": "code",
      "source": [
        "plot_convergence(dict_res, num_epochs)"
      ],
      "metadata": {
        "id": "RVsk-EpRj06y"
      },
      "execution_count": null,
      "outputs": []
    },
    {
      "cell_type": "code",
      "source": [
        "plot_prediction(true_counts,outputs)"
      ],
      "metadata": {
        "id": "u6uPnfg3j06y"
      },
      "execution_count": null,
      "outputs": []
    },
    {
      "cell_type": "markdown",
      "source": [
        "## 8) Data Augmentation and Running on the Big CNN\n"
      ],
      "metadata": {
        "id": "QqHX39ExkCfu"
      }
    },
    {
      "cell_type": "markdown",
      "source": [
        "using the transform to perform data augmentation (and normalization)"
      ],
      "metadata": {
        "id": "KICaIXTXkGkt"
      }
    },
    {
      "cell_type": "code",
      "execution_count": null,
      "metadata": {
        "id": "HEUDT2snkVBl"
      },
      "outputs": [],
      "source": [
        "# img_dir = '/content/drive/MyDrive/DeepLearningHW/HW_6/data/images'  # Neta\n",
        "img_dir = folder_path\n",
        "\n",
        "# Define the transform:\n",
        "transform = transforms.Compose([\n",
        "    transforms.Resize(255),  # to fit the cnn\n",
        "    transforms.RandomHorizontalFlip(),\n",
        "    transforms.ToTensor(),\n",
        "    transforms.Normalize(mean=[0.5, 0.5, 0.5], std=[0.5, 0.5, 0.5])])\n",
        "\n",
        "# Divide to train val test datasets:\n",
        "train_set = CustomImageDataset(img_labels=image_labels_df[:-40], img_dir=img_dir, transform=transform)\n",
        "val_set = CustomImageDataset(img_labels=image_labels_df[160:180], img_dir=img_dir, transform=transform)\n",
        "test_set = CustomImageDataset(img_labels=image_labels_df[180:], img_dir=img_dir, transform=transform)\n",
        "\n",
        "# sub sets size\n",
        "dataset_sizes={'train': 0, 'val': 0, 'test': 0}\n",
        "dataset_sizes['train'] = len(train_set)\n",
        "dataset_sizes['val'] = len(val_set)\n",
        "dataset_sizes['test'] = len(test_set)"
      ]
    },
    {
      "cell_type": "code",
      "execution_count": null,
      "metadata": {
        "colab": {
          "base_uri": "https://localhost:8080/"
        },
        "outputId": "e574f616-f0dd-4a34-a264-b351c3bc1ba6",
        "id": "KCZ8FwF1kVBm"
      },
      "outputs": [
        {
          "output_type": "execute_result",
          "data": {
            "text/plain": [
              "{'train': 160, 'val': 20, 'test': 20}"
            ]
          },
          "metadata": {},
          "execution_count": 83
        }
      ],
      "source": [
        "dataset_sizes"
      ]
    },
    {
      "cell_type": "code",
      "source": [
        "batch_size = 16 # hyper param\n",
        "\n",
        "dataloaders = {\n",
        "    'train': DataLoader(train_set, batch_size=batch_size,\n",
        "                        shuffle=True, num_workers=0),\n",
        "    'val': DataLoader(val_set, batch_size=batch_size,\n",
        "                        shuffle=False, num_workers=0),\n",
        "    'test': DataLoader(test_set, batch_size=20,\n",
        "                        shuffle=False, num_workers=0)\n",
        "  }"
      ],
      "metadata": {
        "id": "Nf5tXt2zkVBm"
      },
      "execution_count": null,
      "outputs": []
    },
    {
      "cell_type": "markdown",
      "source": [
        "train"
      ],
      "metadata": {
        "id": "J-qZpPIXrCeB"
      }
    },
    {
      "cell_type": "code",
      "source": [
        "# init the model\n",
        "cnn = CellCountingCNN_Bigger()\n",
        "model4 = cnn.to(device)\n",
        "# define criterions:\n",
        "criterion = nn.MSELoss()  # MAE loss\n",
        "optimizer = torch.optim.Adam(cnn.parameters(), lr=0.0001)\n",
        "# Decay LR by a factor of 0.1 every 7 epochs\n",
        "num_epochs = 50"
      ],
      "metadata": {
        "id": "eb73hzL1rTp0"
      },
      "execution_count": null,
      "outputs": []
    },
    {
      "cell_type": "code",
      "source": [
        "# train the model\n",
        "\n",
        "model_4, dict_res = train_model_1(model4, dataloaders, criterion, optimizer, num_epochs)"
      ],
      "metadata": {
        "colab": {
          "base_uri": "https://localhost:8080/"
        },
        "outputId": "8d818cfa-8b06-419a-fcb3-dbd487421c55",
        "id": "L54IdbhbrTp0"
      },
      "execution_count": null,
      "outputs": [
        {
          "output_type": "stream",
          "name": "stdout",
          "text": [
            "Epoch 0/49\n",
            "----------\n",
            "train Loss: 31508.1387\n",
            "val Loss: 18034.7299\n",
            "\n",
            "Epoch 1/49\n",
            "----------\n",
            "train Loss: 13639.9706\n",
            "val Loss: 2735.7344\n",
            "\n",
            "Epoch 2/49\n",
            "----------\n",
            "train Loss: 5009.8523\n",
            "val Loss: 4564.4760\n",
            "\n",
            "Epoch 3/49\n",
            "----------\n",
            "train Loss: 3311.6955\n",
            "val Loss: 2374.1177\n",
            "\n",
            "Epoch 4/49\n",
            "----------\n",
            "train Loss: 2943.7598\n",
            "val Loss: 2460.7581\n",
            "\n",
            "Epoch 5/49\n",
            "----------\n",
            "train Loss: 2559.2579\n",
            "val Loss: 2048.9531\n",
            "\n",
            "Epoch 6/49\n",
            "----------\n",
            "train Loss: 2091.5242\n",
            "val Loss: 1525.3307\n",
            "\n",
            "Epoch 7/49\n",
            "----------\n",
            "train Loss: 1608.1214\n",
            "val Loss: 1210.4901\n",
            "\n",
            "Epoch 8/49\n",
            "----------\n",
            "train Loss: 1120.3082\n",
            "val Loss: 799.8287\n",
            "\n",
            "Epoch 9/49\n",
            "----------\n",
            "train Loss: 785.4597\n",
            "val Loss: 424.6093\n",
            "\n",
            "Epoch 10/49\n",
            "----------\n",
            "train Loss: 515.0653\n",
            "val Loss: 386.3084\n",
            "\n",
            "Epoch 11/49\n",
            "----------\n",
            "train Loss: 237.9050\n",
            "val Loss: 89.4331\n",
            "\n",
            "Epoch 12/49\n",
            "----------\n",
            "train Loss: 110.2916\n",
            "val Loss: 41.1638\n",
            "\n",
            "Epoch 13/49\n",
            "----------\n",
            "train Loss: 66.5258\n",
            "val Loss: 36.6976\n",
            "\n",
            "Epoch 14/49\n",
            "----------\n",
            "train Loss: 63.9739\n",
            "val Loss: 39.9090\n",
            "\n",
            "Epoch 15/49\n",
            "----------\n",
            "train Loss: 65.0446\n",
            "val Loss: 37.5571\n",
            "\n",
            "Epoch 16/49\n",
            "----------\n",
            "train Loss: 59.8568\n",
            "val Loss: 32.3729\n",
            "\n",
            "Epoch 17/49\n",
            "----------\n",
            "train Loss: 59.1204\n",
            "val Loss: 34.4477\n",
            "\n",
            "Epoch 18/49\n",
            "----------\n",
            "train Loss: 57.7342\n",
            "val Loss: 37.9819\n",
            "\n",
            "Epoch 19/49\n",
            "----------\n",
            "train Loss: 53.4962\n",
            "val Loss: 36.3875\n",
            "\n",
            "Epoch 20/49\n",
            "----------\n",
            "train Loss: 56.0004\n",
            "val Loss: 31.1044\n",
            "\n",
            "Epoch 21/49\n",
            "----------\n",
            "train Loss: 54.0652\n",
            "val Loss: 29.8327\n",
            "\n",
            "Epoch 22/49\n",
            "----------\n",
            "train Loss: 51.2578\n",
            "val Loss: 35.4820\n",
            "\n",
            "Epoch 23/49\n",
            "----------\n",
            "train Loss: 51.1320\n",
            "val Loss: 25.9813\n",
            "\n",
            "Epoch 24/49\n",
            "----------\n",
            "train Loss: 52.3582\n",
            "val Loss: 34.7373\n",
            "\n",
            "Epoch 25/49\n",
            "----------\n",
            "train Loss: 47.5359\n",
            "val Loss: 27.4739\n",
            "\n",
            "Epoch 26/49\n",
            "----------\n",
            "train Loss: 45.1241\n",
            "val Loss: 29.2588\n",
            "\n",
            "Epoch 27/49\n",
            "----------\n",
            "train Loss: 45.6986\n",
            "val Loss: 44.0763\n",
            "\n",
            "Epoch 28/49\n",
            "----------\n",
            "train Loss: 56.1903\n",
            "val Loss: 37.4741\n",
            "\n",
            "Epoch 29/49\n",
            "----------\n",
            "train Loss: 50.0320\n",
            "val Loss: 39.9340\n",
            "\n",
            "Epoch 30/49\n",
            "----------\n",
            "train Loss: 43.3022\n",
            "val Loss: 24.1956\n",
            "\n",
            "Epoch 31/49\n",
            "----------\n",
            "train Loss: 38.5315\n",
            "val Loss: 43.9108\n",
            "\n",
            "Epoch 32/49\n",
            "----------\n",
            "train Loss: 47.9256\n",
            "val Loss: 31.4471\n",
            "\n",
            "Epoch 33/49\n",
            "----------\n",
            "train Loss: 40.8775\n",
            "val Loss: 25.7752\n",
            "\n",
            "Epoch 34/49\n",
            "----------\n",
            "train Loss: 35.2622\n",
            "val Loss: 23.5669\n",
            "\n",
            "Epoch 35/49\n",
            "----------\n",
            "train Loss: 33.0314\n",
            "val Loss: 20.6254\n",
            "\n",
            "Epoch 36/49\n",
            "----------\n",
            "train Loss: 32.4839\n",
            "val Loss: 22.1288\n",
            "\n",
            "Epoch 37/49\n",
            "----------\n",
            "train Loss: 28.9736\n",
            "val Loss: 22.4670\n",
            "\n",
            "Epoch 38/49\n",
            "----------\n",
            "train Loss: 30.5152\n",
            "val Loss: 21.6264\n",
            "\n",
            "Epoch 39/49\n",
            "----------\n",
            "train Loss: 29.6019\n",
            "val Loss: 18.8543\n",
            "\n",
            "Epoch 40/49\n",
            "----------\n",
            "train Loss: 29.8096\n",
            "val Loss: 23.7623\n",
            "\n",
            "Epoch 41/49\n",
            "----------\n",
            "train Loss: 28.3033\n",
            "val Loss: 18.1749\n",
            "\n",
            "Epoch 42/49\n",
            "----------\n",
            "train Loss: 26.3650\n",
            "val Loss: 17.8149\n",
            "\n",
            "Epoch 43/49\n",
            "----------\n",
            "train Loss: 37.4418\n",
            "val Loss: 19.0477\n",
            "\n",
            "Epoch 44/49\n",
            "----------\n",
            "train Loss: 28.4667\n",
            "val Loss: 19.6965\n",
            "\n",
            "Epoch 45/49\n",
            "----------\n",
            "train Loss: 25.0697\n",
            "val Loss: 23.8645\n",
            "\n",
            "Epoch 46/49\n",
            "----------\n",
            "train Loss: 30.2079\n",
            "val Loss: 26.7062\n",
            "\n",
            "Epoch 47/49\n",
            "----------\n",
            "train Loss: 28.5657\n",
            "val Loss: 21.8370\n",
            "\n",
            "Epoch 48/49\n",
            "----------\n",
            "train Loss: 21.5790\n",
            "val Loss: 20.3174\n",
            "\n",
            "Epoch 49/49\n",
            "----------\n",
            "train Loss: 25.1695\n",
            "val Loss: 22.7239\n",
            "\n",
            "Training complete in 17m 4s\n",
            "Best val loss: 17.814865\n"
          ]
        }
      ]
    },
    {
      "cell_type": "code",
      "source": [
        "# outputs should be integers\n",
        "outputs = model_4(inputs) # apply the model to the inputs. \n",
        "outputs.detach().numpy()\n",
        "true_counts = labels"
      ],
      "metadata": {
        "id": "hM5R-pJkrTp0"
      },
      "execution_count": null,
      "outputs": []
    },
    {
      "cell_type": "code",
      "source": [
        "## calculate MAE\n",
        "model_4_MAE = np.sum(np.abs(true_counts.detach().numpy() - outputs.squeeze().detach().numpy()))/len(true_counts.detach().numpy())\n",
        "model_4_MAE"
      ],
      "metadata": {
        "colab": {
          "base_uri": "https://localhost:8080/"
        },
        "outputId": "d569ae62-6f55-4dd3-839d-1c068b09b5fc",
        "id": "XUVG7EzrrTp0"
      },
      "execution_count": null,
      "outputs": [
        {
          "output_type": "execute_result",
          "data": {
            "text/plain": [
              "26.22709503173828"
            ]
          },
          "metadata": {},
          "execution_count": 93
        }
      ]
    },
    {
      "cell_type": "code",
      "source": [
        "plot_convergence(dict_res, num_epochs)"
      ],
      "metadata": {
        "colab": {
          "base_uri": "https://localhost:8080/",
          "height": 469
        },
        "outputId": "a08c1b88-2ffb-4629-f361-c45514efeb79",
        "id": "Zc8vRg3OrTp0"
      },
      "execution_count": null,
      "outputs": [
        {
          "output_type": "display_data",
          "data": {
            "text/plain": [
              "<Figure size 640x480 with 1 Axes>"
            ],
            "image/png": "[encoded data removed]"
          },
          "metadata": {}
        },
        {
          "output_type": "display_data",
          "data": {
            "text/plain": [
              "<Figure size 640x480 with 0 Axes>"
            ]
          },
          "metadata": {}
        }
      ]
    },
    {
      "cell_type": "code",
      "source": [
        "plot_prediction(true_counts,outputs)"
      ],
      "metadata": {
        "colab": {
          "base_uri": "https://localhost:8080/",
          "height": 472
        },
        "outputId": "eb9d4b5c-8cc5-4ed3-d70e-43a30dd8d92b",
        "id": "3ecx8k6arTp1"
      },
      "execution_count": null,
      "outputs": [
        {
          "output_type": "display_data",
          "data": {
            "text/plain": [
              "<Figure size 640x480 with 1 Axes>"
            ],
            "image/png": "[encoded data removed]"
          },
          "metadata": {}
        }
      ]
    },
    {
      "cell_type": "markdown",
      "source": [
        "## 9) Updated train func where outputs are integers"
      ],
      "metadata": {
        "id": "82ekylQZk6Z1"
      }
    },
    {
      "cell_type": "code",
      "source": [],
      "metadata": {
        "id": "a0TM3YO9D2Sy"
      },
      "execution_count": null,
      "outputs": []
    },
    {
      "cell_type": "code",
      "source": [],
      "metadata": {
        "id": "tAfqvkYvD2VU"
      },
      "execution_count": null,
      "outputs": []
    },
    {
      "cell_type": "code",
      "source": [],
      "metadata": {
        "id": "ujL7Z4kYD2X_"
      },
      "execution_count": null,
      "outputs": []
    },
    {
      "cell_type": "code",
      "source": [],
      "metadata": {
        "id": "N5SpHCT9D2aX"
      },
      "execution_count": null,
      "outputs": []
    },
    {
      "cell_type": "markdown",
      "source": [],
      "metadata": {
        "id": "RzlagMwG6CwP"
      }
    },
    {
      "cell_type": "code",
      "source": [
        "def train_model_5(model, dataloaders, criterion, optimizer, scheduler, num_epochs=25):\n",
        "    since = time.time()\n",
        "\n",
        "    # Init variables that will save info about the best model\n",
        "    best_model_wts = copy.deepcopy(model.state_dict())\n",
        "    best_loss = 1000.0\n",
        "\n",
        "    train_res= np.zeros((2,num_epochs))\n",
        "    val_res=np.zeros((2,num_epochs))\n",
        "    dict_res={'train':train_res, 'val':val_res}\n",
        "\n",
        "    for epoch in range(num_epochs):\n",
        "        print('Epoch {}/{}'.format(epoch, num_epochs - 1))\n",
        "        print('-' * 10)\n",
        "\n",
        "        # Each epoch has a training and validation phase\n",
        "        for phase in ['train', 'val']:\n",
        "            if phase == 'train':\n",
        "                # Set model to training mode. \n",
        "                model.train()  \n",
        "            else:\n",
        "                # Set model to evaluate mode. In evaluate mode, we don't perform backprop and don't need to keep the gradients\n",
        "                model.eval()   \n",
        "\n",
        "            running_loss = 0.0\n",
        "            running_corrects = 0\n",
        "\n",
        "            # Iterate over data\n",
        "            for inputs, labels in dataloaders[phase]:\n",
        "                # Prepare the inputs for GPU/CPU\n",
        "                inputs = inputs.to(device)\n",
        "                labels = labels.to(device)\n",
        "\n",
        "                # zero the parameter gradients\n",
        "                optimizer.zero_grad()\n",
        "\n",
        "                # ===== forward pass ======\n",
        "                with torch.set_grad_enabled(phase=='train'):\n",
        "                    # If we're in train mode, we'll track the gradients to allow back-propagation\n",
        "                    outputs = model(inputs) # apply the model to the inputs. \n",
        "\n",
        "\n",
        "                    loss = criterion(outputs.squeeze(), labels.float())\n",
        "\n",
        "                    # ==== backward pass + optimizer step ====\n",
        "                    # This runs only in the training phase\n",
        "                    if phase == 'train':\n",
        "                        loss.backward() # Perform a step in the opposite direction of the gradient\n",
        "                        optimizer.step() # Adapt the optimizer\n",
        "\n",
        "                # Collect statistics\n",
        "                running_loss += loss.item() * inputs.size(0)\n",
        "                \n",
        "            if phase == 'train':\n",
        "                # Adjust the learning rate based on the scheduler\n",
        "                scheduler.step()  \n",
        "\n",
        "            epoch_loss = running_loss / dataset_sizes[phase]\n",
        "\n",
        "            print(f'{phase} Loss: {epoch_loss:.4f}')\n",
        "\n",
        "            dict_res[phase][0,epoch]=epoch_loss\n",
        "\n",
        "            # Keep the results of the best model so far\n",
        "            if phase == 'val' and epoch_loss < best_loss:\n",
        "                best_loss = epoch_loss\n",
        "                # deepcopy the model\n",
        "                best_model_wts = copy.deepcopy(model.state_dict())\n",
        "\n",
        "        print()\n",
        "\n",
        "    time_elapsed = time.time() - since\n",
        "    print(f'Training complete in {(time_elapsed // 60):.0f}m {(time_elapsed % 60):.0f}s')\n",
        "    print(f'Best loss Acc: {best_loss:4f}')\n",
        "\n",
        "    # load best model weights\n",
        "    model.load_state_dict(best_model_wts)\n",
        "    return model, dict_res"
      ],
      "metadata": {
        "id": "g4hFMgIw8S46"
      },
      "execution_count": null,
      "outputs": []
    },
    {
      "cell_type": "code",
      "source": [
        "from torch.optim import lr_scheduler\n",
        "\n",
        "cnn = CellCountingCNN()\n",
        "# If a GPU is available, make the model use it\n",
        "model5 = cnn.to(device)\n",
        "criterion = nn.L1Loss()  # MAE loss\n",
        "#criterion = nn.MSELoss()\n",
        "#optimizer = torch.optim.Adam(cnn.parameters(), lr=0.0001)\n",
        "optimizer = torch.optim.SGD(cnn.parameters(), lr=0.001, momentum=0.9)\n",
        "# Decay LR by a factor of 0.1 every 7 epochs\n",
        "exp_lr_scheduler = lr_scheduler.StepLR(optimizer, step_size=7, gamma=0.1)\n",
        "\n",
        "num_epochs = 50"
      ],
      "metadata": {
        "id": "CDttQuo471O7"
      },
      "execution_count": null,
      "outputs": []
    },
    {
      "cell_type": "code",
      "source": [
        "model_5, dict_res = train_model_5(model5, dataloaders, criterion, optimizer, exp_lr_scheduler, num_epochs)"
      ],
      "metadata": {
        "colab": {
          "base_uri": "https://localhost:8080/"
        },
        "outputId": "0fe283c0-175c-47b5-e08f-d4475f416d22",
        "id": "olvABzYs71O7"
      },
      "execution_count": null,
      "outputs": [
        {
          "output_type": "stream",
          "name": "stdout",
          "text": [
            "Epoch 0/49\n",
            "----------\n",
            "train Loss: 178.1620\n",
            "val Loss: 156.7261\n",
            "\n",
            "Epoch 1/49\n",
            "----------\n",
            "train Loss: 153.4149\n",
            "val Loss: 159.5761\n",
            "\n",
            "Epoch 2/49\n",
            "----------\n",
            "train Loss: 178.6208\n",
            "val Loss: 159.4515\n",
            "\n",
            "Epoch 3/49\n",
            "----------\n",
            "train Loss: 178.5053\n",
            "val Loss: 159.3103\n",
            "\n",
            "Epoch 4/49\n",
            "----------\n",
            "train Loss: 178.3282\n",
            "val Loss: 159.0629\n",
            "\n",
            "Epoch 5/49\n",
            "----------\n",
            "train Loss: 177.9030\n",
            "val Loss: 158.2221\n",
            "\n",
            "Epoch 6/49\n",
            "----------\n",
            "train Loss: 175.3568\n",
            "val Loss: 149.9217\n",
            "\n",
            "Epoch 7/49\n",
            "----------\n",
            "train Loss: 166.8362\n",
            "val Loss: 143.7018\n",
            "\n",
            "Epoch 8/49\n",
            "----------\n",
            "train Loss: 155.4557\n",
            "val Loss: 122.4233\n",
            "\n",
            "Epoch 9/49\n",
            "----------\n",
            "train Loss: 105.5648\n",
            "val Loss: 47.2153\n",
            "\n",
            "Epoch 10/49\n",
            "----------\n",
            "train Loss: 50.1911\n",
            "val Loss: 43.7484\n",
            "\n",
            "Epoch 11/49\n",
            "----------\n",
            "train Loss: 49.1665\n",
            "val Loss: 52.1231\n",
            "\n",
            "Epoch 12/49\n",
            "----------\n",
            "train Loss: 43.8510\n",
            "val Loss: 36.1925\n",
            "\n",
            "Epoch 13/49\n",
            "----------\n",
            "train Loss: 34.1288\n",
            "val Loss: 23.0122\n",
            "\n",
            "Epoch 14/49\n",
            "----------\n",
            "train Loss: 23.4610\n",
            "val Loss: 23.7501\n",
            "\n",
            "Epoch 15/49\n",
            "----------\n",
            "train Loss: 22.5295\n",
            "val Loss: 20.9165\n",
            "\n",
            "Epoch 16/49\n",
            "----------\n",
            "train Loss: 21.7090\n",
            "val Loss: 20.6620\n",
            "\n",
            "Epoch 17/49\n",
            "----------\n",
            "train Loss: 21.7046\n",
            "val Loss: 18.7465\n",
            "\n",
            "Epoch 18/49\n",
            "----------\n",
            "train Loss: 19.8102\n",
            "val Loss: 20.2306\n",
            "\n",
            "Epoch 19/49\n",
            "----------\n",
            "train Loss: 19.6491\n",
            "val Loss: 18.1961\n",
            "\n",
            "Epoch 20/49\n",
            "----------\n",
            "train Loss: 18.0996\n",
            "val Loss: 17.1534\n",
            "\n",
            "Epoch 21/49\n",
            "----------\n",
            "train Loss: 17.3679\n",
            "val Loss: 16.9944\n",
            "\n",
            "Epoch 22/49\n",
            "----------\n",
            "train Loss: 17.4947\n",
            "val Loss: 16.8263\n",
            "\n",
            "Epoch 23/49\n",
            "----------\n",
            "train Loss: 17.2464\n",
            "val Loss: 16.6892\n",
            "\n",
            "Epoch 24/49\n",
            "----------\n",
            "train Loss: 17.0997\n",
            "val Loss: 16.6475\n",
            "\n",
            "Epoch 25/49\n",
            "----------\n",
            "train Loss: 17.2775\n",
            "val Loss: 16.6984\n",
            "\n",
            "Epoch 26/49\n",
            "----------\n",
            "train Loss: 17.0701\n",
            "val Loss: 16.5279\n",
            "\n",
            "Epoch 27/49\n",
            "----------\n",
            "train Loss: 17.0310\n",
            "val Loss: 16.5107\n",
            "\n",
            "Epoch 28/49\n",
            "----------\n",
            "train Loss: 16.9467\n",
            "val Loss: 16.5230\n",
            "\n",
            "Epoch 29/49\n",
            "----------\n",
            "train Loss: 17.0584\n",
            "val Loss: 16.4498\n",
            "\n",
            "Epoch 30/49\n",
            "----------\n",
            "train Loss: 16.9708\n",
            "val Loss: 16.3221\n",
            "\n",
            "Epoch 31/49\n",
            "----------\n",
            "train Loss: 16.8675\n",
            "val Loss: 16.4881\n",
            "\n",
            "Epoch 32/49\n",
            "----------\n",
            "train Loss: 16.8100\n",
            "val Loss: 16.2770\n",
            "\n",
            "Epoch 33/49\n",
            "----------\n",
            "train Loss: 16.9315\n",
            "val Loss: 15.9998\n",
            "\n",
            "Epoch 34/49\n",
            "----------\n",
            "train Loss: 16.7590\n",
            "val Loss: 16.3604\n",
            "\n",
            "Epoch 35/49\n",
            "----------\n",
            "train Loss: 16.8563\n",
            "val Loss: 16.2744\n",
            "\n",
            "Epoch 36/49\n",
            "----------\n",
            "train Loss: 16.9152\n",
            "val Loss: 16.2765\n",
            "\n",
            "Epoch 37/49\n",
            "----------\n",
            "train Loss: 16.7716\n",
            "val Loss: 16.1871\n",
            "\n",
            "Epoch 38/49\n",
            "----------\n",
            "train Loss: 16.9909\n",
            "val Loss: 16.3593\n",
            "\n",
            "Epoch 39/49\n",
            "----------\n",
            "train Loss: 17.0190\n",
            "val Loss: 16.0639\n",
            "\n",
            "Epoch 40/49\n",
            "----------\n",
            "train Loss: 16.9563\n",
            "val Loss: 16.3418\n",
            "\n",
            "Epoch 41/49\n",
            "----------\n",
            "train Loss: 16.9336\n",
            "val Loss: 16.3145\n",
            "\n",
            "Epoch 42/49\n",
            "----------\n",
            "train Loss: 16.8608\n",
            "val Loss: 16.4449\n",
            "\n",
            "Epoch 43/49\n",
            "----------\n",
            "train Loss: 16.8809\n",
            "val Loss: 16.1766\n",
            "\n",
            "Epoch 44/49\n",
            "----------\n",
            "train Loss: 16.9037\n",
            "val Loss: 16.4123\n",
            "\n",
            "Epoch 45/49\n",
            "----------\n",
            "train Loss: 16.8527\n",
            "val Loss: 16.2733\n",
            "\n",
            "Epoch 46/49\n",
            "----------\n",
            "train Loss: 16.8925\n",
            "val Loss: 16.3604\n",
            "\n",
            "Epoch 47/49\n",
            "----------\n",
            "train Loss: 16.8884\n",
            "val Loss: 16.2885\n",
            "\n",
            "Epoch 48/49\n",
            "----------\n",
            "train Loss: 16.8676\n",
            "val Loss: 16.3330\n",
            "\n",
            "Epoch 49/49\n",
            "----------\n",
            "train Loss: 16.9672\n",
            "val Loss: 16.2786\n",
            "\n",
            "Training complete in 10m 25s\n",
            "Best loss Acc: 15.999783\n"
          ]
        }
      ]
    },
    {
      "cell_type": "code",
      "source": [
        "# outputs should be integers\n",
        "outputs = model_5(inputs) # apply the model to the inputs. \n",
        "outputs.detach().numpy()\n",
        "true_counts = labels"
      ],
      "metadata": {
        "id": "2RU6nLH5vxwy"
      },
      "execution_count": null,
      "outputs": []
    },
    {
      "cell_type": "code",
      "source": [
        "## calculate MAE\n",
        "model_5_MAE = np.sum(np.abs(true_counts.detach().numpy() - outputs.squeeze().detach().numpy()))/len(true_counts.detach().numpy())\n",
        "model_5_MAE"
      ],
      "metadata": {
        "colab": {
          "base_uri": "https://localhost:8080/"
        },
        "outputId": "f95565f1-923b-47d2-a7d8-0b1063942dcc",
        "id": "E257L0gsvxwz"
      },
      "execution_count": null,
      "outputs": [
        {
          "output_type": "execute_result",
          "data": {
            "text/plain": [
              "49.15"
            ]
          },
          "metadata": {},
          "execution_count": 114
        }
      ]
    },
    {
      "cell_type": "code",
      "source": [
        "plot_convergence(dict_res, num_epochs)"
      ],
      "metadata": {
        "colab": {
          "base_uri": "https://localhost:8080/",
          "height": 469
        },
        "outputId": "f7d667c4-e592-4f88-d633-4d8dafb5a486",
        "id": "DUWVYU70vxw0"
      },
      "execution_count": null,
      "outputs": [
        {
          "output_type": "display_data",
          "data": {
            "text/plain": [
              "<Figure size 640x480 with 1 Axes>"
            ],
            "image/png": "[encoded data removed]"
          },
          "metadata": {}
        },
        {
          "output_type": "display_data",
          "data": {
            "text/plain": [
              "<Figure size 640x480 with 0 Axes>"
            ]
          },
          "metadata": {}
        }
      ]
    },
    {
      "cell_type": "code",
      "source": [
        "plot_prediction(true_counts,outputs)"
      ],
      "metadata": {
        "colab": {
          "base_uri": "https://localhost:8080/",
          "height": 472
        },
        "outputId": "665e069d-2095-4ffc-9a3f-2e49ee40f9e5",
        "id": "7DwV3i0Evxw0"
      },
      "execution_count": null,
      "outputs": [
        {
          "output_type": "display_data",
          "data": {
            "text/plain": [
              "<Figure size 640x480 with 1 Axes>"
            ],
            "image/png": "[encoded data removed]"
          },
          "metadata": {}
        }
      ]
    },
    {
      "cell_type": "code",
      "source": [],
      "metadata": {
        "id": "GJfMBmfVD3rM"
      },
      "execution_count": null,
      "outputs": []
    },
    {
      "cell_type": "code",
      "source": [],
      "metadata": {
        "id": "e-TORcfmD3tq"
      },
      "execution_count": null,
      "outputs": []
    },
    {
      "cell_type": "code",
      "source": [],
      "metadata": {
        "id": "n5iq2MtvD39M"
      },
      "execution_count": null,
      "outputs": []
    },
    {
      "cell_type": "markdown",
      "source": [
        "## 10) Summary"
      ],
      "metadata": {
        "id": "LTnHhEfs6ETq"
      }
    },
    {
      "cell_type": "markdown",
      "source": [
        "1. we calculated the true labels from images of binary values.\n",
        "2. we loaded the labels and images into a dataloader. no special transformations\n",
        "3. we divided the data to train (1:160) val(160:180) and test (180:200) sets\n",
        "4. we created two cnns. one with 7milion param and the second with 30milion param.\n",
        "5. we tried two learning methods: Adam and SGD with decay.\n",
        "6. we tried data augmentation\n",
        "7. we didn't try regularization, since we didn't see any overfitting during training process.\n",
        "8. we didn't try trasnfer learning.\n",
        "9. we tried 2 sizes of batch - 8/16\n",
        "\n"
      ],
      "metadata": {
        "id": "Z1XqH0ig6HyA"
      }
    },
    {
      "cell_type": "markdown",
      "source": [
        "| Model  | Model 1 | Model 2 | Model 3 | Model 4 | Best Model |\n",
        "|:--------:|:-------:|:--------:|:--------:|:--------:|:--------:|\n",
        "| Param |  30mil   | 8mil | 30mil | 7mil |7mil |\n",
        "| Epoch |  50   | 50 | 50 | 50 | 50 |\n",
        "| criterion |  L2    | L1 | L1 |L1 |L2|\n",
        "| optimaizer |  Adam   | SGD +scheduler | SGD +scheduler |Adam |Adam |\n",
        "| batch size |  16   | 16 | 16 |16 + augmentation | 16|\n",
        "| **MAE** | **6.55** | **6.8** | **22** | **26** | **5.5**|"
      ],
      "metadata": {
        "id": "j6wMNNbS8LBc"
      }
    },
    {
      "cell_type": "code",
      "source": [
        "criterion = nn.L1Loss()  # MAE loss\n",
        "optimizer = torch.optim.SGD(cnn.parameters(), lr=0.0005, momentum=0.9)\n",
        "# Decay LR by a factor of 0.1 every 7 epochs\n",
        "exp_lr_scheduler = lr_scheduler.StepLR(optimizer, step_size=7, gamma=0.1)\n",
        "num_epochs = 50"
      ],
      "metadata": {
        "id": "jzTV1ym96Gnk"
      },
      "execution_count": null,
      "outputs": []
    }
  ]
}